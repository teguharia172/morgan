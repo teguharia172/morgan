{
 "cells": [
  {
   "cell_type": "code",
   "execution_count": 1,
   "id": "65bba422",
   "metadata": {
    "scrolled": true
   },
   "outputs": [],
   "source": [
    "import pandas as pd \n",
    "import numpy as np \n",
    "from pandas_datareader import data as wb\n",
    "import yfinance as yfin"
   ]
  },
  {
   "cell_type": "markdown",
   "id": "02adb15d",
   "metadata": {},
   "source": [
    "## Yfinance installed because data error type by only using pandas data_reader\n",
    "\n",
    "*Please refer to yahoo finance for all the ticker because it might've been different from your usual ticker*.\n",
    "\n",
    "The data in here are the only trading day data only, weekend and public holiday have been excluded"
   ]
  },
  {
   "cell_type": "code",
   "execution_count": 18,
   "id": "af65fe79",
   "metadata": {},
   "outputs": [],
   "source": [
    "yfin.pdr_override()"
   ]
  },
  {
   "cell_type": "code",
   "execution_count": 16,
   "id": "e845ffa8",
   "metadata": {},
   "outputs": [
    {
     "name": "stdout",
     "output_type": "stream",
     "text": [
      "[*********************100%***********************]  1 of 1 completed\n"
     ]
    }
   ],
   "source": [
    "pg = wb.get_data_yahoo('ITMG.jk', start = '2023-1-1')"
   ]
  },
  {
   "cell_type": "code",
   "execution_count": 21,
   "id": "3aa15473",
   "metadata": {},
   "outputs": [
    {
     "data": {
      "text/html": [
       "<div>\n",
       "<style scoped>\n",
       "    .dataframe tbody tr th:only-of-type {\n",
       "        vertical-align: middle;\n",
       "    }\n",
       "\n",
       "    .dataframe tbody tr th {\n",
       "        vertical-align: top;\n",
       "    }\n",
       "\n",
       "    .dataframe thead th {\n",
       "        text-align: right;\n",
       "    }\n",
       "</style>\n",
       "<table border=\"1\" class=\"dataframe\">\n",
       "  <thead>\n",
       "    <tr style=\"text-align: right;\">\n",
       "      <th></th>\n",
       "      <th>Open</th>\n",
       "      <th>High</th>\n",
       "      <th>Low</th>\n",
       "      <th>Close</th>\n",
       "      <th>Adj Close</th>\n",
       "      <th>Volume</th>\n",
       "    </tr>\n",
       "    <tr>\n",
       "      <th>Date</th>\n",
       "      <th></th>\n",
       "      <th></th>\n",
       "      <th></th>\n",
       "      <th></th>\n",
       "      <th></th>\n",
       "      <th></th>\n",
       "    </tr>\n",
       "  </thead>\n",
       "  <tbody>\n",
       "    <tr>\n",
       "      <th>2023-03-30</th>\n",
       "      <td>40950.0</td>\n",
       "      <td>41500.0</td>\n",
       "      <td>38400.0</td>\n",
       "      <td>39175.0</td>\n",
       "      <td>33025.843750</td>\n",
       "      <td>8988400</td>\n",
       "    </tr>\n",
       "    <tr>\n",
       "      <th>2023-03-31</th>\n",
       "      <td>39425.0</td>\n",
       "      <td>40250.0</td>\n",
       "      <td>39350.0</td>\n",
       "      <td>39400.0</td>\n",
       "      <td>33215.527344</td>\n",
       "      <td>8890800</td>\n",
       "    </tr>\n",
       "    <tr>\n",
       "      <th>2023-04-03</th>\n",
       "      <td>39725.0</td>\n",
       "      <td>40025.0</td>\n",
       "      <td>39700.0</td>\n",
       "      <td>39900.0</td>\n",
       "      <td>33637.042969</td>\n",
       "      <td>5651200</td>\n",
       "    </tr>\n",
       "    <tr>\n",
       "      <th>2023-04-04</th>\n",
       "      <td>40400.0</td>\n",
       "      <td>40800.0</td>\n",
       "      <td>40125.0</td>\n",
       "      <td>40525.0</td>\n",
       "      <td>34163.941406</td>\n",
       "      <td>5018800</td>\n",
       "    </tr>\n",
       "    <tr>\n",
       "      <th>2023-04-05</th>\n",
       "      <td>40525.0</td>\n",
       "      <td>40950.0</td>\n",
       "      <td>40200.0</td>\n",
       "      <td>40900.0</td>\n",
       "      <td>34480.078125</td>\n",
       "      <td>3738800</td>\n",
       "    </tr>\n",
       "    <tr>\n",
       "      <th>2023-04-06</th>\n",
       "      <td>41000.0</td>\n",
       "      <td>41500.0</td>\n",
       "      <td>40900.0</td>\n",
       "      <td>41125.0</td>\n",
       "      <td>34669.757812</td>\n",
       "      <td>5781000</td>\n",
       "    </tr>\n",
       "    <tr>\n",
       "      <th>2023-04-10</th>\n",
       "      <td>41200.0</td>\n",
       "      <td>41475.0</td>\n",
       "      <td>40350.0</td>\n",
       "      <td>40875.0</td>\n",
       "      <td>34459.000000</td>\n",
       "      <td>12093500</td>\n",
       "    </tr>\n",
       "    <tr>\n",
       "      <th>2023-04-11</th>\n",
       "      <td>38025.0</td>\n",
       "      <td>38025.0</td>\n",
       "      <td>38025.0</td>\n",
       "      <td>38025.0</td>\n",
       "      <td>38025.000000</td>\n",
       "      <td>634700</td>\n",
       "    </tr>\n",
       "    <tr>\n",
       "      <th>2023-04-12</th>\n",
       "      <td>35375.0</td>\n",
       "      <td>35375.0</td>\n",
       "      <td>35375.0</td>\n",
       "      <td>35375.0</td>\n",
       "      <td>35375.000000</td>\n",
       "      <td>1914000</td>\n",
       "    </tr>\n",
       "    <tr>\n",
       "      <th>2023-04-13</th>\n",
       "      <td>34200.0</td>\n",
       "      <td>35000.0</td>\n",
       "      <td>34125.0</td>\n",
       "      <td>34600.0</td>\n",
       "      <td>34600.000000</td>\n",
       "      <td>7151900</td>\n",
       "    </tr>\n",
       "  </tbody>\n",
       "</table>\n",
       "</div>"
      ],
      "text/plain": [
       "               Open     High      Low    Close     Adj Close    Volume\n",
       "Date                                                                  \n",
       "2023-03-30  40950.0  41500.0  38400.0  39175.0  33025.843750   8988400\n",
       "2023-03-31  39425.0  40250.0  39350.0  39400.0  33215.527344   8890800\n",
       "2023-04-03  39725.0  40025.0  39700.0  39900.0  33637.042969   5651200\n",
       "2023-04-04  40400.0  40800.0  40125.0  40525.0  34163.941406   5018800\n",
       "2023-04-05  40525.0  40950.0  40200.0  40900.0  34480.078125   3738800\n",
       "2023-04-06  41000.0  41500.0  40900.0  41125.0  34669.757812   5781000\n",
       "2023-04-10  41200.0  41475.0  40350.0  40875.0  34459.000000  12093500\n",
       "2023-04-11  38025.0  38025.0  38025.0  38025.0  38025.000000    634700\n",
       "2023-04-12  35375.0  35375.0  35375.0  35375.0  35375.000000   1914000\n",
       "2023-04-13  34200.0  35000.0  34125.0  34600.0  34600.000000   7151900"
      ]
     },
     "execution_count": 21,
     "metadata": {},
     "output_type": "execute_result"
    }
   ],
   "source": [
    "pg.tail(10)"
   ]
  },
  {
   "cell_type": "markdown",
   "id": "8cd4ca68",
   "metadata": {},
   "source": [
    "## Comparing Several Stock Closing Price"
   ]
  },
  {
   "cell_type": "code",
   "execution_count": 24,
   "id": "7fa0fba1",
   "metadata": {},
   "outputs": [
    {
     "name": "stdout",
     "output_type": "stream",
     "text": [
      "[*********************100%***********************]  1 of 1 completed\n",
      "[*********************100%***********************]  1 of 1 completed\n",
      "[*********************100%***********************]  1 of 1 completed\n",
      "[*********************100%***********************]  1 of 1 completed\n"
     ]
    }
   ],
   "source": [
    "tickers = ['BRIS.jk', 'BFIN.jk', 'BJBR.jk', 'INDY.jk'] #select some of the ticker you would like to compare\n",
    "comparison_data = pd.DataFrame()\n",
    "for ticker in tickers : \n",
    "    comparison_data[ticker] = wb.get_data_yahoo(ticker, start = '2023-01-01')['Close']"
   ]
  },
  {
   "cell_type": "code",
   "execution_count": 25,
   "id": "50ac4450",
   "metadata": {},
   "outputs": [
    {
     "data": {
      "text/html": [
       "<div>\n",
       "<style scoped>\n",
       "    .dataframe tbody tr th:only-of-type {\n",
       "        vertical-align: middle;\n",
       "    }\n",
       "\n",
       "    .dataframe tbody tr th {\n",
       "        vertical-align: top;\n",
       "    }\n",
       "\n",
       "    .dataframe thead th {\n",
       "        text-align: right;\n",
       "    }\n",
       "</style>\n",
       "<table border=\"1\" class=\"dataframe\">\n",
       "  <thead>\n",
       "    <tr style=\"text-align: right;\">\n",
       "      <th></th>\n",
       "      <th>BRIS.jk</th>\n",
       "      <th>BFIN.jk</th>\n",
       "      <th>BJBR.jk</th>\n",
       "      <th>INDY.jk</th>\n",
       "    </tr>\n",
       "    <tr>\n",
       "      <th>Date</th>\n",
       "      <th></th>\n",
       "      <th></th>\n",
       "      <th></th>\n",
       "      <th></th>\n",
       "    </tr>\n",
       "  </thead>\n",
       "  <tbody>\n",
       "    <tr>\n",
       "      <th>2023-01-02</th>\n",
       "      <td>1285.0</td>\n",
       "      <td>1075.0</td>\n",
       "      <td>1350.0</td>\n",
       "      <td>2720.0</td>\n",
       "    </tr>\n",
       "    <tr>\n",
       "      <th>2023-01-03</th>\n",
       "      <td>1395.0</td>\n",
       "      <td>1060.0</td>\n",
       "      <td>1355.0</td>\n",
       "      <td>2760.0</td>\n",
       "    </tr>\n",
       "    <tr>\n",
       "      <th>2023-01-04</th>\n",
       "      <td>1385.0</td>\n",
       "      <td>1055.0</td>\n",
       "      <td>1350.0</td>\n",
       "      <td>2630.0</td>\n",
       "    </tr>\n",
       "    <tr>\n",
       "      <th>2023-01-05</th>\n",
       "      <td>1335.0</td>\n",
       "      <td>1020.0</td>\n",
       "      <td>1340.0</td>\n",
       "      <td>2460.0</td>\n",
       "    </tr>\n",
       "    <tr>\n",
       "      <th>2023-01-06</th>\n",
       "      <td>1390.0</td>\n",
       "      <td>1070.0</td>\n",
       "      <td>1345.0</td>\n",
       "      <td>2440.0</td>\n",
       "    </tr>\n",
       "    <tr>\n",
       "      <th>...</th>\n",
       "      <td>...</td>\n",
       "      <td>...</td>\n",
       "      <td>...</td>\n",
       "      <td>...</td>\n",
       "    </tr>\n",
       "    <tr>\n",
       "      <th>2023-04-06</th>\n",
       "      <td>1810.0</td>\n",
       "      <td>1355.0</td>\n",
       "      <td>1385.0</td>\n",
       "      <td>2540.0</td>\n",
       "    </tr>\n",
       "    <tr>\n",
       "      <th>2023-04-10</th>\n",
       "      <td>1805.0</td>\n",
       "      <td>1365.0</td>\n",
       "      <td>1380.0</td>\n",
       "      <td>2470.0</td>\n",
       "    </tr>\n",
       "    <tr>\n",
       "      <th>2023-04-11</th>\n",
       "      <td>1780.0</td>\n",
       "      <td>1365.0</td>\n",
       "      <td>1370.0</td>\n",
       "      <td>2510.0</td>\n",
       "    </tr>\n",
       "    <tr>\n",
       "      <th>2023-04-12</th>\n",
       "      <td>1775.0</td>\n",
       "      <td>1355.0</td>\n",
       "      <td>1370.0</td>\n",
       "      <td>2540.0</td>\n",
       "    </tr>\n",
       "    <tr>\n",
       "      <th>2023-04-13</th>\n",
       "      <td>1720.0</td>\n",
       "      <td>1345.0</td>\n",
       "      <td>1380.0</td>\n",
       "      <td>2700.0</td>\n",
       "    </tr>\n",
       "  </tbody>\n",
       "</table>\n",
       "<p>70 rows × 4 columns</p>\n",
       "</div>"
      ],
      "text/plain": [
       "            BRIS.jk  BFIN.jk  BJBR.jk  INDY.jk\n",
       "Date                                          \n",
       "2023-01-02   1285.0   1075.0   1350.0   2720.0\n",
       "2023-01-03   1395.0   1060.0   1355.0   2760.0\n",
       "2023-01-04   1385.0   1055.0   1350.0   2630.0\n",
       "2023-01-05   1335.0   1020.0   1340.0   2460.0\n",
       "2023-01-06   1390.0   1070.0   1345.0   2440.0\n",
       "...             ...      ...      ...      ...\n",
       "2023-04-06   1810.0   1355.0   1385.0   2540.0\n",
       "2023-04-10   1805.0   1365.0   1380.0   2470.0\n",
       "2023-04-11   1780.0   1365.0   1370.0   2510.0\n",
       "2023-04-12   1775.0   1355.0   1370.0   2540.0\n",
       "2023-04-13   1720.0   1345.0   1380.0   2700.0\n",
       "\n",
       "[70 rows x 4 columns]"
      ]
     },
     "execution_count": 25,
     "metadata": {},
     "output_type": "execute_result"
    }
   ],
   "source": [
    "comparison_data"
   ]
  },
  {
   "cell_type": "markdown",
   "id": "fe124171",
   "metadata": {},
   "source": [
    "## Importing From Other Financial Web Resources "
   ]
  },
  {
   "cell_type": "code",
   "execution_count": 1,
   "id": "10927f11",
   "metadata": {},
   "outputs": [
    {
     "ename": "NameError",
     "evalue": "name 'python' is not defined",
     "output_type": "error",
     "traceback": [
      "\u001b[0;31m---------------------------------------------------------------------------\u001b[0m",
      "\u001b[0;31mNameError\u001b[0m                                 Traceback (most recent call last)",
      "Cell \u001b[0;32mIn[1], line 1\u001b[0m\n\u001b[0;32m----> 1\u001b[0m \u001b[43mpython\u001b[49m \u001b[38;5;241m-\u001b[39m\u001b[38;5;241m-\u001b[39mversion\n",
      "\u001b[0;31mNameError\u001b[0m: name 'python' is not defined"
     ]
    }
   ],
   "source": [
    "python --version"
   ]
  }
 ],
 "metadata": {
  "kernelspec": {
   "display_name": "venv",
   "language": "python",
   "name": "venv"
  },
  "language_info": {
   "codemirror_mode": {
    "name": "ipython",
    "version": 3
   },
   "file_extension": ".py",
   "mimetype": "text/x-python",
   "name": "python",
   "nbconvert_exporter": "python",
   "pygments_lexer": "ipython3",
   "version": "3.11.3"
  }
 },
 "nbformat": 4,
 "nbformat_minor": 5
}
