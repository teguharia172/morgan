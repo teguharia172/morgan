{
 "cells": [
  {
   "cell_type": "markdown",
   "id": "625289d7-1cba-417b-8696-2dd3f74ad3c0",
   "metadata": {},
   "source": [
    "# Simple Rate of Return"
   ]
  },
  {
   "cell_type": "code",
   "execution_count": 1,
   "id": "9b11b024-d093-41cc-ae8a-f1c4d09cdd52",
   "metadata": {
    "tags": []
   },
   "outputs": [],
   "source": [
    "import pandas as pd \n",
    "import numpy as np \n",
    "from pandas_datareader import data as wb \n",
    "import yfinance as yfin"
   ]
  },
  {
   "cell_type": "code",
   "execution_count": 2,
   "id": "759cbd15-0803-42b1-bdb9-0490e968ddb4",
   "metadata": {
    "tags": []
   },
   "outputs": [],
   "source": [
    "yfin.pdr_override()"
   ]
  },
  {
   "cell_type": "markdown",
   "id": "7735898e-38d9-4304-8ae5-ca3779b77c01",
   "metadata": {},
   "source": [
    "### Importing Stock Prices Data of Your of Choices "
   ]
  },
  {
   "cell_type": "code",
   "execution_count": 4,
   "id": "c7727a33-27c8-4863-92ff-d1d9d3637429",
   "metadata": {
    "tags": []
   },
   "outputs": [
    {
     "name": "stdout",
     "output_type": "stream",
     "text": [
      "[*********************100%***********************]  1 of 1 completed\n"
     ]
    },
    {
     "data": {
      "text/html": [
       "<div>\n",
       "<style scoped>\n",
       "    .dataframe tbody tr th:only-of-type {\n",
       "        vertical-align: middle;\n",
       "    }\n",
       "\n",
       "    .dataframe tbody tr th {\n",
       "        vertical-align: top;\n",
       "    }\n",
       "\n",
       "    .dataframe thead th {\n",
       "        text-align: right;\n",
       "    }\n",
       "</style>\n",
       "<table border=\"1\" class=\"dataframe\">\n",
       "  <thead>\n",
       "    <tr style=\"text-align: right;\">\n",
       "      <th></th>\n",
       "      <th>Open</th>\n",
       "      <th>High</th>\n",
       "      <th>Low</th>\n",
       "      <th>Close</th>\n",
       "      <th>Adj Close</th>\n",
       "      <th>Volume</th>\n",
       "    </tr>\n",
       "    <tr>\n",
       "      <th>Date</th>\n",
       "      <th></th>\n",
       "      <th></th>\n",
       "      <th></th>\n",
       "      <th></th>\n",
       "      <th></th>\n",
       "      <th></th>\n",
       "    </tr>\n",
       "  </thead>\n",
       "  <tbody>\n",
       "    <tr>\n",
       "      <th>2019-01-01</th>\n",
       "      <td>20250.0</td>\n",
       "      <td>20250.0</td>\n",
       "      <td>20250.0</td>\n",
       "      <td>20250.0</td>\n",
       "      <td>9990.890625</td>\n",
       "      <td>0</td>\n",
       "    </tr>\n",
       "    <tr>\n",
       "      <th>2019-01-02</th>\n",
       "      <td>20125.0</td>\n",
       "      <td>20150.0</td>\n",
       "      <td>19950.0</td>\n",
       "      <td>20075.0</td>\n",
       "      <td>9904.549805</td>\n",
       "      <td>1095100</td>\n",
       "    </tr>\n",
       "    <tr>\n",
       "      <th>2019-01-03</th>\n",
       "      <td>20200.0</td>\n",
       "      <td>20200.0</td>\n",
       "      <td>19825.0</td>\n",
       "      <td>19900.0</td>\n",
       "      <td>9818.208984</td>\n",
       "      <td>2248100</td>\n",
       "    </tr>\n",
       "    <tr>\n",
       "      <th>2019-01-04</th>\n",
       "      <td>19800.0</td>\n",
       "      <td>21775.0</td>\n",
       "      <td>19750.0</td>\n",
       "      <td>21575.0</td>\n",
       "      <td>10644.616211</td>\n",
       "      <td>3855300</td>\n",
       "    </tr>\n",
       "    <tr>\n",
       "      <th>2019-01-07</th>\n",
       "      <td>21825.0</td>\n",
       "      <td>22125.0</td>\n",
       "      <td>20825.0</td>\n",
       "      <td>20850.0</td>\n",
       "      <td>10286.917969</td>\n",
       "      <td>3383600</td>\n",
       "    </tr>\n",
       "  </tbody>\n",
       "</table>\n",
       "</div>"
      ],
      "text/plain": [
       "               Open     High      Low    Close     Adj Close   Volume\n",
       "Date                                                                 \n",
       "2019-01-01  20250.0  20250.0  20250.0  20250.0   9990.890625        0\n",
       "2019-01-02  20125.0  20150.0  19950.0  20075.0   9904.549805  1095100\n",
       "2019-01-03  20200.0  20200.0  19825.0  19900.0   9818.208984  2248100\n",
       "2019-01-04  19800.0  21775.0  19750.0  21575.0  10644.616211  3855300\n",
       "2019-01-07  21825.0  22125.0  20825.0  20850.0  10286.917969  3383600"
      ]
     },
     "execution_count": 4,
     "metadata": {},
     "output_type": "execute_result"
    }
   ],
   "source": [
    "itmg = wb.get_data_yahoo('ITMG.jk', start = '2019-01-01', end = '2020-01-01')\n",
    "itmg.head()"
   ]
  },
  {
   "cell_type": "code",
   "execution_count": 5,
   "id": "75934f08-d607-4082-a3af-327768bfb28e",
   "metadata": {
    "tags": []
   },
   "outputs": [
    {
     "data": {
      "text/html": [
       "<div>\n",
       "<style scoped>\n",
       "    .dataframe tbody tr th:only-of-type {\n",
       "        vertical-align: middle;\n",
       "    }\n",
       "\n",
       "    .dataframe tbody tr th {\n",
       "        vertical-align: top;\n",
       "    }\n",
       "\n",
       "    .dataframe thead th {\n",
       "        text-align: right;\n",
       "    }\n",
       "</style>\n",
       "<table border=\"1\" class=\"dataframe\">\n",
       "  <thead>\n",
       "    <tr style=\"text-align: right;\">\n",
       "      <th></th>\n",
       "      <th>Open</th>\n",
       "      <th>High</th>\n",
       "      <th>Low</th>\n",
       "      <th>Close</th>\n",
       "      <th>Adj Close</th>\n",
       "      <th>Volume</th>\n",
       "    </tr>\n",
       "    <tr>\n",
       "      <th>Date</th>\n",
       "      <th></th>\n",
       "      <th></th>\n",
       "      <th></th>\n",
       "      <th></th>\n",
       "      <th></th>\n",
       "      <th></th>\n",
       "    </tr>\n",
       "  </thead>\n",
       "  <tbody>\n",
       "    <tr>\n",
       "      <th>2019-12-20</th>\n",
       "      <td>11325.0</td>\n",
       "      <td>11350.0</td>\n",
       "      <td>11150.0</td>\n",
       "      <td>11350.0</td>\n",
       "      <td>6465.961914</td>\n",
       "      <td>864900</td>\n",
       "    </tr>\n",
       "    <tr>\n",
       "      <th>2019-12-23</th>\n",
       "      <td>11350.0</td>\n",
       "      <td>11375.0</td>\n",
       "      <td>11150.0</td>\n",
       "      <td>11175.0</td>\n",
       "      <td>6366.267578</td>\n",
       "      <td>831300</td>\n",
       "    </tr>\n",
       "    <tr>\n",
       "      <th>2019-12-26</th>\n",
       "      <td>11175.0</td>\n",
       "      <td>11375.0</td>\n",
       "      <td>11150.0</td>\n",
       "      <td>11250.0</td>\n",
       "      <td>6408.994141</td>\n",
       "      <td>729700</td>\n",
       "    </tr>\n",
       "    <tr>\n",
       "      <th>2019-12-27</th>\n",
       "      <td>11200.0</td>\n",
       "      <td>11325.0</td>\n",
       "      <td>11150.0</td>\n",
       "      <td>11225.0</td>\n",
       "      <td>6394.751465</td>\n",
       "      <td>532400</td>\n",
       "    </tr>\n",
       "    <tr>\n",
       "      <th>2019-12-30</th>\n",
       "      <td>11225.0</td>\n",
       "      <td>11525.0</td>\n",
       "      <td>11225.0</td>\n",
       "      <td>11475.0</td>\n",
       "      <td>6537.173340</td>\n",
       "      <td>1387600</td>\n",
       "    </tr>\n",
       "  </tbody>\n",
       "</table>\n",
       "</div>"
      ],
      "text/plain": [
       "               Open     High      Low    Close    Adj Close   Volume\n",
       "Date                                                                \n",
       "2019-12-20  11325.0  11350.0  11150.0  11350.0  6465.961914   864900\n",
       "2019-12-23  11350.0  11375.0  11150.0  11175.0  6366.267578   831300\n",
       "2019-12-26  11175.0  11375.0  11150.0  11250.0  6408.994141   729700\n",
       "2019-12-27  11200.0  11325.0  11150.0  11225.0  6394.751465   532400\n",
       "2019-12-30  11225.0  11525.0  11225.0  11475.0  6537.173340  1387600"
      ]
     },
     "execution_count": 5,
     "metadata": {},
     "output_type": "execute_result"
    }
   ],
   "source": [
    "itmg.tail()"
   ]
  },
  {
   "cell_type": "markdown",
   "id": "63a829ec-9972-459f-b354-4b32e7e69fa9",
   "metadata": {},
   "source": [
    "### Simple Rate of Return Formula \n"
   ]
  },
  {
   "cell_type": "markdown",
   "id": "0ac0fdac-fbcd-4f06-88d2-71e7f07782bc",
   "metadata": {},
   "source": [
    "$$\n",
    "\\frac{P_1 - P_0}{P_0} = \\frac{P_1}{P_0} - 1\n",
    "$$"
   ]
  },
  {
   "cell_type": "markdown",
   "id": "321e11ff-4fbd-41b2-8490-51de0f04121c",
   "metadata": {},
   "source": [
    "#### Calculating Daily Simple Rate of Return"
   ]
  },
  {
   "cell_type": "code",
   "execution_count": 16,
   "id": "4fdde98b-a35c-46ca-90af-e4fd00dc2b48",
   "metadata": {
    "tags": []
   },
   "outputs": [
    {
     "data": {
      "text/html": [
       "<div>\n",
       "<style scoped>\n",
       "    .dataframe tbody tr th:only-of-type {\n",
       "        vertical-align: middle;\n",
       "    }\n",
       "\n",
       "    .dataframe tbody tr th {\n",
       "        vertical-align: top;\n",
       "    }\n",
       "\n",
       "    .dataframe thead th {\n",
       "        text-align: right;\n",
       "    }\n",
       "</style>\n",
       "<table border=\"1\" class=\"dataframe\">\n",
       "  <thead>\n",
       "    <tr style=\"text-align: right;\">\n",
       "      <th></th>\n",
       "      <th>Open</th>\n",
       "      <th>High</th>\n",
       "      <th>Low</th>\n",
       "      <th>Close</th>\n",
       "      <th>Adj Close</th>\n",
       "      <th>Volume</th>\n",
       "      <th>simple_return</th>\n",
       "    </tr>\n",
       "    <tr>\n",
       "      <th>Date</th>\n",
       "      <th></th>\n",
       "      <th></th>\n",
       "      <th></th>\n",
       "      <th></th>\n",
       "      <th></th>\n",
       "      <th></th>\n",
       "      <th></th>\n",
       "    </tr>\n",
       "  </thead>\n",
       "  <tbody>\n",
       "    <tr>\n",
       "      <th>2019-01-01</th>\n",
       "      <td>20250.0</td>\n",
       "      <td>20250.0</td>\n",
       "      <td>20250.0</td>\n",
       "      <td>20250.0</td>\n",
       "      <td>9990.890625</td>\n",
       "      <td>0</td>\n",
       "      <td>NaN</td>\n",
       "    </tr>\n",
       "    <tr>\n",
       "      <th>2019-01-02</th>\n",
       "      <td>20125.0</td>\n",
       "      <td>20150.0</td>\n",
       "      <td>19950.0</td>\n",
       "      <td>20075.0</td>\n",
       "      <td>9904.549805</td>\n",
       "      <td>1095100</td>\n",
       "      <td>-0.008642</td>\n",
       "    </tr>\n",
       "    <tr>\n",
       "      <th>2019-01-03</th>\n",
       "      <td>20200.0</td>\n",
       "      <td>20200.0</td>\n",
       "      <td>19825.0</td>\n",
       "      <td>19900.0</td>\n",
       "      <td>9818.208984</td>\n",
       "      <td>2248100</td>\n",
       "      <td>-0.008717</td>\n",
       "    </tr>\n",
       "    <tr>\n",
       "      <th>2019-01-04</th>\n",
       "      <td>19800.0</td>\n",
       "      <td>21775.0</td>\n",
       "      <td>19750.0</td>\n",
       "      <td>21575.0</td>\n",
       "      <td>10644.616211</td>\n",
       "      <td>3855300</td>\n",
       "      <td>0.084171</td>\n",
       "    </tr>\n",
       "    <tr>\n",
       "      <th>2019-01-07</th>\n",
       "      <td>21825.0</td>\n",
       "      <td>22125.0</td>\n",
       "      <td>20825.0</td>\n",
       "      <td>20850.0</td>\n",
       "      <td>10286.917969</td>\n",
       "      <td>3383600</td>\n",
       "      <td>-0.033604</td>\n",
       "    </tr>\n",
       "  </tbody>\n",
       "</table>\n",
       "</div>"
      ],
      "text/plain": [
       "               Open     High      Low    Close     Adj Close   Volume   \n",
       "Date                                                                    \n",
       "2019-01-01  20250.0  20250.0  20250.0  20250.0   9990.890625        0  \\\n",
       "2019-01-02  20125.0  20150.0  19950.0  20075.0   9904.549805  1095100   \n",
       "2019-01-03  20200.0  20200.0  19825.0  19900.0   9818.208984  2248100   \n",
       "2019-01-04  19800.0  21775.0  19750.0  21575.0  10644.616211  3855300   \n",
       "2019-01-07  21825.0  22125.0  20825.0  20850.0  10286.917969  3383600   \n",
       "\n",
       "            simple_return  \n",
       "Date                       \n",
       "2019-01-01            NaN  \n",
       "2019-01-02      -0.008642  \n",
       "2019-01-03      -0.008717  \n",
       "2019-01-04       0.084171  \n",
       "2019-01-07      -0.033604  "
      ]
     },
     "execution_count": 16,
     "metadata": {},
     "output_type": "execute_result"
    }
   ],
   "source": [
    "itmg['simple_return'] = itmg['Adj Close']/ itmg['Adj Close'].shift(1) - 1\n",
    "itmg.head()"
   ]
  },
  {
   "cell_type": "markdown",
   "id": "e2574097-19d7-4d5f-9484-5e47939ed787",
   "metadata": {},
   "source": [
    "#### Visualizing Daily Rate of Simple Return "
   ]
  },
  {
   "cell_type": "code",
   "execution_count": 19,
   "id": "84a68789-fc03-45fa-9675-940d6bcaea08",
   "metadata": {
    "tags": []
   },
   "outputs": [],
   "source": [
    "import matplotlib.pyplot as plt"
   ]
  },
  {
   "cell_type": "code",
   "execution_count": 24,
   "id": "5af65f32-376f-4a9a-9ea2-09eedbc752e9",
   "metadata": {
    "tags": []
   },
   "outputs": [
    {
     "data": {
      "image/png": "[encoded data removed]",
      "text/plain": [
       "<Figure size 800x500 with 1 Axes>"
      ]
     },
     "metadata": {},
     "output_type": "display_data"
    }
   ],
   "source": [
    "plt.figure(figsize = [8,5])\n",
    "itmg['simple_return'].plot()\n",
    "plt.show()"
   ]
  },
  {
   "cell_type": "markdown",
   "id": "dca32a27-f047-426a-8ec4-8694b5ac8ef6",
   "metadata": {
    "tags": []
   },
   "source": [
    "#### Average Daily Return"
   ]
  },
  {
   "cell_type": "code",
   "execution_count": 25,
   "id": "2785c8e5-5dfd-47a2-a59c-82617ac95c06",
   "metadata": {
    "tags": []
   },
   "outputs": [
    {
     "data": {
      "text/plain": [
       "-0.0014119827678950913"
      ]
     },
     "execution_count": 25,
     "metadata": {},
     "output_type": "execute_result"
    }
   ],
   "source": [
    "itmg['simple_return'].mean()"
   ]
  },
  {
   "cell_type": "markdown",
   "id": "59823449-19e0-46dc-ad5f-ded29719c18d",
   "metadata": {},
   "source": [
    "#### Average Annual Return \n",
    "\n",
    "for a precise calculation is good to know of how many trading days in a year by counting the number of days per year from the data, for the sake of the simplycity of this we will use *250 days* as the total trading days as most of the years the active trading days were *250 days* "
   ]
  },
  {
   "cell_type": "code",
   "execution_count": 27,
   "id": "f3978035-d3ab-4dd3-be49-f1b977e88b49",
   "metadata": {
    "tags": []
   },
   "outputs": [
    {
     "data": {
      "text/plain": [
       "-0.35299569197377284"
      ]
     },
     "execution_count": 27,
     "metadata": {},
     "output_type": "execute_result"
    }
   ],
   "source": [
    "itmg_annual_return = itmg['simple_return'].mean() * 250 #average trading days in a year\n",
    "itmg_annual_return"
   ]
  },
  {
   "cell_type": "code",
   "execution_count": 33,
   "id": "1a6bf3bf-9b7c-4de2-abe3-3715063120dc",
   "metadata": {
    "tags": []
   },
   "outputs": [
    {
     "name": "stdout",
     "output_type": "stream",
     "text": [
      "-35.3%\n"
     ]
    }
   ],
   "source": [
    "print(f\"{round(itmg_annual_return,3) * 100}%\")"
   ]
  }
 ],
 "metadata": {
  "kernelspec": {
   "display_name": "Python 3 (ipykernel)",
   "language": "python",
   "name": "python3"
  },
  "language_info": {
   "codemirror_mode": {
    "name": "ipython",
    "version": 3
   },
   "file_extension": ".py",
   "mimetype": "text/x-python",
   "name": "python",
   "nbconvert_exporter": "python",
   "pygments_lexer": "ipython3",
   "version": "3.11.3"
  }
 },
 "nbformat": 4,
 "nbformat_minor": 5
}
