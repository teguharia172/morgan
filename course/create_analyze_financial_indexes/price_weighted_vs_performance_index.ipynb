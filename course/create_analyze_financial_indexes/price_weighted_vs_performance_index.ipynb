{
 "cells": [
  {
   "cell_type": "markdown",
   "id": "378550d9-6c87-41fc-8d65-b72b7f255ac9",
   "metadata": {},
   "source": [
    "# Price Index Vs Performance/Total Return Index "
   ]
  },
  {
   "cell_type": "code",
   "execution_count": 22,
   "id": "59acba11-6f6f-4aab-81d6-03856da13a0e",
   "metadata": {
    "tags": []
   },
   "outputs": [],
   "source": [
    "import pandas as pd \n",
    "import numpy as np \n",
    "import yfinance \n",
    "from pandas_datareader import data as wb\n",
    "import matplotlib.pyplot as plt\n",
    "import warnings \n",
    "warnings.filterwarnings('ignore')\n",
    "yfinance.pdr_override()\n",
    "plt.style.use('fivethirtyeight')"
   ]
  },
  {
   "cell_type": "code",
   "execution_count": 23,
   "id": "b4f29e0e-c536-496d-b0a9-22322a1798b7",
   "metadata": {
    "tags": []
   },
   "outputs": [],
   "source": [
    "tickers = ['BFIN.jk', 'ADMF.jk', 'MFIN.jk', 'WOMF.jk', 'IMJS.jk']\n",
    "lease = pd.DataFrame()\n",
    "shares = {}"
   ]
  },
  {
   "cell_type": "markdown",
   "id": "26af613a-64df-4606-9575-f4a2cadf5f8a",
   "metadata": {},
   "source": [
    "## Loop to get Closing Price & Adjusted Closing Price "
   ]
  },
  {
   "cell_type": "code",
   "execution_count": 24,
   "id": "6a4b4711-3be4-4124-aede-667b00bb5086",
   "metadata": {
    "tags": []
   },
   "outputs": [
    {
     "name": "stdout",
     "output_type": "stream",
     "text": [
      "[*********************100%***********************]  1 of 1 completed\n",
      "[*********************100%***********************]  1 of 1 completed\n",
      "[*********************100%***********************]  1 of 1 completed\n",
      "[*********************100%***********************]  1 of 1 completed\n",
      "[*********************100%***********************]  1 of 1 completed\n"
     ]
    }
   ],
   "source": [
    "for ticker in tickers : \n",
    "    lease[ticker] = wb.get_data_yahoo(ticker, start = '2015-01-01', end = '2023-04-17')['Adj Close']"
   ]
  },
  {
   "cell_type": "code",
   "execution_count": 25,
   "id": "32d23c18-f19c-466e-8e2f-f00d0a4658aa",
   "metadata": {
    "tags": []
   },
   "outputs": [
    {
     "name": "stdout",
     "output_type": "stream",
     "text": [
      "[*********************100%***********************]  1 of 1 completed\n",
      "[*********************100%***********************]  1 of 1 completed\n",
      "[*********************100%***********************]  1 of 1 completed\n",
      "[*********************100%***********************]  1 of 1 completed\n",
      "[*********************100%***********************]  1 of 1 completed\n"
     ]
    }
   ],
   "source": [
    "lease_close = pd.DataFrame()\n",
    "for ticker in tickers : \n",
    "    lease_close[ticker] = wb.get_data_yahoo(ticker, start = '2015-01-01', end = '2023-04-17')['Close']"
   ]
  },
  {
   "cell_type": "code",
   "execution_count": 26,
   "id": "ea1ae670-6075-4594-ab58-d556c8b7ca5d",
   "metadata": {},
   "outputs": [
    {
     "data": {
      "text/html": [
       "<div>\n",
       "<style scoped>\n",
       "    .dataframe tbody tr th:only-of-type {\n",
       "        vertical-align: middle;\n",
       "    }\n",
       "\n",
       "    .dataframe tbody tr th {\n",
       "        vertical-align: top;\n",
       "    }\n",
       "\n",
       "    .dataframe thead th {\n",
       "        text-align: right;\n",
       "    }\n",
       "</style>\n",
       "<table border=\"1\" class=\"dataframe\">\n",
       "  <thead>\n",
       "    <tr style=\"text-align: right;\">\n",
       "      <th></th>\n",
       "      <th>BFIN.jk</th>\n",
       "      <th>ADMF.jk</th>\n",
       "      <th>MFIN.jk</th>\n",
       "      <th>WOMF.jk</th>\n",
       "      <th>IMJS.jk</th>\n",
       "    </tr>\n",
       "    <tr>\n",
       "      <th>Date</th>\n",
       "      <th></th>\n",
       "      <th></th>\n",
       "      <th></th>\n",
       "      <th></th>\n",
       "      <th></th>\n",
       "    </tr>\n",
       "  </thead>\n",
       "  <tbody>\n",
       "    <tr>\n",
       "      <th>2015-01-02</th>\n",
       "      <td>255.0</td>\n",
       "      <td>7175.0</td>\n",
       "      <td>497.5</td>\n",
       "      <td>189.574509</td>\n",
       "      <td>580.0</td>\n",
       "    </tr>\n",
       "    <tr>\n",
       "      <th>2015-01-05</th>\n",
       "      <td>240.0</td>\n",
       "      <td>7175.0</td>\n",
       "      <td>470.0</td>\n",
       "      <td>177.552719</td>\n",
       "      <td>575.0</td>\n",
       "    </tr>\n",
       "    <tr>\n",
       "      <th>2015-01-06</th>\n",
       "      <td>240.0</td>\n",
       "      <td>7125.0</td>\n",
       "      <td>470.0</td>\n",
       "      <td>189.574509</td>\n",
       "      <td>595.0</td>\n",
       "    </tr>\n",
       "    <tr>\n",
       "      <th>2015-01-07</th>\n",
       "      <td>240.0</td>\n",
       "      <td>7125.0</td>\n",
       "      <td>470.0</td>\n",
       "      <td>188.649750</td>\n",
       "      <td>580.0</td>\n",
       "    </tr>\n",
       "    <tr>\n",
       "      <th>2015-01-08</th>\n",
       "      <td>240.0</td>\n",
       "      <td>7125.0</td>\n",
       "      <td>470.0</td>\n",
       "      <td>188.649750</td>\n",
       "      <td>585.0</td>\n",
       "    </tr>\n",
       "  </tbody>\n",
       "</table>\n",
       "</div>"
      ],
      "text/plain": [
       "            BFIN.jk  ADMF.jk  MFIN.jk     WOMF.jk  IMJS.jk\n",
       "Date                                                      \n",
       "2015-01-02    255.0   7175.0    497.5  189.574509    580.0\n",
       "2015-01-05    240.0   7175.0    470.0  177.552719    575.0\n",
       "2015-01-06    240.0   7125.0    470.0  189.574509    595.0\n",
       "2015-01-07    240.0   7125.0    470.0  188.649750    580.0\n",
       "2015-01-08    240.0   7125.0    470.0  188.649750    585.0"
      ]
     },
     "execution_count": 26,
     "metadata": {},
     "output_type": "execute_result"
    }
   ],
   "source": [
    "lease_close.head()"
   ]
  },
  {
   "cell_type": "code",
   "execution_count": 27,
   "id": "07570266-1b36-4b47-8d25-06a024271e03",
   "metadata": {
    "tags": []
   },
   "outputs": [
    {
     "data": {
      "text/html": [
       "<div>\n",
       "<style scoped>\n",
       "    .dataframe tbody tr th:only-of-type {\n",
       "        vertical-align: middle;\n",
       "    }\n",
       "\n",
       "    .dataframe tbody tr th {\n",
       "        vertical-align: top;\n",
       "    }\n",
       "\n",
       "    .dataframe thead th {\n",
       "        text-align: right;\n",
       "    }\n",
       "</style>\n",
       "<table border=\"1\" class=\"dataframe\">\n",
       "  <thead>\n",
       "    <tr style=\"text-align: right;\">\n",
       "      <th></th>\n",
       "      <th>BFIN.jk</th>\n",
       "      <th>ADMF.jk</th>\n",
       "      <th>MFIN.jk</th>\n",
       "      <th>WOMF.jk</th>\n",
       "      <th>IMJS.jk</th>\n",
       "    </tr>\n",
       "    <tr>\n",
       "      <th>Date</th>\n",
       "      <th></th>\n",
       "      <th></th>\n",
       "      <th></th>\n",
       "      <th></th>\n",
       "      <th></th>\n",
       "    </tr>\n",
       "  </thead>\n",
       "  <tbody>\n",
       "    <tr>\n",
       "      <th>2015-01-02</th>\n",
       "      <td>156.142944</td>\n",
       "      <td>3428.181152</td>\n",
       "      <td>326.710571</td>\n",
       "      <td>142.048630</td>\n",
       "      <td>565.342834</td>\n",
       "    </tr>\n",
       "    <tr>\n",
       "      <th>2015-01-05</th>\n",
       "      <td>155.366119</td>\n",
       "      <td>3428.181152</td>\n",
       "      <td>308.651184</td>\n",
       "      <td>133.040695</td>\n",
       "      <td>560.469238</td>\n",
       "    </tr>\n",
       "    <tr>\n",
       "      <th>2015-01-06</th>\n",
       "      <td>155.366119</td>\n",
       "      <td>3404.291504</td>\n",
       "      <td>308.651184</td>\n",
       "      <td>142.048630</td>\n",
       "      <td>579.963745</td>\n",
       "    </tr>\n",
       "    <tr>\n",
       "      <th>2015-01-07</th>\n",
       "      <td>155.366119</td>\n",
       "      <td>3404.291504</td>\n",
       "      <td>308.651184</td>\n",
       "      <td>141.355713</td>\n",
       "      <td>565.342834</td>\n",
       "    </tr>\n",
       "    <tr>\n",
       "      <th>2015-01-08</th>\n",
       "      <td>155.366119</td>\n",
       "      <td>3404.291504</td>\n",
       "      <td>308.651184</td>\n",
       "      <td>141.355713</td>\n",
       "      <td>570.216492</td>\n",
       "    </tr>\n",
       "  </tbody>\n",
       "</table>\n",
       "</div>"
      ],
      "text/plain": [
       "               BFIN.jk      ADMF.jk     MFIN.jk     WOMF.jk     IMJS.jk\n",
       "Date                                                                   \n",
       "2015-01-02  156.142944  3428.181152  326.710571  142.048630  565.342834\n",
       "2015-01-05  155.366119  3428.181152  308.651184  133.040695  560.469238\n",
       "2015-01-06  155.366119  3404.291504  308.651184  142.048630  579.963745\n",
       "2015-01-07  155.366119  3404.291504  308.651184  141.355713  565.342834\n",
       "2015-01-08  155.366119  3404.291504  308.651184  141.355713  570.216492"
      ]
     },
     "execution_count": 27,
     "metadata": {},
     "output_type": "execute_result"
    }
   ],
   "source": [
    "lease.head()"
   ]
  },
  {
   "cell_type": "markdown",
   "id": "718f3a78-a0e7-42e7-bc3e-d68fe6d3c77d",
   "metadata": {},
   "source": [
    "## Getting Total return of Adj Closing Price and Weight of Each Stocks From it's Closing Price"
   ]
  },
  {
   "cell_type": "code",
   "execution_count": 28,
   "id": "37c3b90a-96ad-4c8b-9143-21fa9449b1ab",
   "metadata": {
    "tags": []
   },
   "outputs": [
    {
     "data": {
      "text/html": [
       "<div>\n",
       "<style scoped>\n",
       "    .dataframe tbody tr th:only-of-type {\n",
       "        vertical-align: middle;\n",
       "    }\n",
       "\n",
       "    .dataframe tbody tr th {\n",
       "        vertical-align: top;\n",
       "    }\n",
       "\n",
       "    .dataframe thead th {\n",
       "        text-align: right;\n",
       "    }\n",
       "</style>\n",
       "<table border=\"1\" class=\"dataframe\">\n",
       "  <thead>\n",
       "    <tr style=\"text-align: right;\">\n",
       "      <th></th>\n",
       "      <th>BFIN.jk</th>\n",
       "      <th>ADMF.jk</th>\n",
       "      <th>MFIN.jk</th>\n",
       "      <th>WOMF.jk</th>\n",
       "      <th>IMJS.jk</th>\n",
       "    </tr>\n",
       "    <tr>\n",
       "      <th>Date</th>\n",
       "      <th></th>\n",
       "      <th></th>\n",
       "      <th></th>\n",
       "      <th></th>\n",
       "      <th></th>\n",
       "    </tr>\n",
       "  </thead>\n",
       "  <tbody>\n",
       "    <tr>\n",
       "      <th>2015-01-05</th>\n",
       "      <td>-0.004975</td>\n",
       "      <td>0.000000</td>\n",
       "      <td>-0.055276</td>\n",
       "      <td>-0.063414</td>\n",
       "      <td>-0.008621</td>\n",
       "    </tr>\n",
       "    <tr>\n",
       "      <th>2015-01-06</th>\n",
       "      <td>0.000000</td>\n",
       "      <td>-0.006969</td>\n",
       "      <td>0.000000</td>\n",
       "      <td>0.067708</td>\n",
       "      <td>0.034782</td>\n",
       "    </tr>\n",
       "    <tr>\n",
       "      <th>2015-01-07</th>\n",
       "      <td>0.000000</td>\n",
       "      <td>0.000000</td>\n",
       "      <td>0.000000</td>\n",
       "      <td>-0.004878</td>\n",
       "      <td>-0.025210</td>\n",
       "    </tr>\n",
       "    <tr>\n",
       "      <th>2015-01-08</th>\n",
       "      <td>0.000000</td>\n",
       "      <td>0.000000</td>\n",
       "      <td>0.000000</td>\n",
       "      <td>0.000000</td>\n",
       "      <td>0.008621</td>\n",
       "    </tr>\n",
       "    <tr>\n",
       "      <th>2015-01-09</th>\n",
       "      <td>0.000000</td>\n",
       "      <td>0.000000</td>\n",
       "      <td>0.000000</td>\n",
       "      <td>0.000000</td>\n",
       "      <td>0.000000</td>\n",
       "    </tr>\n",
       "  </tbody>\n",
       "</table>\n",
       "</div>"
      ],
      "text/plain": [
       "             BFIN.jk   ADMF.jk   MFIN.jk   WOMF.jk   IMJS.jk\n",
       "Date                                                        \n",
       "2015-01-05 -0.004975  0.000000 -0.055276 -0.063414 -0.008621\n",
       "2015-01-06  0.000000 -0.006969  0.000000  0.067708  0.034782\n",
       "2015-01-07  0.000000  0.000000  0.000000 -0.004878 -0.025210\n",
       "2015-01-08  0.000000  0.000000  0.000000  0.000000  0.008621\n",
       "2015-01-09  0.000000  0.000000  0.000000  0.000000  0.000000"
      ]
     },
     "execution_count": 28,
     "metadata": {},
     "output_type": "execute_result"
    }
   ],
   "source": [
    "total_return = lease.pct_change().dropna()\n",
    "total_return.head()"
   ]
  },
  {
   "cell_type": "code",
   "execution_count": 29,
   "id": "54a07eed-ab12-49c4-a7df-cc8eed47b6a1",
   "metadata": {
    "tags": []
   },
   "outputs": [],
   "source": [
    "weight =  lease_close.div(lease_close.sum(axis = 1), axis = 0)"
   ]
  },
  {
   "cell_type": "markdown",
   "id": "e2a19fd4-32bb-417b-964e-ded1dfe1f477",
   "metadata": {},
   "source": [
    "## Normalize Closing Price of Each Stock"
   ]
  },
  {
   "cell_type": "code",
   "execution_count": 30,
   "id": "4196dc32-aa0d-4c5e-862a-81bd0a8cf6ed",
   "metadata": {
    "tags": []
   },
   "outputs": [
    {
     "data": {
      "text/html": [
       "<div>\n",
       "<style scoped>\n",
       "    .dataframe tbody tr th:only-of-type {\n",
       "        vertical-align: middle;\n",
       "    }\n",
       "\n",
       "    .dataframe tbody tr th {\n",
       "        vertical-align: top;\n",
       "    }\n",
       "\n",
       "    .dataframe thead th {\n",
       "        text-align: right;\n",
       "    }\n",
       "</style>\n",
       "<table border=\"1\" class=\"dataframe\">\n",
       "  <thead>\n",
       "    <tr style=\"text-align: right;\">\n",
       "      <th></th>\n",
       "      <th>BFIN.jk</th>\n",
       "      <th>ADMF.jk</th>\n",
       "      <th>MFIN.jk</th>\n",
       "      <th>WOMF.jk</th>\n",
       "      <th>IMJS.jk</th>\n",
       "    </tr>\n",
       "    <tr>\n",
       "      <th>Date</th>\n",
       "      <th></th>\n",
       "      <th></th>\n",
       "      <th></th>\n",
       "      <th></th>\n",
       "      <th></th>\n",
       "    </tr>\n",
       "  </thead>\n",
       "  <tbody>\n",
       "    <tr>\n",
       "      <th>2015-01-02</th>\n",
       "      <td>100.000000</td>\n",
       "      <td>100.000000</td>\n",
       "      <td>100.000000</td>\n",
       "      <td>100.000000</td>\n",
       "      <td>100.000000</td>\n",
       "    </tr>\n",
       "    <tr>\n",
       "      <th>2015-01-05</th>\n",
       "      <td>94.117647</td>\n",
       "      <td>100.000000</td>\n",
       "      <td>94.472362</td>\n",
       "      <td>93.658541</td>\n",
       "      <td>99.137931</td>\n",
       "    </tr>\n",
       "    <tr>\n",
       "      <th>2015-01-06</th>\n",
       "      <td>94.117647</td>\n",
       "      <td>99.303136</td>\n",
       "      <td>94.472362</td>\n",
       "      <td>100.000000</td>\n",
       "      <td>102.586207</td>\n",
       "    </tr>\n",
       "    <tr>\n",
       "      <th>2015-01-07</th>\n",
       "      <td>94.117647</td>\n",
       "      <td>99.303136</td>\n",
       "      <td>94.472362</td>\n",
       "      <td>99.512192</td>\n",
       "      <td>100.000000</td>\n",
       "    </tr>\n",
       "    <tr>\n",
       "      <th>2015-01-08</th>\n",
       "      <td>94.117647</td>\n",
       "      <td>99.303136</td>\n",
       "      <td>94.472362</td>\n",
       "      <td>99.512192</td>\n",
       "      <td>100.862069</td>\n",
       "    </tr>\n",
       "  </tbody>\n",
       "</table>\n",
       "</div>"
      ],
      "text/plain": [
       "               BFIN.jk     ADMF.jk     MFIN.jk     WOMF.jk     IMJS.jk\n",
       "Date                                                                  \n",
       "2015-01-02  100.000000  100.000000  100.000000  100.000000  100.000000\n",
       "2015-01-05   94.117647  100.000000   94.472362   93.658541   99.137931\n",
       "2015-01-06   94.117647   99.303136   94.472362  100.000000  102.586207\n",
       "2015-01-07   94.117647   99.303136   94.472362   99.512192  100.000000\n",
       "2015-01-08   94.117647   99.303136   94.472362   99.512192  100.862069"
      ]
     },
     "execution_count": 30,
     "metadata": {},
     "output_type": "execute_result"
    }
   ],
   "source": [
    "norm_lease_close = lease_close / lease_close.iloc[0] * 100\n",
    "norm_lease_close.head()"
   ]
  },
  {
   "cell_type": "markdown",
   "id": "9bab0559-3801-4a6a-a5b2-c55b410dee0b",
   "metadata": {},
   "source": [
    "## Creating PWI & Performance Column"
   ]
  },
  {
   "cell_type": "code",
   "execution_count": 42,
   "id": "fad7bbc1-599e-4d71-aa57-6d33f734a655",
   "metadata": {},
   "outputs": [],
   "source": [
    "norm_lease_close['PWI'] = norm_lease_close.sum(axis = 1) / norm_lease_close.sum(axis = 1)[0] * 100"
   ]
  },
  {
   "cell_type": "code",
   "execution_count": 32,
   "id": "d67a428e-33d0-4d95-98c8-c47ddaf70efc",
   "metadata": {
    "tags": []
   },
   "outputs": [],
   "source": [
    "norm_lease_close['PWI_perf'] = 100 "
   ]
  },
  {
   "cell_type": "code",
   "execution_count": 40,
   "id": "a9dc1cbe-1ca4-423b-bef3-1e0af3362e0c",
   "metadata": {
    "tags": []
   },
   "outputs": [],
   "source": [
    "norm_lease_close.iloc[1:, -1] = total_return.mul(weight.shift().dropna()).sum(axis = 1).add(1).cumprod().mul(100)"
   ]
  },
  {
   "cell_type": "code",
   "execution_count": 43,
   "id": "5a5dd314-efa8-43e9-8364-64b0dc0f2942",
   "metadata": {
    "tags": []
   },
   "outputs": [
    {
     "data": {
      "text/html": [
       "<div>\n",
       "<style scoped>\n",
       "    .dataframe tbody tr th:only-of-type {\n",
       "        vertical-align: middle;\n",
       "    }\n",
       "\n",
       "    .dataframe tbody tr th {\n",
       "        vertical-align: top;\n",
       "    }\n",
       "\n",
       "    .dataframe thead th {\n",
       "        text-align: right;\n",
       "    }\n",
       "</style>\n",
       "<table border=\"1\" class=\"dataframe\">\n",
       "  <thead>\n",
       "    <tr style=\"text-align: right;\">\n",
       "      <th></th>\n",
       "      <th>BFIN.jk</th>\n",
       "      <th>ADMF.jk</th>\n",
       "      <th>MFIN.jk</th>\n",
       "      <th>WOMF.jk</th>\n",
       "      <th>IMJS.jk</th>\n",
       "      <th>PWI</th>\n",
       "      <th>PWI_perf</th>\n",
       "    </tr>\n",
       "    <tr>\n",
       "      <th>Date</th>\n",
       "      <th></th>\n",
       "      <th></th>\n",
       "      <th></th>\n",
       "      <th></th>\n",
       "      <th></th>\n",
       "      <th></th>\n",
       "      <th></th>\n",
       "    </tr>\n",
       "  </thead>\n",
       "  <tbody>\n",
       "    <tr>\n",
       "      <th>2015-01-02</th>\n",
       "      <td>100.000000</td>\n",
       "      <td>100.000000</td>\n",
       "      <td>100.000000</td>\n",
       "      <td>100.000000</td>\n",
       "      <td>100.000000</td>\n",
       "      <td>100.000000</td>\n",
       "      <td>100.000000</td>\n",
       "    </tr>\n",
       "    <tr>\n",
       "      <th>2015-01-05</th>\n",
       "      <td>94.117647</td>\n",
       "      <td>100.000000</td>\n",
       "      <td>94.472362</td>\n",
       "      <td>93.658541</td>\n",
       "      <td>99.137931</td>\n",
       "      <td>96.809110</td>\n",
       "      <td>99.473497</td>\n",
       "    </tr>\n",
       "    <tr>\n",
       "      <th>2015-01-06</th>\n",
       "      <td>94.117647</td>\n",
       "      <td>99.303136</td>\n",
       "      <td>94.472362</td>\n",
       "      <td>100.000000</td>\n",
       "      <td>102.586207</td>\n",
       "      <td>98.290643</td>\n",
       "      <td>99.266454</td>\n",
       "    </tr>\n",
       "    <tr>\n",
       "      <th>2015-01-07</th>\n",
       "      <td>94.117647</td>\n",
       "      <td>99.303136</td>\n",
       "      <td>94.472362</td>\n",
       "      <td>99.512192</td>\n",
       "      <td>100.000000</td>\n",
       "      <td>97.747622</td>\n",
       "      <td>99.083059</td>\n",
       "    </tr>\n",
       "    <tr>\n",
       "      <th>2015-01-08</th>\n",
       "      <td>94.117647</td>\n",
       "      <td>99.303136</td>\n",
       "      <td>94.472362</td>\n",
       "      <td>99.512192</td>\n",
       "      <td>100.862069</td>\n",
       "      <td>97.900929</td>\n",
       "      <td>99.140641</td>\n",
       "    </tr>\n",
       "    <tr>\n",
       "      <th>...</th>\n",
       "      <td>...</td>\n",
       "      <td>...</td>\n",
       "      <td>...</td>\n",
       "      <td>...</td>\n",
       "      <td>...</td>\n",
       "      <td>...</td>\n",
       "      <td>...</td>\n",
       "    </tr>\n",
       "    <tr>\n",
       "      <th>2023-04-10</th>\n",
       "      <td>535.294118</td>\n",
       "      <td>147.038328</td>\n",
       "      <td>391.959799</td>\n",
       "      <td>159.304119</td>\n",
       "      <td>60.344828</td>\n",
       "      <td>265.781537</td>\n",
       "      <td>300.817966</td>\n",
       "    </tr>\n",
       "    <tr>\n",
       "      <th>2023-04-11</th>\n",
       "      <td>535.294118</td>\n",
       "      <td>147.038328</td>\n",
       "      <td>381.909548</td>\n",
       "      <td>155.084142</td>\n",
       "      <td>63.448276</td>\n",
       "      <td>263.842338</td>\n",
       "      <td>300.352489</td>\n",
       "    </tr>\n",
       "    <tr>\n",
       "      <th>2023-04-12</th>\n",
       "      <td>531.372549</td>\n",
       "      <td>148.083624</td>\n",
       "      <td>383.919598</td>\n",
       "      <td>154.029148</td>\n",
       "      <td>66.206897</td>\n",
       "      <td>264.289184</td>\n",
       "      <td>302.198955</td>\n",
       "    </tr>\n",
       "    <tr>\n",
       "      <th>2023-04-13</th>\n",
       "      <td>527.450980</td>\n",
       "      <td>147.386760</td>\n",
       "      <td>387.939698</td>\n",
       "      <td>152.974154</td>\n",
       "      <td>66.551724</td>\n",
       "      <td>263.932946</td>\n",
       "      <td>301.369084</td>\n",
       "    </tr>\n",
       "    <tr>\n",
       "      <th>2023-04-14</th>\n",
       "      <td>515.686275</td>\n",
       "      <td>138.327526</td>\n",
       "      <td>387.939698</td>\n",
       "      <td>151.919159</td>\n",
       "      <td>63.793103</td>\n",
       "      <td>260.231188</td>\n",
       "      <td>303.808347</td>\n",
       "    </tr>\n",
       "  </tbody>\n",
       "</table>\n",
       "<p>2069 rows × 7 columns</p>\n",
       "</div>"
      ],
      "text/plain": [
       "               BFIN.jk     ADMF.jk     MFIN.jk     WOMF.jk     IMJS.jk   \n",
       "Date                                                                     \n",
       "2015-01-02  100.000000  100.000000  100.000000  100.000000  100.000000  \\\n",
       "2015-01-05   94.117647  100.000000   94.472362   93.658541   99.137931   \n",
       "2015-01-06   94.117647   99.303136   94.472362  100.000000  102.586207   \n",
       "2015-01-07   94.117647   99.303136   94.472362   99.512192  100.000000   \n",
       "2015-01-08   94.117647   99.303136   94.472362   99.512192  100.862069   \n",
       "...                ...         ...         ...         ...         ...   \n",
       "2023-04-10  535.294118  147.038328  391.959799  159.304119   60.344828   \n",
       "2023-04-11  535.294118  147.038328  381.909548  155.084142   63.448276   \n",
       "2023-04-12  531.372549  148.083624  383.919598  154.029148   66.206897   \n",
       "2023-04-13  527.450980  147.386760  387.939698  152.974154   66.551724   \n",
       "2023-04-14  515.686275  138.327526  387.939698  151.919159   63.793103   \n",
       "\n",
       "                   PWI    PWI_perf  \n",
       "Date                                \n",
       "2015-01-02  100.000000  100.000000  \n",
       "2015-01-05   96.809110   99.473497  \n",
       "2015-01-06   98.290643   99.266454  \n",
       "2015-01-07   97.747622   99.083059  \n",
       "2015-01-08   97.900929   99.140641  \n",
       "...                ...         ...  \n",
       "2023-04-10  265.781537  300.817966  \n",
       "2023-04-11  263.842338  300.352489  \n",
       "2023-04-12  264.289184  302.198955  \n",
       "2023-04-13  263.932946  301.369084  \n",
       "2023-04-14  260.231188  303.808347  \n",
       "\n",
       "[2069 rows x 7 columns]"
      ]
     },
     "execution_count": 43,
     "metadata": {},
     "output_type": "execute_result"
    }
   ],
   "source": [
    "norm_lease_close"
   ]
  },
  {
   "cell_type": "markdown",
   "id": "8cd33065-aa38-4fa0-ad5b-76cfaa603e47",
   "metadata": {},
   "source": [
    "## Creating Summary of the Return"
   ]
  },
  {
   "cell_type": "code",
   "execution_count": 48,
   "id": "5b2b3fc5-b1a1-42e1-b5b5-d5719d268ae9",
   "metadata": {
    "tags": []
   },
   "outputs": [
    {
     "data": {
      "text/html": [
       "<div>\n",
       "<style scoped>\n",
       "    .dataframe tbody tr th:only-of-type {\n",
       "        vertical-align: middle;\n",
       "    }\n",
       "\n",
       "    .dataframe tbody tr th {\n",
       "        vertical-align: top;\n",
       "    }\n",
       "\n",
       "    .dataframe thead th {\n",
       "        text-align: right;\n",
       "    }\n",
       "</style>\n",
       "<table border=\"1\" class=\"dataframe\">\n",
       "  <thead>\n",
       "    <tr style=\"text-align: right;\">\n",
       "      <th></th>\n",
       "      <th>count</th>\n",
       "      <th>mean</th>\n",
       "      <th>std</th>\n",
       "      <th>min</th>\n",
       "      <th>25%</th>\n",
       "      <th>50%</th>\n",
       "      <th>75%</th>\n",
       "      <th>max</th>\n",
       "    </tr>\n",
       "  </thead>\n",
       "  <tbody>\n",
       "    <tr>\n",
       "      <th>BFIN.jk</th>\n",
       "      <td>2068.0</td>\n",
       "      <td>0.001182</td>\n",
       "      <td>0.028183</td>\n",
       "      <td>-0.180328</td>\n",
       "      <td>-0.009091</td>\n",
       "      <td>0.000000e+00</td>\n",
       "      <td>0.007874</td>\n",
       "      <td>0.222500</td>\n",
       "    </tr>\n",
       "    <tr>\n",
       "      <th>ADMF.jk</th>\n",
       "      <td>2068.0</td>\n",
       "      <td>0.000277</td>\n",
       "      <td>0.015478</td>\n",
       "      <td>-0.181818</td>\n",
       "      <td>-0.003587</td>\n",
       "      <td>0.000000e+00</td>\n",
       "      <td>0.004053</td>\n",
       "      <td>0.132316</td>\n",
       "    </tr>\n",
       "    <tr>\n",
       "      <th>MFIN.jk</th>\n",
       "      <td>2068.0</td>\n",
       "      <td>0.000925</td>\n",
       "      <td>0.023351</td>\n",
       "      <td>-0.148148</td>\n",
       "      <td>-0.005006</td>\n",
       "      <td>0.000000e+00</td>\n",
       "      <td>0.005814</td>\n",
       "      <td>0.203883</td>\n",
       "    </tr>\n",
       "    <tr>\n",
       "      <th>WOMF.jk</th>\n",
       "      <td>2068.0</td>\n",
       "      <td>0.000729</td>\n",
       "      <td>0.033280</td>\n",
       "      <td>-0.207071</td>\n",
       "      <td>-0.010230</td>\n",
       "      <td>0.000000e+00</td>\n",
       "      <td>0.008475</td>\n",
       "      <td>0.346939</td>\n",
       "    </tr>\n",
       "    <tr>\n",
       "      <th>IMJS.jk</th>\n",
       "      <td>2068.0</td>\n",
       "      <td>0.000479</td>\n",
       "      <td>0.038116</td>\n",
       "      <td>-0.248739</td>\n",
       "      <td>-0.014787</td>\n",
       "      <td>0.000000e+00</td>\n",
       "      <td>0.007421</td>\n",
       "      <td>0.379310</td>\n",
       "    </tr>\n",
       "    <tr>\n",
       "      <th>PWI</th>\n",
       "      <td>2068.0</td>\n",
       "      <td>0.000642</td>\n",
       "      <td>0.019095</td>\n",
       "      <td>-0.294151</td>\n",
       "      <td>-0.005939</td>\n",
       "      <td>0.000000e+00</td>\n",
       "      <td>0.006481</td>\n",
       "      <td>0.388628</td>\n",
       "    </tr>\n",
       "    <tr>\n",
       "      <th>PWI_perf</th>\n",
       "      <td>2068.0</td>\n",
       "      <td>0.000621</td>\n",
       "      <td>0.012915</td>\n",
       "      <td>-0.146990</td>\n",
       "      <td>-0.003646</td>\n",
       "      <td>2.043919e-09</td>\n",
       "      <td>0.005016</td>\n",
       "      <td>0.111167</td>\n",
       "    </tr>\n",
       "  </tbody>\n",
       "</table>\n",
       "</div>"
      ],
      "text/plain": [
       "           count      mean       std       min       25%           50%   \n",
       "BFIN.jk   2068.0  0.001182  0.028183 -0.180328 -0.009091  0.000000e+00  \\\n",
       "ADMF.jk   2068.0  0.000277  0.015478 -0.181818 -0.003587  0.000000e+00   \n",
       "MFIN.jk   2068.0  0.000925  0.023351 -0.148148 -0.005006  0.000000e+00   \n",
       "WOMF.jk   2068.0  0.000729  0.033280 -0.207071 -0.010230  0.000000e+00   \n",
       "IMJS.jk   2068.0  0.000479  0.038116 -0.248739 -0.014787  0.000000e+00   \n",
       "PWI       2068.0  0.000642  0.019095 -0.294151 -0.005939  0.000000e+00   \n",
       "PWI_perf  2068.0  0.000621  0.012915 -0.146990 -0.003646  2.043919e-09   \n",
       "\n",
       "               75%       max  \n",
       "BFIN.jk   0.007874  0.222500  \n",
       "ADMF.jk   0.004053  0.132316  \n",
       "MFIN.jk   0.005814  0.203883  \n",
       "WOMF.jk   0.008475  0.346939  \n",
       "IMJS.jk   0.007421  0.379310  \n",
       "PWI       0.006481  0.388628  \n",
       "PWI_perf  0.005016  0.111167  "
      ]
     },
     "execution_count": 48,
     "metadata": {},
     "output_type": "execute_result"
    }
   ],
   "source": [
    "summary = norm_lease_close.pct_change().dropna().describe().T\n",
    "summary"
   ]
  },
  {
   "cell_type": "markdown",
   "id": "6dc3d0ef-7df3-46a9-967e-fb1fdc46192a",
   "metadata": {},
   "source": [
    "### Annualizing the mean and the std "
   ]
  },
  {
   "cell_type": "code",
   "execution_count": 49,
   "id": "ba07da1d-04ef-40d5-b689-788e4ea36ec8",
   "metadata": {
    "tags": []
   },
   "outputs": [],
   "source": [
    "summary['mean'] = summary['mean'] * 250\n",
    "summary['std'] = summary['std'] * 250**0.5"
   ]
  },
  {
   "cell_type": "code",
   "execution_count": 51,
   "id": "96f1e1af-33e3-47c7-b111-af7fc19a2b75",
   "metadata": {
    "tags": []
   },
   "outputs": [],
   "source": [
    "summary = summary[['mean', 'std']]"
   ]
  },
  {
   "cell_type": "code",
   "execution_count": 52,
   "id": "6a1aca6c-f123-47af-96e4-5e04d52a46a0",
   "metadata": {
    "tags": []
   },
   "outputs": [
    {
     "data": {
      "text/html": [
       "<div>\n",
       "<style scoped>\n",
       "    .dataframe tbody tr th:only-of-type {\n",
       "        vertical-align: middle;\n",
       "    }\n",
       "\n",
       "    .dataframe tbody tr th {\n",
       "        vertical-align: top;\n",
       "    }\n",
       "\n",
       "    .dataframe thead th {\n",
       "        text-align: right;\n",
       "    }\n",
       "</style>\n",
       "<table border=\"1\" class=\"dataframe\">\n",
       "  <thead>\n",
       "    <tr style=\"text-align: right;\">\n",
       "      <th></th>\n",
       "      <th>mean</th>\n",
       "      <th>std</th>\n",
       "    </tr>\n",
       "  </thead>\n",
       "  <tbody>\n",
       "    <tr>\n",
       "      <th>BFIN.jk</th>\n",
       "      <td>0.295502</td>\n",
       "      <td>0.445609</td>\n",
       "    </tr>\n",
       "    <tr>\n",
       "      <th>ADMF.jk</th>\n",
       "      <td>0.069260</td>\n",
       "      <td>0.244736</td>\n",
       "    </tr>\n",
       "    <tr>\n",
       "      <th>MFIN.jk</th>\n",
       "      <td>0.231187</td>\n",
       "      <td>0.369214</td>\n",
       "    </tr>\n",
       "    <tr>\n",
       "      <th>WOMF.jk</th>\n",
       "      <td>0.182175</td>\n",
       "      <td>0.526205</td>\n",
       "    </tr>\n",
       "    <tr>\n",
       "      <th>IMJS.jk</th>\n",
       "      <td>0.119802</td>\n",
       "      <td>0.602667</td>\n",
       "    </tr>\n",
       "    <tr>\n",
       "      <th>PWI</th>\n",
       "      <td>0.160592</td>\n",
       "      <td>0.301915</td>\n",
       "    </tr>\n",
       "    <tr>\n",
       "      <th>PWI_perf</th>\n",
       "      <td>0.155223</td>\n",
       "      <td>0.204204</td>\n",
       "    </tr>\n",
       "  </tbody>\n",
       "</table>\n",
       "</div>"
      ],
      "text/plain": [
       "              mean       std\n",
       "BFIN.jk   0.295502  0.445609\n",
       "ADMF.jk   0.069260  0.244736\n",
       "MFIN.jk   0.231187  0.369214\n",
       "WOMF.jk   0.182175  0.526205\n",
       "IMJS.jk   0.119802  0.602667\n",
       "PWI       0.160592  0.301915\n",
       "PWI_perf  0.155223  0.204204"
      ]
     },
     "execution_count": 52,
     "metadata": {},
     "output_type": "execute_result"
    }
   ],
   "source": [
    "summary"
   ]
  },
  {
   "cell_type": "markdown",
   "id": "9bb4bd28-1d36-461d-ab99-b109faf0fa62",
   "metadata": {},
   "source": [
    "## Visualizing Price Vs Total Performance Return "
   ]
  },
  {
   "cell_type": "code",
   "execution_count": 54,
   "id": "655dba63-9bbd-4d83-be3f-21f668262842",
   "metadata": {
    "tags": []
   },
   "outputs": [
    {
     "data": {
      "image/png": "[encoded data removed]",
      "text/plain": [
       "<Figure size 1500x1000 with 1 Axes>"
      ]
     },
     "metadata": {},
     "output_type": "display_data"
    }
   ],
   "source": [
    "norm_lease_close.iloc[:, -2:].plot(figsize = (15,10), linewidth = 1.5, fontsize = 10)\n",
    "plt.legend(fontsize = 10)\n",
    "plt.show()"
   ]
  },
  {
   "cell_type": "code",
   "execution_count": null,
   "id": "1084a1a2-8547-43a5-a7a3-4e485b1495d3",
   "metadata": {},
   "outputs": [],
   "source": []
  }
 ],
 "metadata": {
  "kernelspec": {
   "display_name": "Python 3 (ipykernel)",
   "language": "python",
   "name": "python3"
  },
  "language_info": {
   "codemirror_mode": {
    "name": "ipython",
    "version": 3
   },
   "file_extension": ".py",
   "mimetype": "text/x-python",
   "name": "python",
   "nbconvert_exporter": "python",
   "pygments_lexer": "ipython3",
   "version": "3.11.3"
  }
 },
 "nbformat": 4,
 "nbformat_minor": 5
}
