{
 "cells": [
  {
   "cell_type": "markdown",
   "id": "8d994afe-0ad3-4913-bf71-c39f6a0f6977",
   "metadata": {},
   "source": [
    "# Rolling Correlation"
   ]
  },
  {
   "cell_type": "code",
   "execution_count": 1,
   "id": "6618045c-be77-4ec1-a3ac-d22b9c42d9cc",
   "metadata": {
    "tags": []
   },
   "outputs": [],
   "source": [
    "import pandas as pd\n",
    "import numpy as np \n",
    "import matplotlib.pyplot as plt \n",
    "import yfinance \n",
    "from pandas_datareader import data as wb\n",
    "import warnings\n",
    "yfinance.pdr_override()\n",
    "warnings.filterwarnings('ignore')"
   ]
  },
  {
   "cell_type": "code",
   "execution_count": 3,
   "id": "9d93df7d-37c0-42b6-b202-89bcd86a6de3",
   "metadata": {
    "tags": []
   },
   "outputs": [],
   "source": [
    "amrt_indf = pd.DataFrame()"
   ]
  },
  {
   "cell_type": "code",
   "execution_count": 19,
   "id": "e16880a3-70c7-4aa8-842a-fcbf34684c86",
   "metadata": {
    "tags": []
   },
   "outputs": [
    {
     "name": "stdout",
     "output_type": "stream",
     "text": [
      "[*********************100%***********************]  1 of 1 completed\n",
      "[*********************100%***********************]  1 of 1 completed\n"
     ]
    }
   ],
   "source": [
    "tickers = ['INDF.jk', 'AMRT.jk']\n",
    "for ticker in tickers : \n",
    "    amrt_indf[ticker] = wb.get_data_yahoo(f'{ticker}', start = '2007-01-01', end = '2022-12-31')['Close']"
   ]
  },
  {
   "cell_type": "code",
   "execution_count": 29,
   "id": "d8f75734-c49f-4f50-8c2d-7b6456fbf2f7",
   "metadata": {
    "tags": []
   },
   "outputs": [],
   "source": [
    "amrt_indf.rename(columns ={'INDF.jk':'INDF',\n",
    "                           'AMRT.jk':'AMRT'}, inplace = True)"
   ]
  },
  {
   "cell_type": "code",
   "execution_count": 34,
   "id": "999514c0-7e78-441d-9a01-06169e57c16b",
   "metadata": {
    "tags": []
   },
   "outputs": [],
   "source": [
    "amrt_indf.dropna(inplace = True)"
   ]
  },
  {
   "cell_type": "code",
   "execution_count": 69,
   "id": "5529bae1-5895-4e88-baf3-bc4914f977f9",
   "metadata": {
    "tags": []
   },
   "outputs": [
    {
     "data": {
      "text/html": [
       "<div>\n",
       "<style scoped>\n",
       "    .dataframe tbody tr th:only-of-type {\n",
       "        vertical-align: middle;\n",
       "    }\n",
       "\n",
       "    .dataframe tbody tr th {\n",
       "        vertical-align: top;\n",
       "    }\n",
       "\n",
       "    .dataframe thead th {\n",
       "        text-align: right;\n",
       "    }\n",
       "</style>\n",
       "<table border=\"1\" class=\"dataframe\">\n",
       "  <thead>\n",
       "    <tr style=\"text-align: right;\">\n",
       "      <th></th>\n",
       "      <th>INDF</th>\n",
       "      <th>AMRT</th>\n",
       "    </tr>\n",
       "    <tr>\n",
       "      <th>Date</th>\n",
       "      <th></th>\n",
       "      <th></th>\n",
       "    </tr>\n",
       "  </thead>\n",
       "  <tbody>\n",
       "    <tr>\n",
       "      <th>2009-01</th>\n",
       "      <td>980.0</td>\n",
       "      <td>40.0</td>\n",
       "    </tr>\n",
       "    <tr>\n",
       "      <th>2009-02</th>\n",
       "      <td>880.0</td>\n",
       "      <td>40.0</td>\n",
       "    </tr>\n",
       "    <tr>\n",
       "      <th>2009-03</th>\n",
       "      <td>940.0</td>\n",
       "      <td>35.5</td>\n",
       "    </tr>\n",
       "    <tr>\n",
       "      <th>2009-04</th>\n",
       "      <td>1280.0</td>\n",
       "      <td>35.0</td>\n",
       "    </tr>\n",
       "    <tr>\n",
       "      <th>2009-05</th>\n",
       "      <td>1780.0</td>\n",
       "      <td>40.0</td>\n",
       "    </tr>\n",
       "    <tr>\n",
       "      <th>2009-06</th>\n",
       "      <td>1930.0</td>\n",
       "      <td>38.5</td>\n",
       "    </tr>\n",
       "    <tr>\n",
       "      <th>2009-07</th>\n",
       "      <td>2275.0</td>\n",
       "      <td>41.0</td>\n",
       "    </tr>\n",
       "    <tr>\n",
       "      <th>2009-08</th>\n",
       "      <td>2500.0</td>\n",
       "      <td>41.0</td>\n",
       "    </tr>\n",
       "    <tr>\n",
       "      <th>2009-09</th>\n",
       "      <td>3025.0</td>\n",
       "      <td>42.0</td>\n",
       "    </tr>\n",
       "    <tr>\n",
       "      <th>2009-10</th>\n",
       "      <td>3075.0</td>\n",
       "      <td>41.5</td>\n",
       "    </tr>\n",
       "    <tr>\n",
       "      <th>2009-11</th>\n",
       "      <td>3075.0</td>\n",
       "      <td>42.5</td>\n",
       "    </tr>\n",
       "    <tr>\n",
       "      <th>2009-12</th>\n",
       "      <td>3550.0</td>\n",
       "      <td>52.0</td>\n",
       "    </tr>\n",
       "  </tbody>\n",
       "</table>\n",
       "</div>"
      ],
      "text/plain": [
       "           INDF  AMRT\n",
       "Date                 \n",
       "2009-01   980.0  40.0\n",
       "2009-02   880.0  40.0\n",
       "2009-03   940.0  35.5\n",
       "2009-04  1280.0  35.0\n",
       "2009-05  1780.0  40.0\n",
       "2009-06  1930.0  38.5\n",
       "2009-07  2275.0  41.0\n",
       "2009-08  2500.0  41.0\n",
       "2009-09  3025.0  42.0\n",
       "2009-10  3075.0  41.5\n",
       "2009-11  3075.0  42.5\n",
       "2009-12  3550.0  52.0"
      ]
     },
     "execution_count": 69,
     "metadata": {},
     "output_type": "execute_result"
    }
   ],
   "source": [
    "amrt_indf.resample('M', kind = 'period').last().head(12)"
   ]
  },
  {
   "cell_type": "code",
   "execution_count": 37,
   "id": "6066e834-9af0-4bc6-9691-adfb5d99cbbd",
   "metadata": {
    "tags": []
   },
   "outputs": [
    {
     "data": {
      "text/html": [
       "<div>\n",
       "<style scoped>\n",
       "    .dataframe tbody tr th:only-of-type {\n",
       "        vertical-align: middle;\n",
       "    }\n",
       "\n",
       "    .dataframe tbody tr th {\n",
       "        vertical-align: top;\n",
       "    }\n",
       "\n",
       "    .dataframe thead th {\n",
       "        text-align: right;\n",
       "    }\n",
       "</style>\n",
       "<table border=\"1\" class=\"dataframe\">\n",
       "  <thead>\n",
       "    <tr style=\"text-align: right;\">\n",
       "      <th></th>\n",
       "      <th>INDF</th>\n",
       "      <th>AMRT</th>\n",
       "    </tr>\n",
       "    <tr>\n",
       "      <th>Date</th>\n",
       "      <th></th>\n",
       "      <th></th>\n",
       "    </tr>\n",
       "  </thead>\n",
       "  <tbody>\n",
       "    <tr>\n",
       "      <th>2009-01</th>\n",
       "      <td>NaN</td>\n",
       "      <td>NaN</td>\n",
       "    </tr>\n",
       "    <tr>\n",
       "      <th>2009-02</th>\n",
       "      <td>-0.102041</td>\n",
       "      <td>0.000000</td>\n",
       "    </tr>\n",
       "    <tr>\n",
       "      <th>2009-03</th>\n",
       "      <td>0.068182</td>\n",
       "      <td>-0.112500</td>\n",
       "    </tr>\n",
       "    <tr>\n",
       "      <th>2009-04</th>\n",
       "      <td>0.361702</td>\n",
       "      <td>-0.014085</td>\n",
       "    </tr>\n",
       "    <tr>\n",
       "      <th>2009-05</th>\n",
       "      <td>0.390625</td>\n",
       "      <td>0.142857</td>\n",
       "    </tr>\n",
       "  </tbody>\n",
       "</table>\n",
       "</div>"
      ],
      "text/plain": [
       "             INDF      AMRT\n",
       "Date                       \n",
       "2009-01       NaN       NaN\n",
       "2009-02 -0.102041  0.000000\n",
       "2009-03  0.068182 -0.112500\n",
       "2009-04  0.361702 -0.014085\n",
       "2009-05  0.390625  0.142857"
      ]
     },
     "execution_count": 37,
     "metadata": {},
     "output_type": "execute_result"
    }
   ],
   "source": [
    "month_return = amrt_indf.resample('M', kind ='period').last().pct_change()\n",
    "month_return"
   ]
  },
  {
   "cell_type": "code",
   "execution_count": 38,
   "id": "3f4ffc57-0d87-477d-be4a-790df25c13fc",
   "metadata": {
    "tags": []
   },
   "outputs": [],
   "source": [
    "month_return.dropna(inplace = True)"
   ]
  },
  {
   "cell_type": "markdown",
   "id": "4b3737b9-77b9-4450-add9-aee454f5f42e",
   "metadata": {},
   "source": [
    "## Calculating Regular Correlation With df.corr() method"
   ]
  },
  {
   "cell_type": "code",
   "execution_count": 39,
   "id": "73b800a0-56fa-4ccf-b2e2-9e50d2e04db3",
   "metadata": {
    "tags": []
   },
   "outputs": [
    {
     "data": {
      "text/html": [
       "<div>\n",
       "<style scoped>\n",
       "    .dataframe tbody tr th:only-of-type {\n",
       "        vertical-align: middle;\n",
       "    }\n",
       "\n",
       "    .dataframe tbody tr th {\n",
       "        vertical-align: top;\n",
       "    }\n",
       "\n",
       "    .dataframe thead th {\n",
       "        text-align: right;\n",
       "    }\n",
       "</style>\n",
       "<table border=\"1\" class=\"dataframe\">\n",
       "  <thead>\n",
       "    <tr style=\"text-align: right;\">\n",
       "      <th></th>\n",
       "      <th>INDF</th>\n",
       "      <th>AMRT</th>\n",
       "    </tr>\n",
       "  </thead>\n",
       "  <tbody>\n",
       "    <tr>\n",
       "      <th>INDF</th>\n",
       "      <td>1.000000</td>\n",
       "      <td>0.142149</td>\n",
       "    </tr>\n",
       "    <tr>\n",
       "      <th>AMRT</th>\n",
       "      <td>0.142149</td>\n",
       "      <td>1.000000</td>\n",
       "    </tr>\n",
       "  </tbody>\n",
       "</table>\n",
       "</div>"
      ],
      "text/plain": [
       "          INDF      AMRT\n",
       "INDF  1.000000  0.142149\n",
       "AMRT  0.142149  1.000000"
      ]
     },
     "execution_count": 39,
     "metadata": {},
     "output_type": "execute_result"
    }
   ],
   "source": [
    "month_return.corr()"
   ]
  },
  {
   "cell_type": "markdown",
   "id": "ad7b9a97-4f0d-4514-a84e-9e1d20a6ebd0",
   "metadata": {},
   "source": [
    "## Calculating Monthly Rolling Calculation"
   ]
  },
  {
   "cell_type": "code",
   "execution_count": 73,
   "id": "8c40c104-4f6f-4ffb-b719-3661d7ce6871",
   "metadata": {
    "tags": []
   },
   "outputs": [
    {
     "data": {
      "text/html": [
       "<div>\n",
       "<style scoped>\n",
       "    .dataframe tbody tr th:only-of-type {\n",
       "        vertical-align: middle;\n",
       "    }\n",
       "\n",
       "    .dataframe tbody tr th {\n",
       "        vertical-align: top;\n",
       "    }\n",
       "\n",
       "    .dataframe thead th {\n",
       "        text-align: right;\n",
       "    }\n",
       "</style>\n",
       "<table border=\"1\" class=\"dataframe\">\n",
       "  <thead>\n",
       "    <tr style=\"text-align: right;\">\n",
       "      <th></th>\n",
       "      <th>INDF</th>\n",
       "      <th>AMRT</th>\n",
       "    </tr>\n",
       "    <tr>\n",
       "      <th>Date</th>\n",
       "      <th></th>\n",
       "      <th></th>\n",
       "    </tr>\n",
       "  </thead>\n",
       "  <tbody>\n",
       "    <tr>\n",
       "      <th>2009-02</th>\n",
       "      <td>NaN</td>\n",
       "      <td>NaN</td>\n",
       "    </tr>\n",
       "    <tr>\n",
       "      <th>2009-03</th>\n",
       "      <td>NaN</td>\n",
       "      <td>NaN</td>\n",
       "    </tr>\n",
       "    <tr>\n",
       "      <th>2009-04</th>\n",
       "      <td>NaN</td>\n",
       "      <td>NaN</td>\n",
       "    </tr>\n",
       "    <tr>\n",
       "      <th>2009-05</th>\n",
       "      <td>NaN</td>\n",
       "      <td>NaN</td>\n",
       "    </tr>\n",
       "    <tr>\n",
       "      <th>2009-06</th>\n",
       "      <td>NaN</td>\n",
       "      <td>NaN</td>\n",
       "    </tr>\n",
       "    <tr>\n",
       "      <th>2009-07</th>\n",
       "      <td>NaN</td>\n",
       "      <td>NaN</td>\n",
       "    </tr>\n",
       "    <tr>\n",
       "      <th>2009-08</th>\n",
       "      <td>NaN</td>\n",
       "      <td>NaN</td>\n",
       "    </tr>\n",
       "    <tr>\n",
       "      <th>2009-09</th>\n",
       "      <td>NaN</td>\n",
       "      <td>NaN</td>\n",
       "    </tr>\n",
       "    <tr>\n",
       "      <th>2009-10</th>\n",
       "      <td>NaN</td>\n",
       "      <td>NaN</td>\n",
       "    </tr>\n",
       "    <tr>\n",
       "      <th>2009-11</th>\n",
       "      <td>NaN</td>\n",
       "      <td>NaN</td>\n",
       "    </tr>\n",
       "    <tr>\n",
       "      <th>2009-12</th>\n",
       "      <td>NaN</td>\n",
       "      <td>NaN</td>\n",
       "    </tr>\n",
       "    <tr>\n",
       "      <th>2010-01</th>\n",
       "      <td>1.47548</td>\n",
       "      <td>0.938434</td>\n",
       "    </tr>\n",
       "  </tbody>\n",
       "</table>\n",
       "</div>"
      ],
      "text/plain": [
       "            INDF      AMRT\n",
       "Date                      \n",
       "2009-02      NaN       NaN\n",
       "2009-03      NaN       NaN\n",
       "2009-04      NaN       NaN\n",
       "2009-05      NaN       NaN\n",
       "2009-06      NaN       NaN\n",
       "2009-07      NaN       NaN\n",
       "2009-08      NaN       NaN\n",
       "2009-09      NaN       NaN\n",
       "2009-10      NaN       NaN\n",
       "2009-11      NaN       NaN\n",
       "2009-12      NaN       NaN\n",
       "2010-01  1.47548  0.938434"
      ]
     },
     "execution_count": 73,
     "metadata": {},
     "output_type": "execute_result"
    }
   ],
   "source": [
    "month_return.head(12).rolling(12).mean() * 12"
   ]
  },
  {
   "cell_type": "code",
   "execution_count": 43,
   "id": "e8c88979-d2ff-46ca-b852-82c357cfad8c",
   "metadata": {
    "tags": []
   },
   "outputs": [
    {
     "data": {
      "text/plain": [
       "Date\n",
       "2009-02         NaN\n",
       "2009-03         NaN\n",
       "2009-04         NaN\n",
       "2009-05         NaN\n",
       "2009-06         NaN\n",
       "             ...   \n",
       "2022-08   -0.100669\n",
       "2022-09   -0.107573\n",
       "2022-10    0.008250\n",
       "2022-11   -0.006847\n",
       "2022-12   -0.112543\n",
       "Freq: M, Length: 167, dtype: float64"
      ]
     },
     "execution_count": 43,
     "metadata": {},
     "output_type": "execute_result"
    }
   ],
   "source": [
    "month_return['INDF'].rolling(12).corr(month_return['AMRT'])"
   ]
  },
  {
   "cell_type": "code",
   "execution_count": 52,
   "id": "166e3e29-afd9-4358-82fa-1ce41462018e",
   "metadata": {
    "tags": []
   },
   "outputs": [
    {
     "data": {
      "image/png": "[encoded data removed]",
      "text/plain": [
       "<Figure size 1200x800 with 1 Axes>"
      ]
     },
     "metadata": {},
     "output_type": "display_data"
    }
   ],
   "source": [
    "plt.style.use('fivethirtyeight')\n",
    "month_return['INDF'].rolling(24).corr(month_return['AMRT']).plot(figsize = (12,8), linewidth = 1)\n",
    "plt.show()"
   ]
  },
  {
   "cell_type": "code",
   "execution_count": null,
   "id": "21cfeb68-0ed7-44a8-b829-b0f775fe5edf",
   "metadata": {},
   "outputs": [],
   "source": []
  }
 ],
 "metadata": {
  "kernelspec": {
   "display_name": "Python 3 (ipykernel)",
   "language": "python",
   "name": "python3"
  },
  "language_info": {
   "codemirror_mode": {
    "name": "ipython",
    "version": 3
   },
   "file_extension": ".py",
   "mimetype": "text/x-python",
   "name": "python",
   "nbconvert_exporter": "python",
   "pygments_lexer": "ipython3",
   "version": "3.11.3"
  }
 },
 "nbformat": 4,
 "nbformat_minor": 5
}
