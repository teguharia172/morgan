{
 "cells": [
  {
   "cell_type": "markdown",
   "id": "f08c5761-cc56-4b7b-867a-0966b0328a5d",
   "metadata": {},
   "source": [
    "# Calculating the Risk of Securities"
   ]
  },
  {
   "cell_type": "code",
   "execution_count": 1,
   "id": "edddc53b-ff0f-405e-8a48-2a0d20cb021a",
   "metadata": {
    "tags": []
   },
   "outputs": [],
   "source": [
    "import pandas as pd \n",
    "from pandas_datareader import data as wb\n",
    "import yfinance \n",
    "import matplotlib.pyplot as plt \n",
    "import numpy as np "
   ]
  },
  {
   "cell_type": "code",
   "execution_count": 2,
   "id": "daf679c2-9330-49db-8bc5-df20b0f3ea42",
   "metadata": {
    "tags": []
   },
   "outputs": [],
   "source": [
    "yfinance.pdr_override()"
   ]
  },
  {
   "cell_type": "markdown",
   "id": "310adbdc-2b5a-49ae-b8a1-d730477c462d",
   "metadata": {},
   "source": [
    "## Importing Securities Data "
   ]
  },
  {
   "cell_type": "code",
   "execution_count": 9,
   "id": "5ac6078b-cdb3-4378-b644-82a21f7419c0",
   "metadata": {
    "tags": []
   },
   "outputs": [
    {
     "name": "stdout",
     "output_type": "stream",
     "text": [
      "[*********************100%***********************]  1 of 1 completed\n",
      "[*********************100%***********************]  1 of 1 completed\n",
      "[*********************100%***********************]  1 of 1 completed\n"
     ]
    }
   ],
   "source": [
    "amrt = wb.get_data_yahoo('AMRT.jk', start = '2015-01-01', end = '2023-04-01')['Adj Close']\n",
    "bfin = wb.get_data_yahoo('BFIN.jk', start = '2015-01-01', end = '2023-04-01')['Adj Close']\n",
    "admf = wb.get_data_yahoo('ADMF.jk', start = '2015-01-01', end = '2023-04-01')['Adj Close']"
   ]
  },
  {
   "cell_type": "markdown",
   "id": "55ef3447-0eab-4f6d-931b-785fb30af610",
   "metadata": {},
   "source": [
    "## Calculating Log Retrn of Adj Closing Price"
   ]
  },
  {
   "cell_type": "code",
   "execution_count": 17,
   "id": "9a576c24-c71c-4c79-ae89-1384eaadea1c",
   "metadata": {
    "tags": []
   },
   "outputs": [],
   "source": [
    "amrt_log_return = np.log(amrt / amrt.shift(1))\n",
    "bfin_log_return = np.log(bfin / bfin.shift(1))\n",
    "admf_log_return = np.log(admf / admf.shift(1))"
   ]
  },
  {
   "cell_type": "markdown",
   "id": "394fce24-a792-4722-88dd-aada13e70bc3",
   "metadata": {},
   "source": [
    "### AMRT"
   ]
  },
  {
   "cell_type": "markdown",
   "id": "76cee0e4-4a1f-4c85-ba1f-6aea6d7797ca",
   "metadata": {},
   "source": [
    "#### Daily Return"
   ]
  },
  {
   "cell_type": "code",
   "execution_count": 19,
   "id": "df30533f-ca65-4ff3-af8c-c8647c18b081",
   "metadata": {
    "tags": []
   },
   "outputs": [
    {
     "data": {
      "text/plain": [
       "0.0008906954416571424"
      ]
     },
     "execution_count": 19,
     "metadata": {},
     "output_type": "execute_result"
    }
   ],
   "source": [
    "amrt_log_return.mean()"
   ]
  },
  {
   "cell_type": "code",
   "execution_count": 20,
   "id": "71d8bef3-083f-4474-af2f-d8959cd05619",
   "metadata": {
    "tags": []
   },
   "outputs": [
    {
     "data": {
      "text/plain": [
       "0.02599994308438336"
      ]
     },
     "execution_count": 20,
     "metadata": {},
     "output_type": "execute_result"
    }
   ],
   "source": [
    "amrt_log_return.std()"
   ]
  },
  {
   "cell_type": "markdown",
   "id": "dffb7657-e413-4348-8d94-d7aa8f5c8d6f",
   "metadata": {},
   "source": [
    "#### Annual Return "
   ]
  },
  {
   "cell_type": "code",
   "execution_count": 22,
   "id": "58ea5367-e2b9-4c5a-af97-ea5edaa8dbfc",
   "metadata": {
    "tags": []
   },
   "outputs": [
    {
     "data": {
      "text/plain": [
       "0.2226738604142856"
      ]
     },
     "execution_count": 22,
     "metadata": {},
     "output_type": "execute_result"
    }
   ],
   "source": [
    "amrt_log_return.mean() * 250"
   ]
  },
  {
   "cell_type": "code",
   "execution_count": 23,
   "id": "f70b2320-735a-4771-8da1-67c4522c6e94",
   "metadata": {
    "tags": []
   },
   "outputs": [
    {
     "data": {
      "text/plain": [
       "0.4110951959069742"
      ]
     },
     "execution_count": 23,
     "metadata": {},
     "output_type": "execute_result"
    }
   ],
   "source": [
    "amrt_log_return.std() * 250 ** 0.5"
   ]
  },
  {
   "cell_type": "markdown",
   "id": "616ba468-99d8-4086-ae4c-ebae89573269",
   "metadata": {},
   "source": [
    "### ADMF"
   ]
  },
  {
   "cell_type": "markdown",
   "id": "3784f431-e708-4480-ba20-362d57b465a7",
   "metadata": {},
   "source": [
    "#### Daily Return"
   ]
  },
  {
   "cell_type": "code",
   "execution_count": 41,
   "id": "eb4c1b0a-a927-43d1-b53e-72f1cc900130",
   "metadata": {
    "tags": []
   },
   "outputs": [
    {
     "data": {
      "text/plain": [
       "0.0004935776516072988"
      ]
     },
     "execution_count": 41,
     "metadata": {},
     "output_type": "execute_result"
    }
   ],
   "source": [
    "admf_daily_return = admf_log_return.mean()\n",
    "admf_daily_return"
   ]
  },
  {
   "cell_type": "code",
   "execution_count": 25,
   "id": "4ec7e420-baf8-4175-aa15-10bef080b7ea",
   "metadata": {
    "tags": []
   },
   "outputs": [
    {
     "data": {
      "text/plain": [
       "0.014894356587411794"
      ]
     },
     "execution_count": 25,
     "metadata": {},
     "output_type": "execute_result"
    }
   ],
   "source": [
    "admf_log_return.std()"
   ]
  },
  {
   "cell_type": "markdown",
   "id": "8bbdfada-d67d-4eb4-9767-40190b0e8ec7",
   "metadata": {},
   "source": [
    "#### Annual Return"
   ]
  },
  {
   "cell_type": "code",
   "execution_count": 26,
   "id": "4e0293c0-57e4-431e-85b0-f7c406c44042",
   "metadata": {
    "tags": []
   },
   "outputs": [
    {
     "data": {
      "text/plain": [
       "0.1233944129018247"
      ]
     },
     "execution_count": 26,
     "metadata": {},
     "output_type": "execute_result"
    }
   ],
   "source": [
    "admf_log_return.mean() * 250"
   ]
  },
  {
   "cell_type": "code",
   "execution_count": 27,
   "id": "69e1d293-eadf-4a19-8ffe-812c8284d407",
   "metadata": {
    "tags": []
   },
   "outputs": [
    {
     "data": {
      "text/plain": [
       "0.23550045549477028"
      ]
     },
     "execution_count": 27,
     "metadata": {},
     "output_type": "execute_result"
    }
   ],
   "source": [
    "admf_log_return.std() * 250 ** 0.5"
   ]
  },
  {
   "cell_type": "markdown",
   "id": "88197edc-3f84-47e9-8d00-9f4c68098553",
   "metadata": {},
   "source": [
    "### BFIN"
   ]
  },
  {
   "cell_type": "markdown",
   "id": "40f94854-480b-488f-a33a-5c18088c6e2d",
   "metadata": {},
   "source": [
    "#### Daily Return"
   ]
  },
  {
   "cell_type": "code",
   "execution_count": 29,
   "id": "9dae8ff0-8e6d-45e3-bbd8-7f2d71e6d1e6",
   "metadata": {
    "tags": []
   },
   "outputs": [
    {
     "data": {
      "text/plain": [
       "0.0010348809855993022"
      ]
     },
     "execution_count": 29,
     "metadata": {},
     "output_type": "execute_result"
    }
   ],
   "source": [
    "bfin_log_return.mean()"
   ]
  },
  {
   "cell_type": "code",
   "execution_count": 30,
   "id": "3eca4253-9577-4c1e-93ee-cdf0e030e043",
   "metadata": {
    "tags": []
   },
   "outputs": [
    {
     "data": {
      "text/plain": [
       "0.02777862919420809"
      ]
     },
     "execution_count": 30,
     "metadata": {},
     "output_type": "execute_result"
    }
   ],
   "source": [
    "bfin_log_return.std()"
   ]
  },
  {
   "cell_type": "markdown",
   "id": "1f6a44fe-8be8-46b4-8241-52d220034e0b",
   "metadata": {},
   "source": [
    "#### Annual Return "
   ]
  },
  {
   "cell_type": "code",
   "execution_count": 31,
   "id": "c1559347-117a-4c2a-b66a-cab5703790f2",
   "metadata": {
    "tags": []
   },
   "outputs": [
    {
     "data": {
      "text/plain": [
       "0.25872024639982555"
      ]
     },
     "execution_count": 31,
     "metadata": {},
     "output_type": "execute_result"
    }
   ],
   "source": [
    "bfin_log_return.mean() * 250"
   ]
  },
  {
   "cell_type": "code",
   "execution_count": 33,
   "id": "a84902ef-2615-4429-92bd-8a24f42382e7",
   "metadata": {
    "tags": []
   },
   "outputs": [
    {
     "data": {
      "text/plain": [
       "0.43921869265472696"
      ]
     },
     "execution_count": 33,
     "metadata": {},
     "output_type": "execute_result"
    }
   ],
   "source": [
    "bfin_log_return.std() * 250 ** 0.5"
   ]
  },
  {
   "cell_type": "markdown",
   "id": "28800d6a-3fc8-49d4-bec2-5f4942eae53a",
   "metadata": {},
   "source": [
    "## Compiling Into a Single DataFrame "
   ]
  },
  {
   "cell_type": "markdown",
   "id": "3f0698fe-4c95-43a2-ae00-c3ce6079d25c",
   "metadata": {},
   "source": [
    "### Daily"
   ]
  },
  {
   "cell_type": "code",
   "execution_count": 61,
   "id": "ca62a8f5-4fa9-4056-9b76-29dba8d6d05d",
   "metadata": {
    "tags": []
   },
   "outputs": [
    {
     "data": {
      "text/html": [
       "<div>\n",
       "<style scoped>\n",
       "    .dataframe tbody tr th:only-of-type {\n",
       "        vertical-align: middle;\n",
       "    }\n",
       "\n",
       "    .dataframe tbody tr th {\n",
       "        vertical-align: top;\n",
       "    }\n",
       "\n",
       "    .dataframe thead th {\n",
       "        text-align: right;\n",
       "    }\n",
       "</style>\n",
       "<table border=\"1\" class=\"dataframe\">\n",
       "  <thead>\n",
       "    <tr style=\"text-align: right;\">\n",
       "      <th></th>\n",
       "      <th>admf</th>\n",
       "      <th>amrt</th>\n",
       "      <th>bfin</th>\n",
       "    </tr>\n",
       "  </thead>\n",
       "  <tbody>\n",
       "    <tr>\n",
       "      <th>1</th>\n",
       "      <td>0.000494</td>\n",
       "      <td>0.000891</td>\n",
       "      <td>0.001035</td>\n",
       "    </tr>\n",
       "  </tbody>\n",
       "</table>\n",
       "</div>"
      ],
      "text/plain": [
       "       admf      amrt      bfin\n",
       "1  0.000494  0.000891  0.001035"
      ]
     },
     "execution_count": 61,
     "metadata": {},
     "output_type": "execute_result"
    }
   ],
   "source": [
    "daily_return =  pd.DataFrame({\n",
    "    'admf':admf_log_return.mean(),\n",
    "    'amrt' :amrt_log_return.mean(),\n",
    "    'bfin' : bfin_log_return.mean()}, index = [1])\n",
    "daily_return"
   ]
  },
  {
   "cell_type": "code",
   "execution_count": 62,
   "id": "9ff3b8f1-34d4-4b27-ab2a-98adde5d5fa4",
   "metadata": {
    "tags": []
   },
   "outputs": [
    {
     "data": {
      "text/html": [
       "<div>\n",
       "<style scoped>\n",
       "    .dataframe tbody tr th:only-of-type {\n",
       "        vertical-align: middle;\n",
       "    }\n",
       "\n",
       "    .dataframe tbody tr th {\n",
       "        vertical-align: top;\n",
       "    }\n",
       "\n",
       "    .dataframe thead th {\n",
       "        text-align: right;\n",
       "    }\n",
       "</style>\n",
       "<table border=\"1\" class=\"dataframe\">\n",
       "  <thead>\n",
       "    <tr style=\"text-align: right;\">\n",
       "      <th></th>\n",
       "      <th>admf</th>\n",
       "      <th>amrt</th>\n",
       "      <th>bfin</th>\n",
       "    </tr>\n",
       "  </thead>\n",
       "  <tbody>\n",
       "    <tr>\n",
       "      <th>1</th>\n",
       "      <td>0.014894</td>\n",
       "      <td>0.026</td>\n",
       "      <td>0.027779</td>\n",
       "    </tr>\n",
       "  </tbody>\n",
       "</table>\n",
       "</div>"
      ],
      "text/plain": [
       "       admf   amrt      bfin\n",
       "1  0.014894  0.026  0.027779"
      ]
     },
     "execution_count": 62,
     "metadata": {},
     "output_type": "execute_result"
    }
   ],
   "source": [
    "daily_deviation = pd.DataFrame({\n",
    "    'admf':admf_log_return.std(),\n",
    "    'amrt' :amrt_log_return.std(),\n",
    "    'bfin' : bfin_log_return.std()}, index = [1])\n",
    "daily_deviation"
   ]
  },
  {
   "cell_type": "markdown",
   "id": "d4674dfa-df62-467d-b476-d83c9b703348",
   "metadata": {},
   "source": [
    "### Annualy"
   ]
  },
  {
   "cell_type": "code",
   "execution_count": 64,
   "id": "f88dcfdf-ce6c-4f3b-843e-e6b01fce7bcd",
   "metadata": {
    "tags": []
   },
   "outputs": [
    {
     "data": {
      "text/html": [
       "<div>\n",
       "<style scoped>\n",
       "    .dataframe tbody tr th:only-of-type {\n",
       "        vertical-align: middle;\n",
       "    }\n",
       "\n",
       "    .dataframe tbody tr th {\n",
       "        vertical-align: top;\n",
       "    }\n",
       "\n",
       "    .dataframe thead th {\n",
       "        text-align: right;\n",
       "    }\n",
       "</style>\n",
       "<table border=\"1\" class=\"dataframe\">\n",
       "  <thead>\n",
       "    <tr style=\"text-align: right;\">\n",
       "      <th></th>\n",
       "      <th>admf</th>\n",
       "      <th>amrt</th>\n",
       "      <th>bfin</th>\n",
       "    </tr>\n",
       "  </thead>\n",
       "  <tbody>\n",
       "    <tr>\n",
       "      <th>1</th>\n",
       "      <td>0.123394</td>\n",
       "      <td>0.222674</td>\n",
       "      <td>0.25872</td>\n",
       "    </tr>\n",
       "  </tbody>\n",
       "</table>\n",
       "</div>"
      ],
      "text/plain": [
       "       admf      amrt     bfin\n",
       "1  0.123394  0.222674  0.25872"
      ]
     },
     "execution_count": 64,
     "metadata": {},
     "output_type": "execute_result"
    }
   ],
   "source": [
    "annual_return =  pd.DataFrame({\n",
    "    'admf':admf_log_return.mean() * 250,\n",
    "    'amrt' :amrt_log_return.mean() * 250,\n",
    "    'bfin' : bfin_log_return.mean() * 250}, index = [1])\n",
    "annual_return"
   ]
  },
  {
   "cell_type": "code",
   "execution_count": 65,
   "id": "1720312f-d78c-40b0-a27e-66b5c973ce2b",
   "metadata": {
    "tags": []
   },
   "outputs": [
    {
     "data": {
      "text/html": [
       "<div>\n",
       "<style scoped>\n",
       "    .dataframe tbody tr th:only-of-type {\n",
       "        vertical-align: middle;\n",
       "    }\n",
       "\n",
       "    .dataframe tbody tr th {\n",
       "        vertical-align: top;\n",
       "    }\n",
       "\n",
       "    .dataframe thead th {\n",
       "        text-align: right;\n",
       "    }\n",
       "</style>\n",
       "<table border=\"1\" class=\"dataframe\">\n",
       "  <thead>\n",
       "    <tr style=\"text-align: right;\">\n",
       "      <th></th>\n",
       "      <th>admf</th>\n",
       "      <th>amrt</th>\n",
       "      <th>bfin</th>\n",
       "    </tr>\n",
       "  </thead>\n",
       "  <tbody>\n",
       "    <tr>\n",
       "      <th>1</th>\n",
       "      <td>0.2355</td>\n",
       "      <td>0.411095</td>\n",
       "      <td>0.439219</td>\n",
       "    </tr>\n",
       "  </tbody>\n",
       "</table>\n",
       "</div>"
      ],
      "text/plain": [
       "     admf      amrt      bfin\n",
       "1  0.2355  0.411095  0.439219"
      ]
     },
     "execution_count": 65,
     "metadata": {},
     "output_type": "execute_result"
    }
   ],
   "source": [
    "annual_deviation = pd.DataFrame({\n",
    "    'admf':admf_log_return.std() *250 **0.5,\n",
    "    'amrt' :amrt_log_return.std() *250 **0.5,\n",
    "    'bfin' : bfin_log_return.std() *250 **0.5}, index = [1])\n",
    "annual_deviation"
   ]
  }
 ],
 "metadata": {
  "kernelspec": {
   "display_name": "Python 3 (ipykernel)",
   "language": "python",
   "name": "python3"
  },
  "language_info": {
   "codemirror_mode": {
    "name": "ipython",
    "version": 3
   },
   "file_extension": ".py",
   "mimetype": "text/x-python",
   "name": "python",
   "nbconvert_exporter": "python",
   "pygments_lexer": "ipython3",
   "version": "3.11.3"
  }
 },
 "nbformat": 4,
 "nbformat_minor": 5
}
