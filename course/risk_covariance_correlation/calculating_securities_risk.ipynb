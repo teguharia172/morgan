{
 "cells": [
  {
   "cell_type": "markdown",
   "id": "f08c5761-cc56-4b7b-867a-0966b0328a5d",
   "metadata": {},
   "source": [
    "# Calculating the Risk of Securities"
   ]
  },
  {
   "cell_type": "code",
   "execution_count": 1,
   "id": "edddc53b-ff0f-405e-8a48-2a0d20cb021a",
   "metadata": {
    "tags": []
   },
   "outputs": [],
   "source": [
    "import pandas as pd \n",
    "from pandas_datareader import data as wb\n",
    "import yfinance \n",
    "import matplotlib.pyplot as plt \n",
    "import numpy as np "
   ]
  },
  {
   "cell_type": "code",
   "execution_count": 2,
   "id": "daf679c2-9330-49db-8bc5-df20b0f3ea42",
   "metadata": {
    "tags": []
   },
   "outputs": [],
   "source": [
    "yfinance.pdr_override()"
   ]
  },
  {
   "cell_type": "markdown",
   "id": "310adbdc-2b5a-49ae-b8a1-d730477c462d",
   "metadata": {},
   "source": [
    "## Importing Securities Data "
   ]
  },
  {
   "cell_type": "code",
   "execution_count": 9,
   "id": "5ac6078b-cdb3-4378-b644-82a21f7419c0",
   "metadata": {
    "tags": []
   },
   "outputs": [
    {
     "name": "stdout",
     "output_type": "stream",
     "text": [
      "[*********************100%***********************]  1 of 1 completed\n",
      "[*********************100%***********************]  1 of 1 completed\n",
      "[*********************100%***********************]  1 of 1 completed\n"
     ]
    }
   ],
   "source": [
    "amrt = wb.get_data_yahoo('AMRT.jk', start = '2015-01-01', end = '2023-04-01')['Adj Close']\n",
    "bfin = wb.get_data_yahoo('BFIN.jk', start = '2015-01-01', end = '2023-04-01')['Adj Close']\n",
    "admf = wb.get_data_yahoo('ADMF.jk', start = '2015-01-01', end = '2023-04-01')['Adj Close']"
   ]
  },
  {
   "cell_type": "markdown",
   "id": "55ef3447-0eab-4f6d-931b-785fb30af610",
   "metadata": {},
   "source": [
    "## Calculating Log Retrn of Adj Closing Price"
   ]
  },
  {
   "cell_type": "code",
   "execution_count": 17,
   "id": "9a576c24-c71c-4c79-ae89-1384eaadea1c",
   "metadata": {
    "tags": []
   },
   "outputs": [],
   "source": [
    "amrt_log_return = np.log(amrt / amrt.shift(1))\n",
    "bfin_log_return = np.log(bfin / bfin.shift(1))\n",
    "admf_log_return = np.log(admf / admf.shift(1))"
   ]
  },
  {
   "cell_type": "markdown",
   "id": "394fce24-a792-4722-88dd-aada13e70bc3",
   "metadata": {},
   "source": [
    "### AMRT"
   ]
  },
  {
   "cell_type": "markdown",
   "id": "76cee0e4-4a1f-4c85-ba1f-6aea6d7797ca",
   "metadata": {},
   "source": [
    "#### Daily Return"
   ]
  },
  {
   "cell_type": "code",
   "execution_count": 19,
   "id": "df30533f-ca65-4ff3-af8c-c8647c18b081",
   "metadata": {
    "tags": []
   },
   "outputs": [
    {
     "data": {
      "text/plain": [
       "0.0008906954416571424"
      ]
     },
     "execution_count": 19,
     "metadata": {},
     "output_type": "execute_result"
    }
   ],
   "source": [
    "amrt_log_return.mean()"
   ]
  },
  {
   "cell_type": "code",
   "execution_count": 20,
   "id": "71d8bef3-083f-4474-af2f-d8959cd05619",
   "metadata": {
    "tags": []
   },
   "outputs": [
    {
     "data": {
      "text/plain": [
       "0.02599994308438336"
      ]
     },
     "execution_count": 20,
     "metadata": {},
     "output_type": "execute_result"
    }
   ],
   "source": [
    "amrt_log_return.std()"
   ]
  },
  {
   "cell_type": "markdown",
   "id": "dffb7657-e413-4348-8d94-d7aa8f5c8d6f",
   "metadata": {},
   "source": [
    "#### Annual Return "
   ]
  },
  {
   "cell_type": "code",
   "execution_count": 22,
   "id": "58ea5367-e2b9-4c5a-af97-ea5edaa8dbfc",
   "metadata": {
    "tags": []
   },
   "outputs": [
    {
     "data": {
      "text/plain": [
       "0.2226738604142856"
      ]
     },
     "execution_count": 22,
     "metadata": {},
     "output_type": "execute_result"
    }
   ],
   "source": [
    "amrt_log_return.mean() * 250"
   ]
  },
  {
   "cell_type": "code",
   "execution_count": 23,
   "id": "f70b2320-735a-4771-8da1-67c4522c6e94",
   "metadata": {
    "tags": []
   },
   "outputs": [
    {
     "data": {
      "text/plain": [
       "0.4110951959069742"
      ]
     },
     "execution_count": 23,
     "metadata": {},
     "output_type": "execute_result"
    }
   ],
   "source": [
    "amrt_log_return.std() * 250 ** 0.5"
   ]
  },
  {
   "cell_type": "markdown",
   "id": "616ba468-99d8-4086-ae4c-ebae89573269",
   "metadata": {},
   "source": [
    "### ADMF"
   ]
  },
  {
   "cell_type": "markdown",
   "id": "3784f431-e708-4480-ba20-362d57b465a7",
   "metadata": {},
   "source": [
    "#### Daily Return"
   ]
  },
  {
   "cell_type": "code",
   "execution_count": 41,
   "id": "eb4c1b0a-a927-43d1-b53e-72f1cc900130",
   "metadata": {
    "tags": []
   },
   "outputs": [
    {
     "data": {
      "text/plain": [
       "0.0004935776516072988"
      ]
     },
     "execution_count": 41,
     "metadata": {},
     "output_type": "execute_result"
    }
   ],
   "source": [
    "admf_daily_return = admf_log_return.mean()\n",
    "admf_daily_return"
   ]
  },
  {
   "cell_type": "code",
   "execution_count": 25,
   "id": "4ec7e420-baf8-4175-aa15-10bef080b7ea",
   "metadata": {
    "tags": []
   },
   "outputs": [
    {
     "data": {
      "text/plain": [
       "0.014894356587411794"
      ]
     },
     "execution_count": 25,
     "metadata": {},
     "output_type": "execute_result"
    }
   ],
   "source": [
    "admf_log_return.std()"
   ]
  },
  {
   "cell_type": "markdown",
   "id": "8bbdfada-d67d-4eb4-9767-40190b0e8ec7",
   "metadata": {},
   "source": [
    "#### Annual Return"
   ]
  },
  {
   "cell_type": "code",
   "execution_count": 26,
   "id": "4e0293c0-57e4-431e-85b0-f7c406c44042",
   "metadata": {
    "tags": []
   },
   "outputs": [
    {
     "data": {
      "text/plain": [
       "0.1233944129018247"
      ]
     },
     "execution_count": 26,
     "metadata": {},
     "output_type": "execute_result"
    }
   ],
   "source": [
    "admf_log_return.mean() * 250"
   ]
  },
  {
   "cell_type": "code",
   "execution_count": 27,
   "id": "69e1d293-eadf-4a19-8ffe-812c8284d407",
   "metadata": {
    "tags": []
   },
   "outputs": [
    {
     "data": {
      "text/plain": [
       "0.23550045549477028"
      ]
     },
     "execution_count": 27,
     "metadata": {},
     "output_type": "execute_result"
    }
   ],
   "source": [
    "admf_log_return.std() * 250 ** 0.5"
   ]
  },
  {
   "cell_type": "markdown",
   "id": "88197edc-3f84-47e9-8d00-9f4c68098553",
   "metadata": {},
   "source": [
    "### BFIN"
   ]
  },
  {
   "cell_type": "markdown",
   "id": "40f94854-480b-488f-a33a-5c18088c6e2d",
   "metadata": {},
   "source": [
    "#### Daily Return"
   ]
  },
  {
   "cell_type": "code",
   "execution_count": 29,
   "id": "9dae8ff0-8e6d-45e3-bbd8-7f2d71e6d1e6",
   "metadata": {
    "tags": []
   },
   "outputs": [
    {
     "data": {
      "text/plain": [
       "0.0010348809855993022"
      ]
     },
     "execution_count": 29,
     "metadata": {},
     "output_type": "execute_result"
    }
   ],
   "source": [
    "bfin_log_return.mean()"
   ]
  },
  {
   "cell_type": "code",
   "execution_count": 30,
   "id": "3eca4253-9577-4c1e-93ee-cdf0e030e043",
   "metadata": {
    "tags": []
   },
   "outputs": [
    {
     "data": {
      "text/plain": [
       "0.02777862919420809"
      ]
     },
     "execution_count": 30,
     "metadata": {},
     "output_type": "execute_result"
    }
   ],
   "source": [
    "bfin_log_return.std()"
   ]
  },
  {
   "cell_type": "markdown",
   "id": "1f6a44fe-8be8-46b4-8241-52d220034e0b",
   "metadata": {},
   "source": [
    "#### Annual Return "
   ]
  },
  {
   "cell_type": "code",
   "execution_count": 31,
   "id": "c1559347-117a-4c2a-b66a-cab5703790f2",
   "metadata": {
    "tags": []
   },
   "outputs": [
    {
     "data": {
      "text/plain": [
       "0.25872024639982555"
      ]
     },
     "execution_count": 31,
     "metadata": {},
     "output_type": "execute_result"
    }
   ],
   "source": [
    "bfin_log_return.mean() * 250"
   ]
  },
  {
   "cell_type": "code",
   "execution_count": 33,
   "id": "a84902ef-2615-4429-92bd-8a24f42382e7",
   "metadata": {
    "tags": []
   },
   "outputs": [
    {
     "data": {
      "text/plain": [
       "0.43921869265472696"
      ]
     },
     "execution_count": 33,
     "metadata": {},
     "output_type": "execute_result"
    }
   ],
   "source": [
    "bfin_log_return.std() * 250 ** 0.5"
   ]
  },
  {
   "cell_type": "markdown",
   "id": "28800d6a-3fc8-49d4-bec2-5f4942eae53a",
   "metadata": {},
   "source": [
    "## Compiling Into a Single DataFrame "
   ]
  },
  {
   "cell_type": "markdown",
   "id": "3f0698fe-4c95-43a2-ae00-c3ce6079d25c",
   "metadata": {},
   "source": [
    "### Daily"
   ]
  },
  {
   "cell_type": "code",
   "execution_count": 61,
   "id": "ca62a8f5-4fa9-4056-9b76-29dba8d6d05d",
   "metadata": {
    "tags": []
   },
   "outputs": [
    {
     "data": {
      "text/html": [
       "<div>\n",
       "<style scoped>\n",
       "    .dataframe tbody tr th:only-of-type {\n",
       "        vertical-align: middle;\n",
       "    }\n",
       "\n",
       "    .dataframe tbody tr th {\n",
       "        vertical-align: top;\n",
       "    }\n",
       "\n",
       "    .dataframe thead th {\n",
       "        text-align: right;\n",
       "    }\n",
       "</style>\n",
       "<table border=\"1\" class=\"dataframe\">\n",
       "  <thead>\n",
       "    <tr style=\"text-align: right;\">\n",
       "      <th></th>\n",
       "      <th>admf</th>\n",
       "      <th>amrt</th>\n",
       "      <th>bfin</th>\n",
       "    </tr>\n",
       "  </thead>\n",
       "  <tbody>\n",
       "    <tr>\n",
       "      <th>1</th>\n",
       "      <td>0.000494</td>\n",
       "      <td>0.000891</td>\n",
       "      <td>0.001035</td>\n",
       "    </tr>\n",
       "  </tbody>\n",
       "</table>\n",
       "</div>"
      ],
      "text/plain": [
       "       admf      amrt      bfin\n",
       "1  0.000494  0.000891  0.001035"
      ]
     },
     "execution_count": 61,
     "metadata": {},
     "output_type": "execute_result"
    }
   ],
   "source": [
    "daily_return =  pd.DataFrame({\n",
    "    'admf':admf_log_return.mean(),\n",
    "    'amrt' :amrt_log_return.mean(),\n",
    "    'bfin' : bfin_log_return.mean()}, index = [1])\n",
    "daily_return"
   ]
  },
  {
   "cell_type": "code",
   "execution_count": 62,
   "id": "9ff3b8f1-34d4-4b27-ab2a-98adde5d5fa4",
   "metadata": {
    "tags": []
   },
   "outputs": [
    {
     "data": {
      "text/html": [
       "<div>\n",
       "<style scoped>\n",
       "    .dataframe tbody tr th:only-of-type {\n",
       "        vertical-align: middle;\n",
       "    }\n",
       "\n",
       "    .dataframe tbody tr th {\n",
       "        vertical-align: top;\n",
       "    }\n",
       "\n",
       "    .dataframe thead th {\n",
       "        text-align: right;\n",
       "    }\n",
       "</style>\n",
       "<table border=\"1\" class=\"dataframe\">\n",
       "  <thead>\n",
       "    <tr style=\"text-align: right;\">\n",
       "      <th></th>\n",
       "      <th>admf</th>\n",
       "      <th>amrt</th>\n",
       "      <th>bfin</th>\n",
       "    </tr>\n",
       "  </thead>\n",
       "  <tbody>\n",
       "    <tr>\n",
       "      <th>1</th>\n",
       "      <td>0.014894</td>\n",
       "      <td>0.026</td>\n",
       "      <td>0.027779</td>\n",
       "    </tr>\n",
       "  </tbody>\n",
       "</table>\n",
       "</div>"
      ],
      "text/plain": [
       "       admf   amrt      bfin\n",
       "1  0.014894  0.026  0.027779"
      ]
     },
     "execution_count": 62,
     "metadata": {},
     "output_type": "execute_result"
    }
   ],
   "source": [
    "daily_deviation = pd.DataFrame({\n",
    "    'admf':admf_log_return.std(),\n",
    "    'amrt' :amrt_log_return.std(),\n",
    "    'bfin' : bfin_log_return.std()}, index = [1])\n",
    "daily_deviation"
   ]
  },
  {
   "cell_type": "markdown",
   "id": "d4674dfa-df62-467d-b476-d83c9b703348",
   "metadata": {},
   "source": [
    "### Annualy"
   ]
  },
  {
   "cell_type": "code",
   "execution_count": 64,
   "id": "f88dcfdf-ce6c-4f3b-843e-e6b01fce7bcd",
   "metadata": {
    "tags": []
   },
   "outputs": [
    {
     "data": {
      "text/html": [
       "<div>\n",
       "<style scoped>\n",
       "    .dataframe tbody tr th:only-of-type {\n",
       "        vertical-align: middle;\n",
       "    }\n",
       "\n",
       "    .dataframe tbody tr th {\n",
       "        vertical-align: top;\n",
       "    }\n",
       "\n",
       "    .dataframe thead th {\n",
       "        text-align: right;\n",
       "    }\n",
       "</style>\n",
       "<table border=\"1\" class=\"dataframe\">\n",
       "  <thead>\n",
       "    <tr style=\"text-align: right;\">\n",
       "      <th></th>\n",
       "      <th>admf</th>\n",
       "      <th>amrt</th>\n",
       "      <th>bfin</th>\n",
       "    </tr>\n",
       "  </thead>\n",
       "  <tbody>\n",
       "    <tr>\n",
       "      <th>1</th>\n",
       "      <td>0.123394</td>\n",
       "      <td>0.222674</td>\n",
       "      <td>0.25872</td>\n",
       "    </tr>\n",
       "  </tbody>\n",
       "</table>\n",
       "</div>"
      ],
      "text/plain": [
       "       admf      amrt     bfin\n",
       "1  0.123394  0.222674  0.25872"
      ]
     },
     "execution_count": 64,
     "metadata": {},
     "output_type": "execute_result"
    }
   ],
   "source": [
    "annual_return =  pd.DataFrame({\n",
    "    'admf':admf_log_return.mean() * 250,\n",
    "    'amrt' :amrt_log_return.mean() * 250,\n",
    "    'bfin' : bfin_log_return.mean() * 250}, index = [1])\n",
    "annual_return"
   ]
  },
  {
   "cell_type": "code",
   "execution_count": 65,
   "id": "1720312f-d78c-40b0-a27e-66b5c973ce2b",
   "metadata": {
    "tags": []
   },
   "outputs": [
    {
     "data": {
      "text/html": [
       "<div>\n",
       "<style scoped>\n",
       "    .dataframe tbody tr th:only-of-type {\n",
       "        vertical-align: middle;\n",
       "    }\n",
       "\n",
       "    .dataframe tbody tr th {\n",
       "        vertical-align: top;\n",
       "    }\n",
       "\n",
       "    .dataframe thead th {\n",
       "        text-align: right;\n",
       "    }\n",
       "</style>\n",
       "<table border=\"1\" class=\"dataframe\">\n",
       "  <thead>\n",
       "    <tr style=\"text-align: right;\">\n",
       "      <th></th>\n",
       "      <th>admf</th>\n",
       "      <th>amrt</th>\n",
       "      <th>bfin</th>\n",
       "    </tr>\n",
       "  </thead>\n",
       "  <tbody>\n",
       "    <tr>\n",
       "      <th>1</th>\n",
       "      <td>0.2355</td>\n",
       "      <td>0.411095</td>\n",
       "      <td>0.439219</td>\n",
       "    </tr>\n",
       "  </tbody>\n",
       "</table>\n",
       "</div>"
      ],
      "text/plain": [
       "     admf      amrt      bfin\n",
       "1  0.2355  0.411095  0.439219"
      ]
     },
     "execution_count": 65,
     "metadata": {},
     "output_type": "execute_result"
    }
   ],
   "source": [
    "annual_deviation = pd.DataFrame({\n",
    "    'admf':admf_log_return.std() *250 **0.5,\n",
    "    'amrt' :amrt_log_return.std() *250 **0.5,\n",
    "    'bfin' : bfin_log_return.std() *250 **0.5}, index = [1])\n",
    "annual_deviation"
   ]
  },
  {
   "cell_type": "markdown",
   "id": "3eb3093e-bdf1-4195-acd2-706c85c145cc",
   "metadata": {},
   "source": [
    "## Compiling Risk & Return Simpler Way"
   ]
  },
  {
   "cell_type": "code",
   "execution_count": 108,
   "id": "22b6afe5-5667-4edd-a46f-6701327265e7",
   "metadata": {
    "tags": []
   },
   "outputs": [
    {
     "name": "stdout",
     "output_type": "stream",
     "text": [
      "[*********************100%***********************]  1 of 1 completed\n",
      "[*********************100%***********************]  1 of 1 completed\n",
      "[*********************100%***********************]  1 of 1 completed\n",
      "[*********************100%***********************]  1 of 1 completed\n",
      "[*********************100%***********************]  1 of 1 completed\n",
      "[*********************100%***********************]  1 of 1 completed\n"
     ]
    },
    {
     "data": {
      "text/html": [
       "<div>\n",
       "<style scoped>\n",
       "    .dataframe tbody tr th:only-of-type {\n",
       "        vertical-align: middle;\n",
       "    }\n",
       "\n",
       "    .dataframe tbody tr th {\n",
       "        vertical-align: top;\n",
       "    }\n",
       "\n",
       "    .dataframe thead th {\n",
       "        text-align: right;\n",
       "    }\n",
       "</style>\n",
       "<table border=\"1\" class=\"dataframe\">\n",
       "  <thead>\n",
       "    <tr style=\"text-align: right;\">\n",
       "      <th></th>\n",
       "      <th>BFIN.jk</th>\n",
       "      <th>BNGA.jk</th>\n",
       "      <th>ADMF.jk</th>\n",
       "      <th>MFIN.jk</th>\n",
       "      <th>APIC.jk</th>\n",
       "      <th>ARNA.jk</th>\n",
       "    </tr>\n",
       "    <tr>\n",
       "      <th>Date</th>\n",
       "      <th></th>\n",
       "      <th></th>\n",
       "      <th></th>\n",
       "      <th></th>\n",
       "      <th></th>\n",
       "      <th></th>\n",
       "    </tr>\n",
       "  </thead>\n",
       "  <tbody>\n",
       "    <tr>\n",
       "      <th>2017-01-02</th>\n",
       "      <td>262.053680</td>\n",
       "      <td>654.197388</td>\n",
       "      <td>3709.806396</td>\n",
       "      <td>262.041595</td>\n",
       "      <td>428.0</td>\n",
       "      <td>376.830109</td>\n",
       "    </tr>\n",
       "    <tr>\n",
       "      <th>2017-01-03</th>\n",
       "      <td>262.053680</td>\n",
       "      <td>654.197388</td>\n",
       "      <td>3599.885986</td>\n",
       "      <td>262.041595</td>\n",
       "      <td>416.0</td>\n",
       "      <td>380.453461</td>\n",
       "    </tr>\n",
       "    <tr>\n",
       "      <th>2017-01-04</th>\n",
       "      <td>247.079239</td>\n",
       "      <td>654.197388</td>\n",
       "      <td>3517.446289</td>\n",
       "      <td>262.041595</td>\n",
       "      <td>410.0</td>\n",
       "      <td>297.116089</td>\n",
       "    </tr>\n",
       "    <tr>\n",
       "      <th>2017-01-05</th>\n",
       "      <td>258.310150</td>\n",
       "      <td>646.455383</td>\n",
       "      <td>3489.966064</td>\n",
       "      <td>263.765533</td>\n",
       "      <td>412.0</td>\n",
       "      <td>360.887299</td>\n",
       "    </tr>\n",
       "    <tr>\n",
       "      <th>2017-01-06</th>\n",
       "      <td>258.310150</td>\n",
       "      <td>650.326477</td>\n",
       "      <td>3462.485840</td>\n",
       "      <td>263.765533</td>\n",
       "      <td>412.0</td>\n",
       "      <td>362.336639</td>\n",
       "    </tr>\n",
       "  </tbody>\n",
       "</table>\n",
       "</div>"
      ],
      "text/plain": [
       "               BFIN.jk     BNGA.jk      ADMF.jk     MFIN.jk  APIC.jk   \n",
       "Date                                                                   \n",
       "2017-01-02  262.053680  654.197388  3709.806396  262.041595    428.0  \\\n",
       "2017-01-03  262.053680  654.197388  3599.885986  262.041595    416.0   \n",
       "2017-01-04  247.079239  654.197388  3517.446289  262.041595    410.0   \n",
       "2017-01-05  258.310150  646.455383  3489.966064  263.765533    412.0   \n",
       "2017-01-06  258.310150  650.326477  3462.485840  263.765533    412.0   \n",
       "\n",
       "               ARNA.jk  \n",
       "Date                    \n",
       "2017-01-02  376.830109  \n",
       "2017-01-03  380.453461  \n",
       "2017-01-04  297.116089  \n",
       "2017-01-05  360.887299  \n",
       "2017-01-06  362.336639  "
      ]
     },
     "execution_count": 108,
     "metadata": {},
     "output_type": "execute_result"
    }
   ],
   "source": [
    "tickers = ['BFIN.jk', 'BNGA.jk', 'ADMF.jk', 'MFIN.jk', 'APIC.jk', 'ARNA.jk']\n",
    "financial_institution = pd.DataFrame()\n",
    "for ticker in tickers : \n",
    "    financial_institution[ticker] = wb.get_data_yahoo(ticker, start = '2017-01-01', end = '2023-04-01')['Adj Close']\n",
    "financial_institution.head()"
   ]
  },
  {
   "cell_type": "code",
   "execution_count": 109,
   "id": "e97fc635-6fb8-4ae3-9f91-11f0600fb5be",
   "metadata": {
    "tags": []
   },
   "outputs": [
    {
     "data": {
      "text/html": [
       "<div>\n",
       "<style scoped>\n",
       "    .dataframe tbody tr th:only-of-type {\n",
       "        vertical-align: middle;\n",
       "    }\n",
       "\n",
       "    .dataframe tbody tr th {\n",
       "        vertical-align: top;\n",
       "    }\n",
       "\n",
       "    .dataframe thead th {\n",
       "        text-align: right;\n",
       "    }\n",
       "</style>\n",
       "<table border=\"1\" class=\"dataframe\">\n",
       "  <thead>\n",
       "    <tr style=\"text-align: right;\">\n",
       "      <th></th>\n",
       "      <th>BFIN.jk</th>\n",
       "      <th>BNGA.jk</th>\n",
       "      <th>ADMF.jk</th>\n",
       "      <th>MFIN.jk</th>\n",
       "      <th>APIC.jk</th>\n",
       "      <th>ARNA.jk</th>\n",
       "    </tr>\n",
       "    <tr>\n",
       "      <th>Date</th>\n",
       "      <th></th>\n",
       "      <th></th>\n",
       "      <th></th>\n",
       "      <th></th>\n",
       "      <th></th>\n",
       "      <th></th>\n",
       "    </tr>\n",
       "  </thead>\n",
       "  <tbody>\n",
       "    <tr>\n",
       "      <th>2023-03-27</th>\n",
       "      <td>1290.0</td>\n",
       "      <td>1260.0</td>\n",
       "      <td>9333.068359</td>\n",
       "      <td>1695.0</td>\n",
       "      <td>1190.0</td>\n",
       "      <td>975.0</td>\n",
       "    </tr>\n",
       "    <tr>\n",
       "      <th>2023-03-28</th>\n",
       "      <td>1300.0</td>\n",
       "      <td>1255.0</td>\n",
       "      <td>9379.271484</td>\n",
       "      <td>1700.0</td>\n",
       "      <td>1185.0</td>\n",
       "      <td>1000.0</td>\n",
       "    </tr>\n",
       "    <tr>\n",
       "      <th>2023-03-29</th>\n",
       "      <td>1305.0</td>\n",
       "      <td>1260.0</td>\n",
       "      <td>9425.474609</td>\n",
       "      <td>1695.0</td>\n",
       "      <td>1195.0</td>\n",
       "      <td>995.0</td>\n",
       "    </tr>\n",
       "    <tr>\n",
       "      <th>2023-03-30</th>\n",
       "      <td>1305.0</td>\n",
       "      <td>1275.0</td>\n",
       "      <td>9448.577148</td>\n",
       "      <td>1690.0</td>\n",
       "      <td>1200.0</td>\n",
       "      <td>995.0</td>\n",
       "    </tr>\n",
       "    <tr>\n",
       "      <th>2023-03-31</th>\n",
       "      <td>1315.0</td>\n",
       "      <td>1270.0</td>\n",
       "      <td>9471.678711</td>\n",
       "      <td>1685.0</td>\n",
       "      <td>1225.0</td>\n",
       "      <td>1005.0</td>\n",
       "    </tr>\n",
       "  </tbody>\n",
       "</table>\n",
       "</div>"
      ],
      "text/plain": [
       "            BFIN.jk  BNGA.jk      ADMF.jk  MFIN.jk  APIC.jk  ARNA.jk\n",
       "Date                                                                \n",
       "2023-03-27   1290.0   1260.0  9333.068359   1695.0   1190.0    975.0\n",
       "2023-03-28   1300.0   1255.0  9379.271484   1700.0   1185.0   1000.0\n",
       "2023-03-29   1305.0   1260.0  9425.474609   1695.0   1195.0    995.0\n",
       "2023-03-30   1305.0   1275.0  9448.577148   1690.0   1200.0    995.0\n",
       "2023-03-31   1315.0   1270.0  9471.678711   1685.0   1225.0   1005.0"
      ]
     },
     "execution_count": 109,
     "metadata": {},
     "output_type": "execute_result"
    }
   ],
   "source": [
    "financial_institution.tail()"
   ]
  },
  {
   "cell_type": "code",
   "execution_count": 110,
   "id": "fbf34213-5b94-4b8c-b3bc-0b68ce7c05ba",
   "metadata": {
    "tags": []
   },
   "outputs": [
    {
     "data": {
      "text/html": [
       "<div>\n",
       "<style scoped>\n",
       "    .dataframe tbody tr th:only-of-type {\n",
       "        vertical-align: middle;\n",
       "    }\n",
       "\n",
       "    .dataframe tbody tr th {\n",
       "        vertical-align: top;\n",
       "    }\n",
       "\n",
       "    .dataframe thead th {\n",
       "        text-align: right;\n",
       "    }\n",
       "</style>\n",
       "<table border=\"1\" class=\"dataframe\">\n",
       "  <thead>\n",
       "    <tr style=\"text-align: right;\">\n",
       "      <th></th>\n",
       "      <th>BFIN.jk</th>\n",
       "      <th>BNGA.jk</th>\n",
       "      <th>ADMF.jk</th>\n",
       "      <th>MFIN.jk</th>\n",
       "      <th>APIC.jk</th>\n",
       "      <th>ARNA.jk</th>\n",
       "    </tr>\n",
       "    <tr>\n",
       "      <th>Date</th>\n",
       "      <th></th>\n",
       "      <th></th>\n",
       "      <th></th>\n",
       "      <th></th>\n",
       "      <th></th>\n",
       "      <th></th>\n",
       "    </tr>\n",
       "  </thead>\n",
       "  <tbody>\n",
       "    <tr>\n",
       "      <th>2017-01-02</th>\n",
       "      <td>NaN</td>\n",
       "      <td>NaN</td>\n",
       "      <td>NaN</td>\n",
       "      <td>NaN</td>\n",
       "      <td>NaN</td>\n",
       "      <td>NaN</td>\n",
       "    </tr>\n",
       "    <tr>\n",
       "      <th>2017-01-03</th>\n",
       "      <td>0.000000</td>\n",
       "      <td>0.000000</td>\n",
       "      <td>-0.029630</td>\n",
       "      <td>0.000000</td>\n",
       "      <td>-0.028037</td>\n",
       "      <td>0.009615</td>\n",
       "    </tr>\n",
       "    <tr>\n",
       "      <th>2017-01-04</th>\n",
       "      <td>-0.057143</td>\n",
       "      <td>0.000000</td>\n",
       "      <td>-0.022901</td>\n",
       "      <td>0.000000</td>\n",
       "      <td>-0.014423</td>\n",
       "      <td>-0.219047</td>\n",
       "    </tr>\n",
       "    <tr>\n",
       "      <th>2017-01-05</th>\n",
       "      <td>0.045455</td>\n",
       "      <td>-0.011834</td>\n",
       "      <td>-0.007813</td>\n",
       "      <td>0.006579</td>\n",
       "      <td>0.004878</td>\n",
       "      <td>0.214634</td>\n",
       "    </tr>\n",
       "    <tr>\n",
       "      <th>2017-01-06</th>\n",
       "      <td>0.000000</td>\n",
       "      <td>0.005988</td>\n",
       "      <td>-0.007874</td>\n",
       "      <td>0.000000</td>\n",
       "      <td>0.000000</td>\n",
       "      <td>0.004016</td>\n",
       "    </tr>\n",
       "  </tbody>\n",
       "</table>\n",
       "</div>"
      ],
      "text/plain": [
       "             BFIN.jk   BNGA.jk   ADMF.jk   MFIN.jk   APIC.jk   ARNA.jk\n",
       "Date                                                                  \n",
       "2017-01-02       NaN       NaN       NaN       NaN       NaN       NaN\n",
       "2017-01-03  0.000000  0.000000 -0.029630  0.000000 -0.028037  0.009615\n",
       "2017-01-04 -0.057143  0.000000 -0.022901  0.000000 -0.014423 -0.219047\n",
       "2017-01-05  0.045455 -0.011834 -0.007813  0.006579  0.004878  0.214634\n",
       "2017-01-06  0.000000  0.005988 -0.007874  0.000000  0.000000  0.004016"
      ]
     },
     "execution_count": 110,
     "metadata": {},
     "output_type": "execute_result"
    }
   ],
   "source": [
    "daily_return = financial_institution.pct_change()\n",
    "daily_return.head()"
   ]
  },
  {
   "cell_type": "code",
   "execution_count": 111,
   "id": "6cb6a596-36b0-4b1c-8f20-fd274535b0f5",
   "metadata": {
    "tags": []
   },
   "outputs": [],
   "source": [
    "daily_return.dropna(inplace= True)"
   ]
  },
  {
   "cell_type": "markdown",
   "id": "dba9cd0d-968b-4e0a-b003-5362ce9e4079",
   "metadata": {},
   "source": [
    "### Calculating Simple Statistic Through Describe"
   ]
  },
  {
   "cell_type": "code",
   "execution_count": 112,
   "id": "6974fadb-141e-4f18-8e54-d1f0dc4d35d5",
   "metadata": {
    "tags": []
   },
   "outputs": [
    {
     "data": {
      "text/html": [
       "<div>\n",
       "<style scoped>\n",
       "    .dataframe tbody tr th:only-of-type {\n",
       "        vertical-align: middle;\n",
       "    }\n",
       "\n",
       "    .dataframe tbody tr th {\n",
       "        vertical-align: top;\n",
       "    }\n",
       "\n",
       "    .dataframe thead th {\n",
       "        text-align: right;\n",
       "    }\n",
       "</style>\n",
       "<table border=\"1\" class=\"dataframe\">\n",
       "  <thead>\n",
       "    <tr style=\"text-align: right;\">\n",
       "      <th></th>\n",
       "      <th>mean</th>\n",
       "      <th>std</th>\n",
       "    </tr>\n",
       "  </thead>\n",
       "  <tbody>\n",
       "    <tr>\n",
       "      <th>BFIN.jk</th>\n",
       "      <td>0.001455</td>\n",
       "      <td>0.029494</td>\n",
       "    </tr>\n",
       "    <tr>\n",
       "      <th>BNGA.jk</th>\n",
       "      <td>0.000636</td>\n",
       "      <td>0.020782</td>\n",
       "    </tr>\n",
       "    <tr>\n",
       "      <th>ADMF.jk</th>\n",
       "      <td>0.000677</td>\n",
       "      <td>0.012539</td>\n",
       "    </tr>\n",
       "    <tr>\n",
       "      <th>MFIN.jk</th>\n",
       "      <td>0.001456</td>\n",
       "      <td>0.023384</td>\n",
       "    </tr>\n",
       "    <tr>\n",
       "      <th>APIC.jk</th>\n",
       "      <td>0.000784</td>\n",
       "      <td>0.015111</td>\n",
       "    </tr>\n",
       "    <tr>\n",
       "      <th>ARNA.jk</th>\n",
       "      <td>0.000825</td>\n",
       "      <td>0.019998</td>\n",
       "    </tr>\n",
       "  </tbody>\n",
       "</table>\n",
       "</div>"
      ],
      "text/plain": [
       "             mean       std\n",
       "BFIN.jk  0.001455  0.029494\n",
       "BNGA.jk  0.000636  0.020782\n",
       "ADMF.jk  0.000677  0.012539\n",
       "MFIN.jk  0.001456  0.023384\n",
       "APIC.jk  0.000784  0.015111\n",
       "ARNA.jk  0.000825  0.019998"
      ]
     },
     "execution_count": 112,
     "metadata": {},
     "output_type": "execute_result"
    }
   ],
   "source": [
    "daily_return.describe().T.loc[:, [\"mean\", 'std']]"
   ]
  },
  {
   "cell_type": "code",
   "execution_count": 113,
   "id": "5612b4f7-1a04-4fe6-88f5-16d167cdc620",
   "metadata": {
    "tags": []
   },
   "outputs": [],
   "source": [
    "summary  = daily_return.describe().T.loc[:, [\"mean\", 'std']]"
   ]
  },
  {
   "cell_type": "markdown",
   "id": "eaf2b79d-8178-4cac-bc98-36f03d299a78",
   "metadata": {},
   "source": [
    "### Annualizing Return and Risk Data"
   ]
  },
  {
   "cell_type": "code",
   "execution_count": 114,
   "id": "6a1f486c-1193-488a-bf1e-018eec2e9523",
   "metadata": {
    "tags": []
   },
   "outputs": [],
   "source": [
    "summary['mean'] = summary['mean'] * 250\n",
    "summary['std'] = summary['std'] *250 ** 0.5"
   ]
  },
  {
   "cell_type": "code",
   "execution_count": 115,
   "id": "7d87eedf-7f9e-4689-a18e-e58e028106ec",
   "metadata": {
    "tags": []
   },
   "outputs": [
    {
     "data": {
      "text/html": [
       "<div>\n",
       "<style scoped>\n",
       "    .dataframe tbody tr th:only-of-type {\n",
       "        vertical-align: middle;\n",
       "    }\n",
       "\n",
       "    .dataframe tbody tr th {\n",
       "        vertical-align: top;\n",
       "    }\n",
       "\n",
       "    .dataframe thead th {\n",
       "        text-align: right;\n",
       "    }\n",
       "</style>\n",
       "<table border=\"1\" class=\"dataframe\">\n",
       "  <thead>\n",
       "    <tr style=\"text-align: right;\">\n",
       "      <th></th>\n",
       "      <th>mean</th>\n",
       "      <th>std</th>\n",
       "    </tr>\n",
       "  </thead>\n",
       "  <tbody>\n",
       "    <tr>\n",
       "      <th>BFIN.jk</th>\n",
       "      <td>0.363712</td>\n",
       "      <td>0.466341</td>\n",
       "    </tr>\n",
       "    <tr>\n",
       "      <th>BNGA.jk</th>\n",
       "      <td>0.158929</td>\n",
       "      <td>0.328591</td>\n",
       "    </tr>\n",
       "    <tr>\n",
       "      <th>ADMF.jk</th>\n",
       "      <td>0.169131</td>\n",
       "      <td>0.198255</td>\n",
       "    </tr>\n",
       "    <tr>\n",
       "      <th>MFIN.jk</th>\n",
       "      <td>0.363995</td>\n",
       "      <td>0.369739</td>\n",
       "    </tr>\n",
       "    <tr>\n",
       "      <th>APIC.jk</th>\n",
       "      <td>0.196118</td>\n",
       "      <td>0.238920</td>\n",
       "    </tr>\n",
       "    <tr>\n",
       "      <th>ARNA.jk</th>\n",
       "      <td>0.206155</td>\n",
       "      <td>0.316189</td>\n",
       "    </tr>\n",
       "  </tbody>\n",
       "</table>\n",
       "</div>"
      ],
      "text/plain": [
       "             mean       std\n",
       "BFIN.jk  0.363712  0.466341\n",
       "BNGA.jk  0.158929  0.328591\n",
       "ADMF.jk  0.169131  0.198255\n",
       "MFIN.jk  0.363995  0.369739\n",
       "APIC.jk  0.196118  0.238920\n",
       "ARNA.jk  0.206155  0.316189"
      ]
     },
     "execution_count": 115,
     "metadata": {},
     "output_type": "execute_result"
    }
   ],
   "source": [
    "summary"
   ]
  },
  {
   "cell_type": "markdown",
   "id": "e9fc0dd0-66cd-41f5-a584-9cd1807d426c",
   "metadata": {},
   "source": [
    "## Drawing a Plot For Summary Data"
   ]
  },
  {
   "cell_type": "code",
   "execution_count": 118,
   "id": "11d3dc4d-a3fa-4c87-9780-8d57e8268c27",
   "metadata": {
    "tags": []
   },
   "outputs": [
    {
     "data": {
      "image/png": "[encoded data removed]",
      "text/plain": [
       "<Figure size 1200x600 with 1 Axes>"
      ]
     },
     "metadata": {},
     "output_type": "display_data"
    }
   ],
   "source": [
    "plt.style.use('fivethirtyeight')\n",
    "summary.plot.scatter(x = 'std', y='mean', figsize = (12,6), s=50, fontsize = 10)\n",
    "for i in summary.index : \n",
    "    plt.annotate(i,xy = (summary.loc[i, \"std\"] + 0.002, summary.loc[i, \"mean\"] + 0.002), size = 10)\n",
    "plt.title(\"Risk/Return\")\n",
    "plt.xlabel(\"ann. Risk(std)\", fontsize = 10)\n",
    "plt.ylabel(\"ann. Return\", fontsize = 10)\n",
    "plt.show()"
   ]
  },
  {
   "cell_type": "markdown",
   "id": "be549e89-bfbd-4df6-9688-f92c486437d6",
   "metadata": {},
   "source": [
    "### Chart Summary \n",
    "\n",
    "For the comparison of several financial institute in indonesia we could see from the chart above that **BNGA** have the lowest performance compared to all, as it has the lowest annual return compared to the other companies in financial sector while having the 3rd highest standard deviation. while the rest of the companies seems to have a correlated risk and return ratio, the higher the risk the higher the return"
   ]
  },
  {
   "cell_type": "code",
   "execution_count": null,
   "id": "12451abd-c920-457b-97ab-63de0a8137bc",
   "metadata": {},
   "outputs": [],
   "source": []
  }
 ],
 "metadata": {
  "kernelspec": {
   "display_name": "Python 3 (ipykernel)",
   "language": "python",
   "name": "python3"
  },
  "language_info": {
   "codemirror_mode": {
    "name": "ipython",
    "version": 3
   },
   "file_extension": ".py",
   "mimetype": "text/x-python",
   "name": "python",
   "nbconvert_exporter": "python",
   "pygments_lexer": "ipython3",
   "version": "3.11.3"
  }
 },
 "nbformat": 4,
 "nbformat_minor": 5
}
