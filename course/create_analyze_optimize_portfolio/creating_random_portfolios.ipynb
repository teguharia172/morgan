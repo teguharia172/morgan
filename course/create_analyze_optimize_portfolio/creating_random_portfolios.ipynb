{
 "cells": [
  {
   "cell_type": "markdown",
   "id": "f477ca36-341f-47a4-82f8-cf2817d97ccc",
   "metadata": {},
   "source": [
    "# Creating Random Portfolios"
   ]
  },
  {
   "cell_type": "code",
   "execution_count": 65,
   "id": "d6cdf1f1-3a0b-4a14-b671-3cad523b1317",
   "metadata": {
    "tags": []
   },
   "outputs": [],
   "source": [
    "import pandas as pd \n",
    "import numpy as np \n",
    "import yfinance \n",
    "from pandas_datareader import data as wb\n",
    "import matplotlib.pyplot as plt\n",
    "import warnings \n",
    "warnings.filterwarnings('ignore')\n",
    "yfinance.pdr_override()\n",
    "plt.style.use('fivethirtyeight')"
   ]
  },
  {
   "cell_type": "markdown",
   "id": "b7a83e3f-42fb-47d9-bcce-1bb3e8f0aadf",
   "metadata": {},
   "source": [
    "## Importing Data & Creating Annualize Function"
   ]
  },
  {
   "cell_type": "code",
   "execution_count": 66,
   "id": "5e0e2a9c-db61-4236-bdd4-78f6b696e172",
   "metadata": {
    "tags": []
   },
   "outputs": [
    {
     "name": "stdout",
     "output_type": "stream",
     "text": [
      "[*********************100%***********************]  1 of 1 completed\n",
      "[*********************100%***********************]  1 of 1 completed\n",
      "[*********************100%***********************]  1 of 1 completed\n",
      "[*********************100%***********************]  1 of 1 completed\n",
      "[*********************100%***********************]  1 of 1 completed\n",
      "[*********************100%***********************]  1 of 1 completed\n",
      "[*********************100%***********************]  1 of 1 completed\n",
      "[*********************100%***********************]  1 of 1 completed\n",
      "[*********************100%***********************]  1 of 1 completed\n",
      "[*********************100%***********************]  1 of 1 completed\n",
      "[*********************100%***********************]  1 of 1 completed\n",
      "[*********************100%***********************]  1 of 1 completed\n",
      "[*********************100%***********************]  1 of 1 completed\n",
      "[*********************100%***********************]  1 of 1 completed\n",
      "[*********************100%***********************]  1 of 1 completed\n",
      "[*********************100%***********************]  1 of 1 completed\n"
     ]
    }
   ],
   "source": [
    "port = pd.DataFrame()\n",
    "tickers = ['ITMG.jk', 'MEDC.jk', 'ADRO.jk', 'AMRT.jk', 'MPMX.jk', 'APIC.jk', 'HEXA.jk', 'MFIN.jk', 'UNTR.jk', 'MBAP.jk', 'BYAN.jk', 'MTDL.jk', 'BSSR.jk','ADMF.jk','INCO.jk','ARNA.jk']\n",
    "for ticker in tickers:\n",
    "    port[ticker] = wb.get_data_yahoo(ticker, start = '2018-04-01', end = '2023-03-31')['Adj Close']"
   ]
  },
  {
   "cell_type": "code",
   "execution_count": 67,
   "id": "76858e16-a740-4f53-accc-294d69f47d6b",
   "metadata": {
    "tags": []
   },
   "outputs": [],
   "source": [
    "def annual_return(return_df) : \n",
    "    summary = return_df.agg(['mean', 'std']).T\n",
    "    summary.columns = ['return', 'risk']\n",
    "    summary['return'] = summary['return'] * 250\n",
    "    summary['risk'] = summary['risk'] * 250**0.5\n",
    "    return summary\n",
    "    "
   ]
  },
  {
   "cell_type": "code",
   "execution_count": 68,
   "id": "d7a4a22c-5e03-490a-b61d-8f733fe0f9db",
   "metadata": {
    "tags": []
   },
   "outputs": [],
   "source": [
    "ret = port.pct_change().dropna()\n",
    "annual_ret = annual_return(ret)"
   ]
  },
  {
   "cell_type": "code",
   "execution_count": 69,
   "id": "6126de93-6113-4594-a3bc-0ed65db89238",
   "metadata": {
    "tags": []
   },
   "outputs": [
    {
     "data": {
      "text/html": [
       "<div>\n",
       "<style scoped>\n",
       "    .dataframe tbody tr th:only-of-type {\n",
       "        vertical-align: middle;\n",
       "    }\n",
       "\n",
       "    .dataframe tbody tr th {\n",
       "        vertical-align: top;\n",
       "    }\n",
       "\n",
       "    .dataframe thead th {\n",
       "        text-align: right;\n",
       "    }\n",
       "</style>\n",
       "<table border=\"1\" class=\"dataframe\">\n",
       "  <thead>\n",
       "    <tr style=\"text-align: right;\">\n",
       "      <th></th>\n",
       "      <th>return</th>\n",
       "      <th>risk</th>\n",
       "    </tr>\n",
       "  </thead>\n",
       "  <tbody>\n",
       "    <tr>\n",
       "      <th>ITMG.jk</th>\n",
       "      <td>0.291980</td>\n",
       "      <td>0.443643</td>\n",
       "    </tr>\n",
       "    <tr>\n",
       "      <th>MEDC.jk</th>\n",
       "      <td>0.150568</td>\n",
       "      <td>0.552376</td>\n",
       "    </tr>\n",
       "    <tr>\n",
       "      <th>ADRO.jk</th>\n",
       "      <td>0.256508</td>\n",
       "      <td>0.470862</td>\n",
       "    </tr>\n",
       "    <tr>\n",
       "      <th>AMRT.jk</th>\n",
       "      <td>0.419133</td>\n",
       "      <td>0.427828</td>\n",
       "    </tr>\n",
       "    <tr>\n",
       "      <th>MPMX.jk</th>\n",
       "      <td>0.356179</td>\n",
       "      <td>0.445415</td>\n",
       "    </tr>\n",
       "  </tbody>\n",
       "</table>\n",
       "</div>"
      ],
      "text/plain": [
       "           return      risk\n",
       "ITMG.jk  0.291980  0.443643\n",
       "MEDC.jk  0.150568  0.552376\n",
       "ADRO.jk  0.256508  0.470862\n",
       "AMRT.jk  0.419133  0.427828\n",
       "MPMX.jk  0.356179  0.445415"
      ]
     },
     "execution_count": 69,
     "metadata": {},
     "output_type": "execute_result"
    }
   ],
   "source": [
    "annual_ret.head()\n"
   ]
  },
  {
   "cell_type": "markdown",
   "id": "8e7eb87d-7c5f-48c6-9044-e31c75b595ec",
   "metadata": {},
   "source": [
    "## Defining Number of Stocks "
   ]
  },
  {
   "cell_type": "code",
   "execution_count": 70,
   "id": "713f7ad2-b731-4614-9db8-dcf82f259c62",
   "metadata": {
    "tags": []
   },
   "outputs": [
    {
     "data": {
      "text/plain": [
       "16"
      ]
     },
     "execution_count": 70,
     "metadata": {},
     "output_type": "execute_result"
    }
   ],
   "source": [
    "port_amount = len(port.columns)\n",
    "port_amount"
   ]
  },
  {
   "cell_type": "markdown",
   "id": "b99e1336-d625-43ed-a9dd-cbdd59683815",
   "metadata": {},
   "source": [
    "## Defining Number of Portfolio That Wanted to be Generated & Defining Random Number"
   ]
  },
  {
   "cell_type": "code",
   "execution_count": 71,
   "id": "bd7d73cb-b640-4694-ad52-c61d515df3bf",
   "metadata": {
    "tags": []
   },
   "outputs": [],
   "source": [
    "nop = 100000 # number of portfolio that wanted to be generated "
   ]
  },
  {
   "cell_type": "code",
   "execution_count": 72,
   "id": "aaaeedf5-3625-464d-a62a-273c4c628b1a",
   "metadata": {
    "tags": []
   },
   "outputs": [
    {
     "data": {
      "text/plain": [
       "array([[0.69646919, 0.28613933, 0.22685145, ..., 0.0596779 , 0.39804426,\n",
       "        0.73799541],\n",
       "       [0.18249173, 0.17545176, 0.53155137, ..., 0.63097612, 0.09210494,\n",
       "        0.43370117],\n",
       "       [0.43086276, 0.4936851 , 0.42583029, ..., 0.25045537, 0.48303426,\n",
       "        0.98555979],\n",
       "       ...,\n",
       "       [0.91454457, 0.12338167, 0.56911655, ..., 0.43422389, 0.16424335,\n",
       "        0.19342862],\n",
       "       [0.26305567, 0.79320791, 0.91486963, ..., 0.03735179, 0.26769575,\n",
       "        0.18276415],\n",
       "       [0.52968063, 0.57978809, 0.69082744, ..., 0.23700382, 0.70887425,\n",
       "        0.86777437]])"
      ]
     },
     "execution_count": 72,
     "metadata": {},
     "output_type": "execute_result"
    }
   ],
   "source": [
    "np.random.seed(123) #just to make sure it consistenly generated random number\n",
    "matrix = np.random.random(port_amount * nop).reshape(nop,port_amount)\n",
    "matrix"
   ]
  },
  {
   "cell_type": "markdown",
   "id": "643f7645-f1ff-4267-b79d-0ad159dfcd38",
   "metadata": {},
   "source": [
    "### Normalize The Random to Make Each Portfolio to The Total of 1 "
   ]
  },
  {
   "cell_type": "code",
   "execution_count": 73,
   "id": "53eb15c4-601b-4571-b870-39fcf4bdee18",
   "metadata": {
    "tags": []
   },
   "outputs": [
    {
     "data": {
      "text/plain": [
       "array([[8.14851106],\n",
       "       [7.3265845 ],\n",
       "       [8.48541815],\n",
       "       ...,\n",
       "       [8.60089784],\n",
       "       [7.84609899],\n",
       "       [6.68692582]])"
      ]
     },
     "execution_count": 73,
     "metadata": {},
     "output_type": "execute_result"
    }
   ],
   "source": [
    "matrix.sum(axis = 1, keepdims = True)"
   ]
  },
  {
   "cell_type": "code",
   "execution_count": 74,
   "id": "cb86d17c-9533-44d2-b3c2-50f033b623dc",
   "metadata": {
    "tags": []
   },
   "outputs": [
    {
     "data": {
      "text/plain": [
       "array([[0.08547196, 0.03511554, 0.02783962, ..., 0.00732378, 0.04884871,\n",
       "        0.09056813],\n",
       "       [0.02490816, 0.02394728, 0.07255105, ..., 0.08612146, 0.01257133,\n",
       "        0.05919555],\n",
       "       [0.05077685, 0.05818041, 0.05018377, ..., 0.02951597, 0.05692522,\n",
       "        0.11614746],\n",
       "       ...,\n",
       "       [0.10633129, 0.01434521, 0.06616943, ..., 0.05048588, 0.01909607,\n",
       "        0.02248935],\n",
       "       [0.03352694, 0.10109583, 0.11660185, ..., 0.00476055, 0.03411832,\n",
       "        0.02329363],\n",
       "       [0.07921138, 0.08670473, 0.10331017, ..., 0.03544287, 0.10600899,\n",
       "        0.1297718 ]])"
      ]
     },
     "execution_count": 74,
     "metadata": {},
     "output_type": "execute_result"
    }
   ],
   "source": [
    "norm_port = matrix / matrix.sum(axis = 1, keepdims = True)\n",
    "norm_port"
   ]
  },
  {
   "cell_type": "markdown",
   "id": "be1f7e37-04ca-4819-90e9-b9a60afe112a",
   "metadata": {},
   "source": [
    "### Sanity Check for Each Portfolio Weight "
   ]
  },
  {
   "cell_type": "code",
   "execution_count": 75,
   "id": "205bc156-b9b1-40cc-b907-3a4b278a7899",
   "metadata": {
    "tags": []
   },
   "outputs": [
    {
     "data": {
      "text/plain": [
       "array([[1.],\n",
       "       [1.],\n",
       "       [1.],\n",
       "       ...,\n",
       "       [1.],\n",
       "       [1.],\n",
       "       [1.]])"
      ]
     },
     "execution_count": 75,
     "metadata": {},
     "output_type": "execute_result"
    }
   ],
   "source": [
    "norm_port.sum(axis = 1, keepdims = True)"
   ]
  },
  {
   "cell_type": "markdown",
   "id": "2c0a30f3-46ee-45db-b4e8-83844f18796a",
   "metadata": {},
   "source": [
    "## Getting The Return of The Portfolio"
   ]
  },
  {
   "cell_type": "code",
   "execution_count": 76,
   "id": "03ddccaf-b7a9-4ba6-b441-f63981de44e7",
   "metadata": {
    "tags": []
   },
   "outputs": [
    {
     "data": {
      "text/html": [
       "<div>\n",
       "<style scoped>\n",
       "    .dataframe tbody tr th:only-of-type {\n",
       "        vertical-align: middle;\n",
       "    }\n",
       "\n",
       "    .dataframe tbody tr th {\n",
       "        vertical-align: top;\n",
       "    }\n",
       "\n",
       "    .dataframe thead th {\n",
       "        text-align: right;\n",
       "    }\n",
       "</style>\n",
       "<table border=\"1\" class=\"dataframe\">\n",
       "  <thead>\n",
       "    <tr style=\"text-align: right;\">\n",
       "      <th></th>\n",
       "      <th>0</th>\n",
       "      <th>1</th>\n",
       "      <th>2</th>\n",
       "      <th>3</th>\n",
       "      <th>4</th>\n",
       "      <th>5</th>\n",
       "      <th>6</th>\n",
       "      <th>7</th>\n",
       "      <th>8</th>\n",
       "      <th>9</th>\n",
       "      <th>...</th>\n",
       "      <th>99990</th>\n",
       "      <th>99991</th>\n",
       "      <th>99992</th>\n",
       "      <th>99993</th>\n",
       "      <th>99994</th>\n",
       "      <th>99995</th>\n",
       "      <th>99996</th>\n",
       "      <th>99997</th>\n",
       "      <th>99998</th>\n",
       "      <th>99999</th>\n",
       "    </tr>\n",
       "    <tr>\n",
       "      <th>Date</th>\n",
       "      <th></th>\n",
       "      <th></th>\n",
       "      <th></th>\n",
       "      <th></th>\n",
       "      <th></th>\n",
       "      <th></th>\n",
       "      <th></th>\n",
       "      <th></th>\n",
       "      <th></th>\n",
       "      <th></th>\n",
       "      <th></th>\n",
       "      <th></th>\n",
       "      <th></th>\n",
       "      <th></th>\n",
       "      <th></th>\n",
       "      <th></th>\n",
       "      <th></th>\n",
       "      <th></th>\n",
       "      <th></th>\n",
       "      <th></th>\n",
       "      <th></th>\n",
       "    </tr>\n",
       "  </thead>\n",
       "  <tbody>\n",
       "    <tr>\n",
       "      <th>2018-04-03</th>\n",
       "      <td>0.003839</td>\n",
       "      <td>0.001862</td>\n",
       "      <td>0.004723</td>\n",
       "      <td>0.002917</td>\n",
       "      <td>0.002247</td>\n",
       "      <td>0.004155</td>\n",
       "      <td>-0.001427</td>\n",
       "      <td>0.000688</td>\n",
       "      <td>0.007616</td>\n",
       "      <td>0.003714</td>\n",
       "      <td>...</td>\n",
       "      <td>0.007033</td>\n",
       "      <td>0.002764</td>\n",
       "      <td>0.002696</td>\n",
       "      <td>-0.001418</td>\n",
       "      <td>0.002618</td>\n",
       "      <td>0.003957</td>\n",
       "      <td>0.006766</td>\n",
       "      <td>-0.001082</td>\n",
       "      <td>-0.005298</td>\n",
       "      <td>0.006399</td>\n",
       "    </tr>\n",
       "    <tr>\n",
       "      <th>2018-04-04</th>\n",
       "      <td>-0.012433</td>\n",
       "      <td>-0.009919</td>\n",
       "      <td>-0.013059</td>\n",
       "      <td>-0.011998</td>\n",
       "      <td>-0.013889</td>\n",
       "      <td>-0.014411</td>\n",
       "      <td>-0.011507</td>\n",
       "      <td>-0.013484</td>\n",
       "      <td>-0.013831</td>\n",
       "      <td>-0.013963</td>\n",
       "      <td>...</td>\n",
       "      <td>-0.013900</td>\n",
       "      <td>-0.012847</td>\n",
       "      <td>-0.015878</td>\n",
       "      <td>-0.010388</td>\n",
       "      <td>-0.011465</td>\n",
       "      <td>-0.016922</td>\n",
       "      <td>-0.014315</td>\n",
       "      <td>-0.012491</td>\n",
       "      <td>-0.016648</td>\n",
       "      <td>-0.016234</td>\n",
       "    </tr>\n",
       "    <tr>\n",
       "      <th>2018-04-05</th>\n",
       "      <td>0.006549</td>\n",
       "      <td>0.002168</td>\n",
       "      <td>0.004814</td>\n",
       "      <td>0.009085</td>\n",
       "      <td>0.010122</td>\n",
       "      <td>0.005638</td>\n",
       "      <td>0.009198</td>\n",
       "      <td>0.010780</td>\n",
       "      <td>0.002018</td>\n",
       "      <td>0.007444</td>\n",
       "      <td>...</td>\n",
       "      <td>0.008254</td>\n",
       "      <td>0.003425</td>\n",
       "      <td>0.008858</td>\n",
       "      <td>0.006455</td>\n",
       "      <td>0.008020</td>\n",
       "      <td>0.009785</td>\n",
       "      <td>0.007632</td>\n",
       "      <td>0.010066</td>\n",
       "      <td>0.007597</td>\n",
       "      <td>0.007618</td>\n",
       "    </tr>\n",
       "    <tr>\n",
       "      <th>2018-04-06</th>\n",
       "      <td>0.006977</td>\n",
       "      <td>0.006437</td>\n",
       "      <td>0.004161</td>\n",
       "      <td>0.000447</td>\n",
       "      <td>-0.002092</td>\n",
       "      <td>0.005095</td>\n",
       "      <td>-0.001238</td>\n",
       "      <td>-0.001038</td>\n",
       "      <td>0.008719</td>\n",
       "      <td>0.002249</td>\n",
       "      <td>...</td>\n",
       "      <td>0.000693</td>\n",
       "      <td>0.006045</td>\n",
       "      <td>0.006233</td>\n",
       "      <td>0.005492</td>\n",
       "      <td>0.002595</td>\n",
       "      <td>0.006710</td>\n",
       "      <td>0.006531</td>\n",
       "      <td>0.005095</td>\n",
       "      <td>0.003209</td>\n",
       "      <td>-0.002899</td>\n",
       "    </tr>\n",
       "    <tr>\n",
       "      <th>2018-04-09</th>\n",
       "      <td>0.003776</td>\n",
       "      <td>0.004787</td>\n",
       "      <td>0.008366</td>\n",
       "      <td>0.006602</td>\n",
       "      <td>0.011239</td>\n",
       "      <td>0.005941</td>\n",
       "      <td>0.006153</td>\n",
       "      <td>0.011574</td>\n",
       "      <td>0.007174</td>\n",
       "      <td>0.007046</td>\n",
       "      <td>...</td>\n",
       "      <td>0.010461</td>\n",
       "      <td>0.006620</td>\n",
       "      <td>0.002995</td>\n",
       "      <td>0.003275</td>\n",
       "      <td>0.008181</td>\n",
       "      <td>0.011865</td>\n",
       "      <td>0.010894</td>\n",
       "      <td>0.003311</td>\n",
       "      <td>0.005768</td>\n",
       "      <td>0.016045</td>\n",
       "    </tr>\n",
       "    <tr>\n",
       "      <th>...</th>\n",
       "      <td>...</td>\n",
       "      <td>...</td>\n",
       "      <td>...</td>\n",
       "      <td>...</td>\n",
       "      <td>...</td>\n",
       "      <td>...</td>\n",
       "      <td>...</td>\n",
       "      <td>...</td>\n",
       "      <td>...</td>\n",
       "      <td>...</td>\n",
       "      <td>...</td>\n",
       "      <td>...</td>\n",
       "      <td>...</td>\n",
       "      <td>...</td>\n",
       "      <td>...</td>\n",
       "      <td>...</td>\n",
       "      <td>...</td>\n",
       "      <td>...</td>\n",
       "      <td>...</td>\n",
       "      <td>...</td>\n",
       "      <td>...</td>\n",
       "    </tr>\n",
       "    <tr>\n",
       "      <th>2023-03-24</th>\n",
       "      <td>0.007371</td>\n",
       "      <td>0.007464</td>\n",
       "      <td>0.007174</td>\n",
       "      <td>0.009192</td>\n",
       "      <td>0.001829</td>\n",
       "      <td>0.009458</td>\n",
       "      <td>0.008350</td>\n",
       "      <td>0.008878</td>\n",
       "      <td>0.007463</td>\n",
       "      <td>0.009023</td>\n",
       "      <td>...</td>\n",
       "      <td>0.007837</td>\n",
       "      <td>0.004728</td>\n",
       "      <td>0.007251</td>\n",
       "      <td>0.007785</td>\n",
       "      <td>0.007748</td>\n",
       "      <td>0.007896</td>\n",
       "      <td>0.007634</td>\n",
       "      <td>0.005349</td>\n",
       "      <td>0.008148</td>\n",
       "      <td>0.006800</td>\n",
       "    </tr>\n",
       "    <tr>\n",
       "      <th>2023-03-27</th>\n",
       "      <td>0.007005</td>\n",
       "      <td>0.005251</td>\n",
       "      <td>0.007062</td>\n",
       "      <td>0.005692</td>\n",
       "      <td>0.008150</td>\n",
       "      <td>0.008088</td>\n",
       "      <td>0.007229</td>\n",
       "      <td>0.006858</td>\n",
       "      <td>0.006209</td>\n",
       "      <td>0.005032</td>\n",
       "      <td>...</td>\n",
       "      <td>0.005361</td>\n",
       "      <td>0.006868</td>\n",
       "      <td>0.005082</td>\n",
       "      <td>0.004855</td>\n",
       "      <td>0.006902</td>\n",
       "      <td>0.006502</td>\n",
       "      <td>0.008980</td>\n",
       "      <td>0.007470</td>\n",
       "      <td>0.006552</td>\n",
       "      <td>0.006844</td>\n",
       "    </tr>\n",
       "    <tr>\n",
       "      <th>2023-03-28</th>\n",
       "      <td>0.015834</td>\n",
       "      <td>0.014005</td>\n",
       "      <td>0.015544</td>\n",
       "      <td>0.016069</td>\n",
       "      <td>0.019500</td>\n",
       "      <td>0.013622</td>\n",
       "      <td>0.014589</td>\n",
       "      <td>0.014428</td>\n",
       "      <td>0.015773</td>\n",
       "      <td>0.013435</td>\n",
       "      <td>...</td>\n",
       "      <td>0.018199</td>\n",
       "      <td>0.016768</td>\n",
       "      <td>0.015918</td>\n",
       "      <td>0.014409</td>\n",
       "      <td>0.016822</td>\n",
       "      <td>0.018318</td>\n",
       "      <td>0.016739</td>\n",
       "      <td>0.015127</td>\n",
       "      <td>0.018424</td>\n",
       "      <td>0.018986</td>\n",
       "    </tr>\n",
       "    <tr>\n",
       "      <th>2023-03-29</th>\n",
       "      <td>0.010924</td>\n",
       "      <td>0.012579</td>\n",
       "      <td>0.012093</td>\n",
       "      <td>0.013444</td>\n",
       "      <td>0.013871</td>\n",
       "      <td>0.013273</td>\n",
       "      <td>0.015337</td>\n",
       "      <td>0.011850</td>\n",
       "      <td>0.015082</td>\n",
       "      <td>0.017000</td>\n",
       "      <td>...</td>\n",
       "      <td>0.014099</td>\n",
       "      <td>0.015951</td>\n",
       "      <td>0.017268</td>\n",
       "      <td>0.013802</td>\n",
       "      <td>0.011216</td>\n",
       "      <td>0.016721</td>\n",
       "      <td>0.012804</td>\n",
       "      <td>0.011745</td>\n",
       "      <td>0.015804</td>\n",
       "      <td>0.017727</td>\n",
       "    </tr>\n",
       "    <tr>\n",
       "      <th>2023-03-30</th>\n",
       "      <td>-0.001813</td>\n",
       "      <td>0.000790</td>\n",
       "      <td>-0.000973</td>\n",
       "      <td>0.001732</td>\n",
       "      <td>-0.005453</td>\n",
       "      <td>0.004394</td>\n",
       "      <td>0.005276</td>\n",
       "      <td>0.000407</td>\n",
       "      <td>0.000097</td>\n",
       "      <td>0.003694</td>\n",
       "      <td>...</td>\n",
       "      <td>-0.000400</td>\n",
       "      <td>0.004007</td>\n",
       "      <td>0.000955</td>\n",
       "      <td>-0.001862</td>\n",
       "      <td>-0.000907</td>\n",
       "      <td>-0.000887</td>\n",
       "      <td>-0.001250</td>\n",
       "      <td>-0.004181</td>\n",
       "      <td>-0.002285</td>\n",
       "      <td>-0.001949</td>\n",
       "    </tr>\n",
       "  </tbody>\n",
       "</table>\n",
       "<p>1248 rows × 100000 columns</p>\n",
       "</div>"
      ],
      "text/plain": [
       "               0         1         2         3         4         5       \n",
       "Date                                                                     \n",
       "2018-04-03  0.003839  0.001862  0.004723  0.002917  0.002247  0.004155  \\\n",
       "2018-04-04 -0.012433 -0.009919 -0.013059 -0.011998 -0.013889 -0.014411   \n",
       "2018-04-05  0.006549  0.002168  0.004814  0.009085  0.010122  0.005638   \n",
       "2018-04-06  0.006977  0.006437  0.004161  0.000447 -0.002092  0.005095   \n",
       "2018-04-09  0.003776  0.004787  0.008366  0.006602  0.011239  0.005941   \n",
       "...              ...       ...       ...       ...       ...       ...   \n",
       "2023-03-24  0.007371  0.007464  0.007174  0.009192  0.001829  0.009458   \n",
       "2023-03-27  0.007005  0.005251  0.007062  0.005692  0.008150  0.008088   \n",
       "2023-03-28  0.015834  0.014005  0.015544  0.016069  0.019500  0.013622   \n",
       "2023-03-29  0.010924  0.012579  0.012093  0.013444  0.013871  0.013273   \n",
       "2023-03-30 -0.001813  0.000790 -0.000973  0.001732 -0.005453  0.004394   \n",
       "\n",
       "               6         7         8         9      ...     99990     99991   \n",
       "Date                                                ...                       \n",
       "2018-04-03 -0.001427  0.000688  0.007616  0.003714  ...  0.007033  0.002764  \\\n",
       "2018-04-04 -0.011507 -0.013484 -0.013831 -0.013963  ... -0.013900 -0.012847   \n",
       "2018-04-05  0.009198  0.010780  0.002018  0.007444  ...  0.008254  0.003425   \n",
       "2018-04-06 -0.001238 -0.001038  0.008719  0.002249  ...  0.000693  0.006045   \n",
       "2018-04-09  0.006153  0.011574  0.007174  0.007046  ...  0.010461  0.006620   \n",
       "...              ...       ...       ...       ...  ...       ...       ...   \n",
       "2023-03-24  0.008350  0.008878  0.007463  0.009023  ...  0.007837  0.004728   \n",
       "2023-03-27  0.007229  0.006858  0.006209  0.005032  ...  0.005361  0.006868   \n",
       "2023-03-28  0.014589  0.014428  0.015773  0.013435  ...  0.018199  0.016768   \n",
       "2023-03-29  0.015337  0.011850  0.015082  0.017000  ...  0.014099  0.015951   \n",
       "2023-03-30  0.005276  0.000407  0.000097  0.003694  ... -0.000400  0.004007   \n",
       "\n",
       "               99992     99993     99994     99995     99996     99997   \n",
       "Date                                                                     \n",
       "2018-04-03  0.002696 -0.001418  0.002618  0.003957  0.006766 -0.001082  \\\n",
       "2018-04-04 -0.015878 -0.010388 -0.011465 -0.016922 -0.014315 -0.012491   \n",
       "2018-04-05  0.008858  0.006455  0.008020  0.009785  0.007632  0.010066   \n",
       "2018-04-06  0.006233  0.005492  0.002595  0.006710  0.006531  0.005095   \n",
       "2018-04-09  0.002995  0.003275  0.008181  0.011865  0.010894  0.003311   \n",
       "...              ...       ...       ...       ...       ...       ...   \n",
       "2023-03-24  0.007251  0.007785  0.007748  0.007896  0.007634  0.005349   \n",
       "2023-03-27  0.005082  0.004855  0.006902  0.006502  0.008980  0.007470   \n",
       "2023-03-28  0.015918  0.014409  0.016822  0.018318  0.016739  0.015127   \n",
       "2023-03-29  0.017268  0.013802  0.011216  0.016721  0.012804  0.011745   \n",
       "2023-03-30  0.000955 -0.001862 -0.000907 -0.000887 -0.001250 -0.004181   \n",
       "\n",
       "               99998     99999  \n",
       "Date                            \n",
       "2018-04-03 -0.005298  0.006399  \n",
       "2018-04-04 -0.016648 -0.016234  \n",
       "2018-04-05  0.007597  0.007618  \n",
       "2018-04-06  0.003209 -0.002899  \n",
       "2018-04-09  0.005768  0.016045  \n",
       "...              ...       ...  \n",
       "2023-03-24  0.008148  0.006800  \n",
       "2023-03-27  0.006552  0.006844  \n",
       "2023-03-28  0.018424  0.018986  \n",
       "2023-03-29  0.015804  0.017727  \n",
       "2023-03-30 -0.002285 -0.001949  \n",
       "\n",
       "[1248 rows x 100000 columns]"
      ]
     },
     "execution_count": 76,
     "metadata": {},
     "output_type": "execute_result"
    }
   ],
   "source": [
    "port_ret = ret.dot(norm_port.T)\n",
    "port_ret"
   ]
  },
  {
   "cell_type": "code",
   "execution_count": 77,
   "id": "8be0eab4-16eb-4507-9d62-000208a5a6d6",
   "metadata": {
    "tags": []
   },
   "outputs": [
    {
     "data": {
      "text/html": [
       "<div>\n",
       "<style scoped>\n",
       "    .dataframe tbody tr th:only-of-type {\n",
       "        vertical-align: middle;\n",
       "    }\n",
       "\n",
       "    .dataframe tbody tr th {\n",
       "        vertical-align: top;\n",
       "    }\n",
       "\n",
       "    .dataframe thead th {\n",
       "        text-align: right;\n",
       "    }\n",
       "</style>\n",
       "<table border=\"1\" class=\"dataframe\">\n",
       "  <thead>\n",
       "    <tr style=\"text-align: right;\">\n",
       "      <th></th>\n",
       "      <th>return</th>\n",
       "      <th>risk</th>\n",
       "    </tr>\n",
       "  </thead>\n",
       "  <tbody>\n",
       "    <tr>\n",
       "      <th>0</th>\n",
       "      <td>0.323060</td>\n",
       "      <td>0.173773</td>\n",
       "    </tr>\n",
       "    <tr>\n",
       "      <th>1</th>\n",
       "      <td>0.294160</td>\n",
       "      <td>0.162821</td>\n",
       "    </tr>\n",
       "    <tr>\n",
       "      <th>2</th>\n",
       "      <td>0.301314</td>\n",
       "      <td>0.173373</td>\n",
       "    </tr>\n",
       "    <tr>\n",
       "      <th>3</th>\n",
       "      <td>0.341502</td>\n",
       "      <td>0.173323</td>\n",
       "    </tr>\n",
       "    <tr>\n",
       "      <th>4</th>\n",
       "      <td>0.285041</td>\n",
       "      <td>0.195410</td>\n",
       "    </tr>\n",
       "    <tr>\n",
       "      <th>...</th>\n",
       "      <td>...</td>\n",
       "      <td>...</td>\n",
       "    </tr>\n",
       "    <tr>\n",
       "      <th>99995</th>\n",
       "      <td>0.303462</td>\n",
       "      <td>0.217263</td>\n",
       "    </tr>\n",
       "    <tr>\n",
       "      <th>99996</th>\n",
       "      <td>0.262693</td>\n",
       "      <td>0.182620</td>\n",
       "    </tr>\n",
       "    <tr>\n",
       "      <th>99997</th>\n",
       "      <td>0.299112</td>\n",
       "      <td>0.190763</td>\n",
       "    </tr>\n",
       "    <tr>\n",
       "      <th>99998</th>\n",
       "      <td>0.315449</td>\n",
       "      <td>0.205607</td>\n",
       "    </tr>\n",
       "    <tr>\n",
       "      <th>99999</th>\n",
       "      <td>0.273985</td>\n",
       "      <td>0.211189</td>\n",
       "    </tr>\n",
       "  </tbody>\n",
       "</table>\n",
       "<p>100000 rows × 2 columns</p>\n",
       "</div>"
      ],
      "text/plain": [
       "         return      risk\n",
       "0      0.323060  0.173773\n",
       "1      0.294160  0.162821\n",
       "2      0.301314  0.173373\n",
       "3      0.341502  0.173323\n",
       "4      0.285041  0.195410\n",
       "...         ...       ...\n",
       "99995  0.303462  0.217263\n",
       "99996  0.262693  0.182620\n",
       "99997  0.299112  0.190763\n",
       "99998  0.315449  0.205607\n",
       "99999  0.273985  0.211189\n",
       "\n",
       "[100000 rows x 2 columns]"
      ]
     },
     "execution_count": 77,
     "metadata": {},
     "output_type": "execute_result"
    }
   ],
   "source": [
    "summary = annual_return(port_ret)\n",
    "summary"
   ]
  },
  {
   "cell_type": "markdown",
   "id": "3da9ce32-dc95-4b38-aa35-936b818bf6d5",
   "metadata": {},
   "source": [
    "## Creating Scatter Plot For The Return & Risk of Each Portfolio Comparison With Each Stocks"
   ]
  },
  {
   "cell_type": "code",
   "execution_count": 78,
   "id": "8f4c5110-16d3-4106-9f8e-a6fe2209107a",
   "metadata": {
    "tags": []
   },
   "outputs": [
    {
     "data": {
      "image/png": "[encoded data removed]",
      "text/plain": [
       "<Figure size 1500x900 with 1 Axes>"
      ]
     },
     "metadata": {},
     "output_type": "display_data"
    }
   ],
   "source": [
    "# summary.plot(kind = 'scatter', x='risk', y='return', figsize = (15,10), s = 25, fontsize = 10)\n",
    "plt.figure(figsize = (15,9))\n",
    "plt.scatter(summary.loc[:, \"risk\"], summary.loc[:, \"return\"], s = 30)\n",
    "plt.scatter(annual_ret.loc[:, \"risk\"], annual_ret.loc[:, \"return\"], s = 40, marker = \"D\")\n",
    "for i in annual_ret.index:\n",
    "    plt.annotate(i, xy = ((annual_ret.loc[i, 'risk'] + 0.002, annual_ret.loc[i, 'return'] + 0.002)), size = 7)\n",
    "plt.xlabel('ann. Risk(std)', fontsize = 13)\n",
    "plt.ylabel('ann. Return(mean)', fontsize = 13)\n",
    "plt.show()"
   ]
  },
  {
   "cell_type": "code",
   "execution_count": 82,
   "id": "b4ab9d99-8ec4-4154-a467-4caa882e8830",
   "metadata": {
    "tags": []
   },
   "outputs": [
    {
     "data": {
      "text/html": [
       "<div>\n",
       "<style scoped>\n",
       "    .dataframe tbody tr th:only-of-type {\n",
       "        vertical-align: middle;\n",
       "    }\n",
       "\n",
       "    .dataframe tbody tr th {\n",
       "        vertical-align: top;\n",
       "    }\n",
       "\n",
       "    .dataframe thead th {\n",
       "        text-align: right;\n",
       "    }\n",
       "</style>\n",
       "<table border=\"1\" class=\"dataframe\">\n",
       "  <thead>\n",
       "    <tr style=\"text-align: right;\">\n",
       "      <th></th>\n",
       "      <th>return</th>\n",
       "      <th>risk</th>\n",
       "    </tr>\n",
       "  </thead>\n",
       "  <tbody>\n",
       "    <tr>\n",
       "      <th>69692</th>\n",
       "      <td>0.438796</td>\n",
       "      <td>0.190610</td>\n",
       "    </tr>\n",
       "    <tr>\n",
       "      <th>13965</th>\n",
       "      <td>0.417081</td>\n",
       "      <td>0.187090</td>\n",
       "    </tr>\n",
       "    <tr>\n",
       "      <th>87029</th>\n",
       "      <td>0.412518</td>\n",
       "      <td>0.188296</td>\n",
       "    </tr>\n",
       "    <tr>\n",
       "      <th>89660</th>\n",
       "      <td>0.410160</td>\n",
       "      <td>0.176407</td>\n",
       "    </tr>\n",
       "    <tr>\n",
       "      <th>81037</th>\n",
       "      <td>0.405843</td>\n",
       "      <td>0.191246</td>\n",
       "    </tr>\n",
       "    <tr>\n",
       "      <th>...</th>\n",
       "      <td>...</td>\n",
       "      <td>...</td>\n",
       "    </tr>\n",
       "    <tr>\n",
       "      <th>62996</th>\n",
       "      <td>0.233244</td>\n",
       "      <td>0.213362</td>\n",
       "    </tr>\n",
       "    <tr>\n",
       "      <th>87316</th>\n",
       "      <td>0.230950</td>\n",
       "      <td>0.213119</td>\n",
       "    </tr>\n",
       "    <tr>\n",
       "      <th>56828</th>\n",
       "      <td>0.227632</td>\n",
       "      <td>0.215041</td>\n",
       "    </tr>\n",
       "    <tr>\n",
       "      <th>39240</th>\n",
       "      <td>0.227023</td>\n",
       "      <td>0.212600</td>\n",
       "    </tr>\n",
       "    <tr>\n",
       "      <th>41053</th>\n",
       "      <td>0.223812</td>\n",
       "      <td>0.207707</td>\n",
       "    </tr>\n",
       "  </tbody>\n",
       "</table>\n",
       "<p>100000 rows × 2 columns</p>\n",
       "</div>"
      ],
      "text/plain": [
       "         return      risk\n",
       "69692  0.438796  0.190610\n",
       "13965  0.417081  0.187090\n",
       "87029  0.412518  0.188296\n",
       "89660  0.410160  0.176407\n",
       "81037  0.405843  0.191246\n",
       "...         ...       ...\n",
       "62996  0.233244  0.213362\n",
       "87316  0.230950  0.213119\n",
       "56828  0.227632  0.215041\n",
       "39240  0.227023  0.212600\n",
       "41053  0.223812  0.207707\n",
       "\n",
       "[100000 rows x 2 columns]"
      ]
     },
     "execution_count": 82,
     "metadata": {},
     "output_type": "execute_result"
    }
   ],
   "source": [
    "summary.sort_values('return', ascending = False)"
   ]
  }
 ],
 "metadata": {
  "kernelspec": {
   "display_name": "Python 3 (ipykernel)",
   "language": "python",
   "name": "python3"
  },
  "language_info": {
   "codemirror_mode": {
    "name": "ipython",
    "version": 3
   },
   "file_extension": ".py",
   "mimetype": "text/x-python",
   "name": "python",
   "nbconvert_exporter": "python",
   "pygments_lexer": "ipython3",
   "version": "3.11.3"
  }
 },
 "nbformat": 4,
 "nbformat_minor": 5
}
