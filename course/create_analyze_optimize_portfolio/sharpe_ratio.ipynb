{
 "cells": [
  {
   "cell_type": "markdown",
   "id": "ded149f2-a195-4543-b650-ad47d4327bc6",
   "metadata": {},
   "source": [
    "# Risk Adjusted Performance Metrics (Sharpe Ratio)"
   ]
  },
  {
   "cell_type": "markdown",
   "id": "f1a2e1f2-603f-4d21-b342-8813652db807",
   "metadata": {},
   "source": [
    "## Sharpe Ratio & Risk Free Asset Definition"
   ]
  },
  {
   "cell_type": "markdown",
   "id": "7f0e9616-f7b5-4aa0-a7fa-da37656f2e3a",
   "metadata": {},
   "source": [
    "$$\n",
    "SharpeRatio = \\frac{PortReturn - RFR}{PortRisk} \n",
    "$$"
   ]
  },
  {
   "cell_type": "markdown",
   "id": "cc8ec4dc-bf1b-4f6d-8e26-fb2818c2b51e",
   "metadata": {},
   "source": [
    "- RFR : As an approximation usually used the annual yield of government issued bond"
   ]
  },
  {
   "cell_type": "code",
   "execution_count": 467,
   "id": "62b86668-0c90-4a46-913f-c83c0dae8867",
   "metadata": {
    "tags": []
   },
   "outputs": [],
   "source": [
    "risk_free_return = 0.0635 #indonesia 5 years gov bond coupon rate \n",
    "risk_free_rate = 0 # as government bond will almost never default this is the 0 is always the risk free rate \n",
    "rf = [risk_free_return, risk_free_rate]"
   ]
  },
  {
   "cell_type": "code",
   "execution_count": 468,
   "id": "29ba3a19-4f61-4aad-83f7-538735dd0f27",
   "metadata": {
    "tags": []
   },
   "outputs": [],
   "source": [
    "import pandas as pd \n",
    "import numpy as np \n",
    "import yfinance \n",
    "from pandas_datareader import data as wb\n",
    "import matplotlib.pyplot as plt\n",
    "import warnings \n",
    "warnings.filterwarnings('ignore')\n",
    "yfinance.pdr_override()\n",
    "plt.style.use('fivethirtyeight')"
   ]
  },
  {
   "cell_type": "code",
   "execution_count": 469,
   "id": "072725f4-a56e-47c0-91f5-b784378ad743",
   "metadata": {
    "tags": []
   },
   "outputs": [
    {
     "name": "stdout",
     "output_type": "stream",
     "text": [
      "[*********************100%***********************]  1 of 1 completed\n",
      "[*********************100%***********************]  1 of 1 completed\n",
      "[*********************100%***********************]  1 of 1 completed\n",
      "[*********************100%***********************]  1 of 1 completed\n",
      "[*********************100%***********************]  1 of 1 completed\n",
      "[*********************100%***********************]  1 of 1 completed\n",
      "[*********************100%***********************]  1 of 1 completed\n",
      "[*********************100%***********************]  1 of 1 completed\n",
      "[*********************100%***********************]  1 of 1 completed\n",
      "[*********************100%***********************]  1 of 1 completed\n",
      "[*********************100%***********************]  1 of 1 completed\n",
      "[*********************100%***********************]  1 of 1 completed\n",
      "[*********************100%***********************]  1 of 1 completed\n",
      "[*********************100%***********************]  1 of 1 completed\n",
      "[*********************100%***********************]  1 of 1 completed\n"
     ]
    }
   ],
   "source": [
    "port = pd.DataFrame()\n",
    "tickers = ['ITMG.jk', 'ADRO.jk', 'AMRT.jk', 'MPMX.jk', 'APIC.jk', 'HEXA.jk', 'MFIN.jk', 'MBAP.jk', 'BYAN.jk', 'MTDL.jk', 'BSSR.jk','ADMF.jk','INCO.jk','ARNA.jk', 'UNTR.jk'] #,\n",
    "# tickers = ['ANTM.jk', 'ASII.jk', 'BBCA.jk', 'BBRI.jk', 'BMRI.jk', 'ICBP.jk', 'JSMR.jk', 'MEDC.jk', 'PGAS.jk', 'PTBA.jk', 'PTPP.jk', 'PWON.jk', 'SMRA.jk','TLKM.jk', 'UNVR.jk', 'WSKT.jk']\n",
    "for ticker in tickers:\n",
    "    port[ticker] = wb.get_data_yahoo(ticker, start = '2019-04-01', end = '2023-04-30')['Adj Close']"
   ]
  },
  {
   "cell_type": "markdown",
   "id": "0434aba0-3c41-49c8-9c0b-b5de781d6fa9",
   "metadata": {},
   "source": [
    "## Portfolio Analysis With Sharpe Ratio"
   ]
  },
  {
   "cell_type": "markdown",
   "id": "740fdd9d-04ba-45b8-9210-c0a57dd57956",
   "metadata": {},
   "source": [
    "### Recreating 100K Random Portfolios"
   ]
  },
  {
   "cell_type": "code",
   "execution_count": 470,
   "id": "2eff6b21-e402-4955-a8ae-e674ca2ceabd",
   "metadata": {
    "tags": []
   },
   "outputs": [],
   "source": [
    "def annual_return(return_df) : \n",
    "    summary = return_df.agg(['mean', 'std']).T\n",
    "    summary.columns = ['return', 'risk']\n",
    "    summary['return'] = summary['return'] * 250\n",
    "    summary['risk'] = summary['risk'] * 250**0.5\n",
    "    return summary\n",
    "\n",
    "ret = port.pct_change().dropna()\n",
    "annual_ret = annual_return(ret)"
   ]
  },
  {
   "cell_type": "code",
   "execution_count": 471,
   "id": "21e9669d-041b-427b-a077-0685db8d1783",
   "metadata": {
    "tags": []
   },
   "outputs": [
    {
     "data": {
      "text/html": [
       "<div>\n",
       "<style scoped>\n",
       "    .dataframe tbody tr th:only-of-type {\n",
       "        vertical-align: middle;\n",
       "    }\n",
       "\n",
       "    .dataframe tbody tr th {\n",
       "        vertical-align: top;\n",
       "    }\n",
       "\n",
       "    .dataframe thead th {\n",
       "        text-align: right;\n",
       "    }\n",
       "</style>\n",
       "<table border=\"1\" class=\"dataframe\">\n",
       "  <thead>\n",
       "    <tr style=\"text-align: right;\">\n",
       "      <th></th>\n",
       "      <th>return</th>\n",
       "      <th>risk</th>\n",
       "    </tr>\n",
       "  </thead>\n",
       "  <tbody>\n",
       "    <tr>\n",
       "      <th>ITMG.jk</th>\n",
       "      <td>0.358934</td>\n",
       "      <td>0.449710</td>\n",
       "    </tr>\n",
       "    <tr>\n",
       "      <th>ADRO.jk</th>\n",
       "      <td>0.411732</td>\n",
       "      <td>0.472058</td>\n",
       "    </tr>\n",
       "    <tr>\n",
       "      <th>AMRT.jk</th>\n",
       "      <td>0.392441</td>\n",
       "      <td>0.426659</td>\n",
       "    </tr>\n",
       "    <tr>\n",
       "      <th>MPMX.jk</th>\n",
       "      <td>0.377254</td>\n",
       "      <td>0.446787</td>\n",
       "    </tr>\n",
       "    <tr>\n",
       "      <th>APIC.jk</th>\n",
       "      <td>0.241872</td>\n",
       "      <td>0.266538</td>\n",
       "    </tr>\n",
       "    <tr>\n",
       "      <th>HEXA.jk</th>\n",
       "      <td>0.386666</td>\n",
       "      <td>0.319469</td>\n",
       "    </tr>\n",
       "    <tr>\n",
       "      <th>MFIN.jk</th>\n",
       "      <td>0.260833</td>\n",
       "      <td>0.379647</td>\n",
       "    </tr>\n",
       "    <tr>\n",
       "      <th>MBAP.jk</th>\n",
       "      <td>0.406822</td>\n",
       "      <td>0.405913</td>\n",
       "    </tr>\n",
       "    <tr>\n",
       "      <th>BYAN.jk</th>\n",
       "      <td>0.816583</td>\n",
       "      <td>0.529028</td>\n",
       "    </tr>\n",
       "    <tr>\n",
       "      <th>MTDL.jk</th>\n",
       "      <td>0.362412</td>\n",
       "      <td>0.443812</td>\n",
       "    </tr>\n",
       "    <tr>\n",
       "      <th>BSSR.jk</th>\n",
       "      <td>0.455239</td>\n",
       "      <td>0.560655</td>\n",
       "    </tr>\n",
       "    <tr>\n",
       "      <th>ADMF.jk</th>\n",
       "      <td>0.119375</td>\n",
       "      <td>0.203046</td>\n",
       "    </tr>\n",
       "    <tr>\n",
       "      <th>INCO.jk</th>\n",
       "      <td>0.285645</td>\n",
       "      <td>0.482881</td>\n",
       "    </tr>\n",
       "    <tr>\n",
       "      <th>ARNA.jk</th>\n",
       "      <td>0.248023</td>\n",
       "      <td>0.290783</td>\n",
       "    </tr>\n",
       "    <tr>\n",
       "      <th>UNTR.jk</th>\n",
       "      <td>0.143202</td>\n",
       "      <td>0.404739</td>\n",
       "    </tr>\n",
       "  </tbody>\n",
       "</table>\n",
       "</div>"
      ],
      "text/plain": [
       "           return      risk\n",
       "ITMG.jk  0.358934  0.449710\n",
       "ADRO.jk  0.411732  0.472058\n",
       "AMRT.jk  0.392441  0.426659\n",
       "MPMX.jk  0.377254  0.446787\n",
       "APIC.jk  0.241872  0.266538\n",
       "HEXA.jk  0.386666  0.319469\n",
       "MFIN.jk  0.260833  0.379647\n",
       "MBAP.jk  0.406822  0.405913\n",
       "BYAN.jk  0.816583  0.529028\n",
       "MTDL.jk  0.362412  0.443812\n",
       "BSSR.jk  0.455239  0.560655\n",
       "ADMF.jk  0.119375  0.203046\n",
       "INCO.jk  0.285645  0.482881\n",
       "ARNA.jk  0.248023  0.290783\n",
       "UNTR.jk  0.143202  0.404739"
      ]
     },
     "execution_count": 471,
     "metadata": {},
     "output_type": "execute_result"
    }
   ],
   "source": [
    "annual_ret"
   ]
  },
  {
   "cell_type": "code",
   "execution_count": 472,
   "id": "777c0f32-5436-4fb8-a089-710f6e79c889",
   "metadata": {
    "tags": []
   },
   "outputs": [
    {
     "data": {
      "text/html": [
       "<div>\n",
       "<style scoped>\n",
       "    .dataframe tbody tr th:only-of-type {\n",
       "        vertical-align: middle;\n",
       "    }\n",
       "\n",
       "    .dataframe tbody tr th {\n",
       "        vertical-align: top;\n",
       "    }\n",
       "\n",
       "    .dataframe thead th {\n",
       "        text-align: right;\n",
       "    }\n",
       "</style>\n",
       "<table border=\"1\" class=\"dataframe\">\n",
       "  <thead>\n",
       "    <tr style=\"text-align: right;\">\n",
       "      <th></th>\n",
       "      <th>return</th>\n",
       "      <th>risk</th>\n",
       "    </tr>\n",
       "  </thead>\n",
       "  <tbody>\n",
       "    <tr>\n",
       "      <th>0</th>\n",
       "      <td>0.338980</td>\n",
       "      <td>0.180058</td>\n",
       "    </tr>\n",
       "    <tr>\n",
       "      <th>1</th>\n",
       "      <td>0.355366</td>\n",
       "      <td>0.182262</td>\n",
       "    </tr>\n",
       "    <tr>\n",
       "      <th>2</th>\n",
       "      <td>0.388586</td>\n",
       "      <td>0.188549</td>\n",
       "    </tr>\n",
       "    <tr>\n",
       "      <th>3</th>\n",
       "      <td>0.342882</td>\n",
       "      <td>0.171170</td>\n",
       "    </tr>\n",
       "    <tr>\n",
       "      <th>4</th>\n",
       "      <td>0.314606</td>\n",
       "      <td>0.174502</td>\n",
       "    </tr>\n",
       "    <tr>\n",
       "      <th>...</th>\n",
       "      <td>...</td>\n",
       "      <td>...</td>\n",
       "    </tr>\n",
       "    <tr>\n",
       "      <th>99995</th>\n",
       "      <td>0.347093</td>\n",
       "      <td>0.208835</td>\n",
       "    </tr>\n",
       "    <tr>\n",
       "      <th>99996</th>\n",
       "      <td>0.370948</td>\n",
       "      <td>0.171598</td>\n",
       "    </tr>\n",
       "    <tr>\n",
       "      <th>99997</th>\n",
       "      <td>0.344872</td>\n",
       "      <td>0.183398</td>\n",
       "    </tr>\n",
       "    <tr>\n",
       "      <th>99998</th>\n",
       "      <td>0.352618</td>\n",
       "      <td>0.175720</td>\n",
       "    </tr>\n",
       "    <tr>\n",
       "      <th>99999</th>\n",
       "      <td>0.300791</td>\n",
       "      <td>0.184752</td>\n",
       "    </tr>\n",
       "  </tbody>\n",
       "</table>\n",
       "<p>100000 rows × 2 columns</p>\n",
       "</div>"
      ],
      "text/plain": [
       "         return      risk\n",
       "0      0.338980  0.180058\n",
       "1      0.355366  0.182262\n",
       "2      0.388586  0.188549\n",
       "3      0.342882  0.171170\n",
       "4      0.314606  0.174502\n",
       "...         ...       ...\n",
       "99995  0.347093  0.208835\n",
       "99996  0.370948  0.171598\n",
       "99997  0.344872  0.183398\n",
       "99998  0.352618  0.175720\n",
       "99999  0.300791  0.184752\n",
       "\n",
       "[100000 rows x 2 columns]"
      ]
     },
     "execution_count": 472,
     "metadata": {},
     "output_type": "execute_result"
    }
   ],
   "source": [
    "port_amount = len(port.columns)\n",
    "nop = 100_000\n",
    "\n",
    "np.random.seed(123) #just to make sure it consistenly generated random number\n",
    "matrix = np.random.random(port_amount * nop).reshape(nop,port_amount)\n",
    "norm_port = matrix / matrix.sum(axis = 1, keepdims = True)\n",
    "\n",
    "port_ret = ret.dot(norm_port.T)\n",
    "summary = annual_return(port_ret)\n",
    "\n",
    "summary"
   ]
  },
  {
   "cell_type": "markdown",
   "id": "bf3d289e-89c1-4b07-b2a0-96a4db67d4fb",
   "metadata": {},
   "source": [
    "### Caclulating Sharpe Ratio"
   ]
  },
  {
   "cell_type": "code",
   "execution_count": 473,
   "id": "9f09dda4-c1ee-43a4-ae49-02749c36d689",
   "metadata": {
    "tags": []
   },
   "outputs": [
    {
     "data": {
      "text/html": [
       "<div>\n",
       "<style scoped>\n",
       "    .dataframe tbody tr th:only-of-type {\n",
       "        vertical-align: middle;\n",
       "    }\n",
       "\n",
       "    .dataframe tbody tr th {\n",
       "        vertical-align: top;\n",
       "    }\n",
       "\n",
       "    .dataframe thead th {\n",
       "        text-align: right;\n",
       "    }\n",
       "</style>\n",
       "<table border=\"1\" class=\"dataframe\">\n",
       "  <thead>\n",
       "    <tr style=\"text-align: right;\">\n",
       "      <th></th>\n",
       "      <th>return</th>\n",
       "      <th>risk</th>\n",
       "      <th>sharpe</th>\n",
       "    </tr>\n",
       "  </thead>\n",
       "  <tbody>\n",
       "    <tr>\n",
       "      <th>BYAN.jk</th>\n",
       "      <td>0.816583</td>\n",
       "      <td>0.529028</td>\n",
       "      <td>1.423522</td>\n",
       "    </tr>\n",
       "    <tr>\n",
       "      <th>HEXA.jk</th>\n",
       "      <td>0.386666</td>\n",
       "      <td>0.319469</td>\n",
       "      <td>1.011572</td>\n",
       "    </tr>\n",
       "    <tr>\n",
       "      <th>MBAP.jk</th>\n",
       "      <td>0.406822</td>\n",
       "      <td>0.405913</td>\n",
       "      <td>0.845803</td>\n",
       "    </tr>\n",
       "    <tr>\n",
       "      <th>AMRT.jk</th>\n",
       "      <td>0.392441</td>\n",
       "      <td>0.426659</td>\n",
       "      <td>0.770970</td>\n",
       "    </tr>\n",
       "    <tr>\n",
       "      <th>ADRO.jk</th>\n",
       "      <td>0.411732</td>\n",
       "      <td>0.472058</td>\n",
       "      <td>0.737689</td>\n",
       "    </tr>\n",
       "    <tr>\n",
       "      <th>MPMX.jk</th>\n",
       "      <td>0.377254</td>\n",
       "      <td>0.446787</td>\n",
       "      <td>0.702246</td>\n",
       "    </tr>\n",
       "    <tr>\n",
       "      <th>BSSR.jk</th>\n",
       "      <td>0.455239</td>\n",
       "      <td>0.560655</td>\n",
       "      <td>0.698716</td>\n",
       "    </tr>\n",
       "    <tr>\n",
       "      <th>MTDL.jk</th>\n",
       "      <td>0.362412</td>\n",
       "      <td>0.443812</td>\n",
       "      <td>0.673511</td>\n",
       "    </tr>\n",
       "    <tr>\n",
       "      <th>APIC.jk</th>\n",
       "      <td>0.241872</td>\n",
       "      <td>0.266538</td>\n",
       "      <td>0.669218</td>\n",
       "    </tr>\n",
       "    <tr>\n",
       "      <th>ITMG.jk</th>\n",
       "      <td>0.358934</td>\n",
       "      <td>0.449710</td>\n",
       "      <td>0.656943</td>\n",
       "    </tr>\n",
       "    <tr>\n",
       "      <th>ARNA.jk</th>\n",
       "      <td>0.248023</td>\n",
       "      <td>0.290783</td>\n",
       "      <td>0.634575</td>\n",
       "    </tr>\n",
       "    <tr>\n",
       "      <th>MFIN.jk</th>\n",
       "      <td>0.260833</td>\n",
       "      <td>0.379647</td>\n",
       "      <td>0.519780</td>\n",
       "    </tr>\n",
       "    <tr>\n",
       "      <th>INCO.jk</th>\n",
       "      <td>0.285645</td>\n",
       "      <td>0.482881</td>\n",
       "      <td>0.460040</td>\n",
       "    </tr>\n",
       "    <tr>\n",
       "      <th>ADMF.jk</th>\n",
       "      <td>0.119375</td>\n",
       "      <td>0.203046</td>\n",
       "      <td>0.275185</td>\n",
       "    </tr>\n",
       "    <tr>\n",
       "      <th>UNTR.jk</th>\n",
       "      <td>0.143202</td>\n",
       "      <td>0.404739</td>\n",
       "      <td>0.196923</td>\n",
       "    </tr>\n",
       "  </tbody>\n",
       "</table>\n",
       "</div>"
      ],
      "text/plain": [
       "           return      risk    sharpe\n",
       "BYAN.jk  0.816583  0.529028  1.423522\n",
       "HEXA.jk  0.386666  0.319469  1.011572\n",
       "MBAP.jk  0.406822  0.405913  0.845803\n",
       "AMRT.jk  0.392441  0.426659  0.770970\n",
       "ADRO.jk  0.411732  0.472058  0.737689\n",
       "MPMX.jk  0.377254  0.446787  0.702246\n",
       "BSSR.jk  0.455239  0.560655  0.698716\n",
       "MTDL.jk  0.362412  0.443812  0.673511\n",
       "APIC.jk  0.241872  0.266538  0.669218\n",
       "ITMG.jk  0.358934  0.449710  0.656943\n",
       "ARNA.jk  0.248023  0.290783  0.634575\n",
       "MFIN.jk  0.260833  0.379647  0.519780\n",
       "INCO.jk  0.285645  0.482881  0.460040\n",
       "ADMF.jk  0.119375  0.203046  0.275185\n",
       "UNTR.jk  0.143202  0.404739  0.196923"
      ]
     },
     "execution_count": 473,
     "metadata": {},
     "output_type": "execute_result"
    }
   ],
   "source": [
    "annual_ret['sharpe'] = (annual_ret['return'].sub(rf[0])) / annual_ret['risk']\n",
    "annual_ret.sort_values('sharpe', ascending = False)"
   ]
  },
  {
   "cell_type": "code",
   "execution_count": 474,
   "id": "3282bc14-0b19-4a45-b29a-630a7d3a8259",
   "metadata": {
    "tags": []
   },
   "outputs": [
    {
     "data": {
      "text/html": [
       "<div>\n",
       "<style scoped>\n",
       "    .dataframe tbody tr th:only-of-type {\n",
       "        vertical-align: middle;\n",
       "    }\n",
       "\n",
       "    .dataframe tbody tr th {\n",
       "        vertical-align: top;\n",
       "    }\n",
       "\n",
       "    .dataframe thead th {\n",
       "        text-align: right;\n",
       "    }\n",
       "</style>\n",
       "<table border=\"1\" class=\"dataframe\">\n",
       "  <thead>\n",
       "    <tr style=\"text-align: right;\">\n",
       "      <th></th>\n",
       "      <th>return</th>\n",
       "      <th>risk</th>\n",
       "      <th>sharpe</th>\n",
       "    </tr>\n",
       "  </thead>\n",
       "  <tbody>\n",
       "    <tr>\n",
       "      <th>0</th>\n",
       "      <td>0.338980</td>\n",
       "      <td>0.180058</td>\n",
       "      <td>1.529949</td>\n",
       "    </tr>\n",
       "    <tr>\n",
       "      <th>1</th>\n",
       "      <td>0.355366</td>\n",
       "      <td>0.182262</td>\n",
       "      <td>1.601356</td>\n",
       "    </tr>\n",
       "    <tr>\n",
       "      <th>2</th>\n",
       "      <td>0.388586</td>\n",
       "      <td>0.188549</td>\n",
       "      <td>1.724145</td>\n",
       "    </tr>\n",
       "    <tr>\n",
       "      <th>3</th>\n",
       "      <td>0.342882</td>\n",
       "      <td>0.171170</td>\n",
       "      <td>1.632189</td>\n",
       "    </tr>\n",
       "    <tr>\n",
       "      <th>4</th>\n",
       "      <td>0.314606</td>\n",
       "      <td>0.174502</td>\n",
       "      <td>1.438986</td>\n",
       "    </tr>\n",
       "    <tr>\n",
       "      <th>...</th>\n",
       "      <td>...</td>\n",
       "      <td>...</td>\n",
       "      <td>...</td>\n",
       "    </tr>\n",
       "    <tr>\n",
       "      <th>99995</th>\n",
       "      <td>0.347093</td>\n",
       "      <td>0.208835</td>\n",
       "      <td>1.357980</td>\n",
       "    </tr>\n",
       "    <tr>\n",
       "      <th>99996</th>\n",
       "      <td>0.370948</td>\n",
       "      <td>0.171598</td>\n",
       "      <td>1.791680</td>\n",
       "    </tr>\n",
       "    <tr>\n",
       "      <th>99997</th>\n",
       "      <td>0.344872</td>\n",
       "      <td>0.183398</td>\n",
       "      <td>1.534210</td>\n",
       "    </tr>\n",
       "    <tr>\n",
       "      <th>99998</th>\n",
       "      <td>0.352618</td>\n",
       "      <td>0.175720</td>\n",
       "      <td>1.645329</td>\n",
       "    </tr>\n",
       "    <tr>\n",
       "      <th>99999</th>\n",
       "      <td>0.300791</td>\n",
       "      <td>0.184752</td>\n",
       "      <td>1.284376</td>\n",
       "    </tr>\n",
       "  </tbody>\n",
       "</table>\n",
       "<p>100000 rows × 3 columns</p>\n",
       "</div>"
      ],
      "text/plain": [
       "         return      risk    sharpe\n",
       "0      0.338980  0.180058  1.529949\n",
       "1      0.355366  0.182262  1.601356\n",
       "2      0.388586  0.188549  1.724145\n",
       "3      0.342882  0.171170  1.632189\n",
       "4      0.314606  0.174502  1.438986\n",
       "...         ...       ...       ...\n",
       "99995  0.347093  0.208835  1.357980\n",
       "99996  0.370948  0.171598  1.791680\n",
       "99997  0.344872  0.183398  1.534210\n",
       "99998  0.352618  0.175720  1.645329\n",
       "99999  0.300791  0.184752  1.284376\n",
       "\n",
       "[100000 rows x 3 columns]"
      ]
     },
     "execution_count": 474,
     "metadata": {},
     "output_type": "execute_result"
    }
   ],
   "source": [
    "summary['sharpe']= (summary['return'].sub(rf[0]))/summary['risk']\n",
    "summary"
   ]
  },
  {
   "cell_type": "code",
   "execution_count": 475,
   "id": "5d993aea-2158-42b2-b16f-b8a83e279e4a",
   "metadata": {
    "tags": []
   },
   "outputs": [
    {
     "data": {
      "text/html": [
       "<div>\n",
       "<style scoped>\n",
       "    .dataframe tbody tr th:only-of-type {\n",
       "        vertical-align: middle;\n",
       "    }\n",
       "\n",
       "    .dataframe tbody tr th {\n",
       "        vertical-align: top;\n",
       "    }\n",
       "\n",
       "    .dataframe thead th {\n",
       "        text-align: right;\n",
       "    }\n",
       "</style>\n",
       "<table border=\"1\" class=\"dataframe\">\n",
       "  <thead>\n",
       "    <tr style=\"text-align: right;\">\n",
       "      <th></th>\n",
       "      <th>return</th>\n",
       "      <th>risk</th>\n",
       "      <th>sharpe</th>\n",
       "    </tr>\n",
       "  </thead>\n",
       "  <tbody>\n",
       "    <tr>\n",
       "      <th>count</th>\n",
       "      <td>100000.000000</td>\n",
       "      <td>100000.000000</td>\n",
       "      <td>100000.000000</td>\n",
       "    </tr>\n",
       "    <tr>\n",
       "      <th>mean</th>\n",
       "      <td>0.351049</td>\n",
       "      <td>0.188984</td>\n",
       "      <td>1.527591</td>\n",
       "    </tr>\n",
       "    <tr>\n",
       "      <th>std</th>\n",
       "      <td>0.024105</td>\n",
       "      <td>0.012688</td>\n",
       "      <td>0.155601</td>\n",
       "    </tr>\n",
       "    <tr>\n",
       "      <th>min</th>\n",
       "      <td>0.258758</td>\n",
       "      <td>0.146941</td>\n",
       "      <td>0.940332</td>\n",
       "    </tr>\n",
       "    <tr>\n",
       "      <th>25%</th>\n",
       "      <td>0.333944</td>\n",
       "      <td>0.180181</td>\n",
       "      <td>1.415991</td>\n",
       "    </tr>\n",
       "    <tr>\n",
       "      <th>50%</th>\n",
       "      <td>0.351112</td>\n",
       "      <td>0.188176</td>\n",
       "      <td>1.530178</td>\n",
       "    </tr>\n",
       "    <tr>\n",
       "      <th>75%</th>\n",
       "      <td>0.367858</td>\n",
       "      <td>0.197015</td>\n",
       "      <td>1.638809</td>\n",
       "    </tr>\n",
       "    <tr>\n",
       "      <th>max</th>\n",
       "      <td>0.453880</td>\n",
       "      <td>0.256822</td>\n",
       "      <td>2.066277</td>\n",
       "    </tr>\n",
       "  </tbody>\n",
       "</table>\n",
       "</div>"
      ],
      "text/plain": [
       "              return           risk         sharpe\n",
       "count  100000.000000  100000.000000  100000.000000\n",
       "mean        0.351049       0.188984       1.527591\n",
       "std         0.024105       0.012688       0.155601\n",
       "min         0.258758       0.146941       0.940332\n",
       "25%         0.333944       0.180181       1.415991\n",
       "50%         0.351112       0.188176       1.530178\n",
       "75%         0.367858       0.197015       1.638809\n",
       "max         0.453880       0.256822       2.066277"
      ]
     },
     "execution_count": 475,
     "metadata": {},
     "output_type": "execute_result"
    }
   ],
   "source": [
    "summary.describe()"
   ]
  },
  {
   "cell_type": "markdown",
   "id": "69e54173-f608-4737-b5d8-b5a49d0229a3",
   "metadata": {},
   "source": [
    " ### Visualizing Sharpe Ratio"
   ]
  },
  {
   "cell_type": "code",
   "execution_count": 476,
   "id": "851ead0f-01d7-4e10-9610-1d02a3d7e303",
   "metadata": {
    "tags": []
   },
   "outputs": [
    {
     "data": {
      "image/png": "[encoded data removed]",
      "text/plain": [
       "<Figure size 1500x900 with 2 Axes>"
      ]
     },
     "metadata": {},
     "output_type": "display_data"
    }
   ],
   "source": [
    "plt.figure(figsize = (15,9))\n",
    "plt.scatter(summary.loc[:, \"risk\"], summary.loc[:, \"return\"], s = 30,\n",
    "            c =summary.loc[:,'sharpe'],cmap ='coolwarm', vmin = 0.76, vmax = 1.7, alpha = 0.7)\n",
    "plt.colorbar()\n",
    "plt.scatter(annual_ret.loc[:, \"risk\"], annual_ret.loc[:, \"return\"], s = 40, marker = \"D\",\n",
    "            c =annual_ret.loc[:,'sharpe'],cmap ='coolwarm', vmin = 0.76, vmax = 1.7, alpha = 0.7)\n",
    "for i in annual_ret.index:\n",
    "    plt.annotate(i, xy = ((annual_ret.loc[i, 'risk'] + 0.002, annual_ret.loc[i, 'return'] + 0.002)), size = 7)\n",
    "plt.xlabel('ann. Risk(std)', fontsize = 13)\n",
    "plt.ylabel('ann. Return(mean)', fontsize = 13)\n",
    "plt.show()"
   ]
  },
  {
   "cell_type": "markdown",
   "id": "24891d39-87fb-4c53-a450-d0b6e8faca21",
   "metadata": {},
   "source": [
    "## Finding the Optimum Porfolio - The Max Sharpe Ratio"
   ]
  },
  {
   "cell_type": "markdown",
   "id": "e78ec04b-265a-42f1-8a08-7c352b5d0b7e",
   "metadata": {},
   "source": [
    "### Checking 100K Random Porfolios"
   ]
  },
  {
   "cell_type": "code",
   "execution_count": 477,
   "id": "d1880f51-a90f-45f3-bf17-87ebbc61c889",
   "metadata": {
    "tags": []
   },
   "outputs": [
    {
     "data": {
      "text/html": [
       "<div>\n",
       "<style scoped>\n",
       "    .dataframe tbody tr th:only-of-type {\n",
       "        vertical-align: middle;\n",
       "    }\n",
       "\n",
       "    .dataframe tbody tr th {\n",
       "        vertical-align: top;\n",
       "    }\n",
       "\n",
       "    .dataframe thead th {\n",
       "        text-align: right;\n",
       "    }\n",
       "</style>\n",
       "<table border=\"1\" class=\"dataframe\">\n",
       "  <thead>\n",
       "    <tr style=\"text-align: right;\">\n",
       "      <th></th>\n",
       "      <th>return</th>\n",
       "      <th>risk</th>\n",
       "      <th>sharpe</th>\n",
       "    </tr>\n",
       "  </thead>\n",
       "  <tbody>\n",
       "    <tr>\n",
       "      <th>0</th>\n",
       "      <td>0.338980</td>\n",
       "      <td>0.180058</td>\n",
       "      <td>1.529949</td>\n",
       "    </tr>\n",
       "    <tr>\n",
       "      <th>1</th>\n",
       "      <td>0.355366</td>\n",
       "      <td>0.182262</td>\n",
       "      <td>1.601356</td>\n",
       "    </tr>\n",
       "    <tr>\n",
       "      <th>2</th>\n",
       "      <td>0.388586</td>\n",
       "      <td>0.188549</td>\n",
       "      <td>1.724145</td>\n",
       "    </tr>\n",
       "    <tr>\n",
       "      <th>3</th>\n",
       "      <td>0.342882</td>\n",
       "      <td>0.171170</td>\n",
       "      <td>1.632189</td>\n",
       "    </tr>\n",
       "    <tr>\n",
       "      <th>4</th>\n",
       "      <td>0.314606</td>\n",
       "      <td>0.174502</td>\n",
       "      <td>1.438986</td>\n",
       "    </tr>\n",
       "  </tbody>\n",
       "</table>\n",
       "</div>"
      ],
      "text/plain": [
       "     return      risk    sharpe\n",
       "0  0.338980  0.180058  1.529949\n",
       "1  0.355366  0.182262  1.601356\n",
       "2  0.388586  0.188549  1.724145\n",
       "3  0.342882  0.171170  1.632189\n",
       "4  0.314606  0.174502  1.438986"
      ]
     },
     "execution_count": 477,
     "metadata": {},
     "output_type": "execute_result"
    }
   ],
   "source": [
    "summary.head()"
   ]
  },
  {
   "cell_type": "code",
   "execution_count": 478,
   "id": "e59f9594-d788-468d-9a04-efde059a30d8",
   "metadata": {
    "tags": []
   },
   "outputs": [
    {
     "data": {
      "text/html": [
       "<div>\n",
       "<style scoped>\n",
       "    .dataframe tbody tr th:only-of-type {\n",
       "        vertical-align: middle;\n",
       "    }\n",
       "\n",
       "    .dataframe tbody tr th {\n",
       "        vertical-align: top;\n",
       "    }\n",
       "\n",
       "    .dataframe thead th {\n",
       "        text-align: right;\n",
       "    }\n",
       "</style>\n",
       "<table border=\"1\" class=\"dataframe\">\n",
       "  <thead>\n",
       "    <tr style=\"text-align: right;\">\n",
       "      <th></th>\n",
       "      <th>return</th>\n",
       "      <th>risk</th>\n",
       "      <th>sharpe</th>\n",
       "    </tr>\n",
       "  </thead>\n",
       "  <tbody>\n",
       "    <tr>\n",
       "      <th>count</th>\n",
       "      <td>100000.000000</td>\n",
       "      <td>100000.000000</td>\n",
       "      <td>100000.000000</td>\n",
       "    </tr>\n",
       "    <tr>\n",
       "      <th>mean</th>\n",
       "      <td>0.351049</td>\n",
       "      <td>0.188984</td>\n",
       "      <td>1.527591</td>\n",
       "    </tr>\n",
       "    <tr>\n",
       "      <th>std</th>\n",
       "      <td>0.024105</td>\n",
       "      <td>0.012688</td>\n",
       "      <td>0.155601</td>\n",
       "    </tr>\n",
       "    <tr>\n",
       "      <th>min</th>\n",
       "      <td>0.258758</td>\n",
       "      <td>0.146941</td>\n",
       "      <td>0.940332</td>\n",
       "    </tr>\n",
       "    <tr>\n",
       "      <th>25%</th>\n",
       "      <td>0.333944</td>\n",
       "      <td>0.180181</td>\n",
       "      <td>1.415991</td>\n",
       "    </tr>\n",
       "    <tr>\n",
       "      <th>50%</th>\n",
       "      <td>0.351112</td>\n",
       "      <td>0.188176</td>\n",
       "      <td>1.530178</td>\n",
       "    </tr>\n",
       "    <tr>\n",
       "      <th>75%</th>\n",
       "      <td>0.367858</td>\n",
       "      <td>0.197015</td>\n",
       "      <td>1.638809</td>\n",
       "    </tr>\n",
       "    <tr>\n",
       "      <th>max</th>\n",
       "      <td>0.453880</td>\n",
       "      <td>0.256822</td>\n",
       "      <td>2.066277</td>\n",
       "    </tr>\n",
       "  </tbody>\n",
       "</table>\n",
       "</div>"
      ],
      "text/plain": [
       "              return           risk         sharpe\n",
       "count  100000.000000  100000.000000  100000.000000\n",
       "mean        0.351049       0.188984       1.527591\n",
       "std         0.024105       0.012688       0.155601\n",
       "min         0.258758       0.146941       0.940332\n",
       "25%         0.333944       0.180181       1.415991\n",
       "50%         0.351112       0.188176       1.530178\n",
       "75%         0.367858       0.197015       1.638809\n",
       "max         0.453880       0.256822       2.066277"
      ]
     },
     "execution_count": 478,
     "metadata": {},
     "output_type": "execute_result"
    }
   ],
   "source": [
    "summary.describe()"
   ]
  },
  {
   "cell_type": "markdown",
   "id": "343722c7-784e-4e09-9aa3-f20678c3b579",
   "metadata": {},
   "source": [
    "### Finding Portfolio Index With The Highest Sharpe Ratio"
   ]
  },
  {
   "cell_type": "code",
   "execution_count": 479,
   "id": "8bf3ac61-5095-4618-a444-2bce3d11dff4",
   "metadata": {
    "tags": []
   },
   "outputs": [
    {
     "data": {
      "text/plain": [
       "27982"
      ]
     },
     "execution_count": 479,
     "metadata": {},
     "output_type": "execute_result"
    }
   ],
   "source": [
    "msrp = summary['sharpe'].idxmax()\n",
    "msrp"
   ]
  },
  {
   "cell_type": "code",
   "execution_count": 480,
   "id": "490b104f-1f9f-4e02-86cb-1ab389be66c9",
   "metadata": {
    "tags": []
   },
   "outputs": [
    {
     "data": {
      "text/plain": [
       "return    0.403842\n",
       "risk      0.164713\n",
       "sharpe    2.066277\n",
       "Name: 27982, dtype: float64"
      ]
     },
     "execution_count": 480,
     "metadata": {},
     "output_type": "execute_result"
    }
   ],
   "source": [
    "msrp_summary = summary.iloc[msrp, :]\n",
    "msrp_summary"
   ]
  },
  {
   "cell_type": "markdown",
   "id": "de6fb707-c399-4c9f-b692-0a3b9542b9c7",
   "metadata": {},
   "source": [
    "### Weight of The Portfoluo With The Highest Sharpe Ratio"
   ]
  },
  {
   "cell_type": "code",
   "execution_count": 481,
   "id": "12fdc91a-a64d-4b30-bb83-d32b5cf61014",
   "metadata": {
    "tags": []
   },
   "outputs": [
    {
     "data": {
      "text/plain": [
       "array([0.03818299, 0.01699686, 0.12017746, 0.10157463, 0.14254578,\n",
       "       0.11181824, 0.06417645, 0.02660417, 0.15992169, 0.0252547 ,\n",
       "       0.05739283, 0.02380981, 0.00106705, 0.07196297, 0.03851437])"
      ]
     },
     "execution_count": 481,
     "metadata": {},
     "output_type": "execute_result"
    }
   ],
   "source": [
    "msrp_weight = norm_port[msrp,:]\n",
    "msrp_weight"
   ]
  },
  {
   "cell_type": "markdown",
   "id": "0cff0362-0198-432b-a335-85cfb7472d6f",
   "metadata": {},
   "source": [
    "#### Weight of Each Portfolios"
   ]
  },
  {
   "cell_type": "code",
   "execution_count": 482,
   "id": "7beacf84-b8df-4031-a676-f5a0ba9458b3",
   "metadata": {
    "tags": []
   },
   "outputs": [
    {
     "data": {
      "text/plain": [
       "BYAN.jk    0.159922\n",
       "APIC.jk    0.142546\n",
       "AMRT.jk    0.120177\n",
       "HEXA.jk    0.111818\n",
       "MPMX.jk    0.101575\n",
       "ARNA.jk    0.071963\n",
       "MFIN.jk    0.064176\n",
       "BSSR.jk    0.057393\n",
       "UNTR.jk    0.038514\n",
       "ITMG.jk    0.038183\n",
       "MBAP.jk    0.026604\n",
       "MTDL.jk    0.025255\n",
       "ADMF.jk    0.023810\n",
       "ADRO.jk    0.016997\n",
       "INCO.jk    0.001067\n",
       "dtype: float64"
      ]
     },
     "execution_count": 482,
     "metadata": {},
     "output_type": "execute_result"
    }
   ],
   "source": [
    "pd.Series(index = port.columns, data = msrp_weight).sort_values(ascending = False)"
   ]
  },
  {
   "cell_type": "markdown",
   "id": "f24b1d92-406b-4ad9-949a-ba66d061056b",
   "metadata": {},
   "source": [
    "# Appendix"
   ]
  },
  {
   "cell_type": "markdown",
   "id": "3902c166-3308-4e84-9731-14629dba8fa9",
   "metadata": {},
   "source": [
    "## Optimization portfolio\n",
    "\n",
    "Method Might not work on some portfolios "
   ]
  },
  {
   "cell_type": "code",
   "execution_count": 483,
   "id": "2d1f8541-ebbb-44ec-bf68-56aa6a8cb57a",
   "metadata": {
    "tags": []
   },
   "outputs": [],
   "source": [
    "import scipy.optimize as sco"
   ]
  },
  {
   "cell_type": "code",
   "execution_count": 484,
   "id": "33dfc992-d6bc-4ffa-86b7-1f930c79673d",
   "metadata": {
    "tags": []
   },
   "outputs": [
    {
     "data": {
      "text/html": [
       "<div>\n",
       "<style scoped>\n",
       "    .dataframe tbody tr th:only-of-type {\n",
       "        vertical-align: middle;\n",
       "    }\n",
       "\n",
       "    .dataframe tbody tr th {\n",
       "        vertical-align: top;\n",
       "    }\n",
       "\n",
       "    .dataframe thead th {\n",
       "        text-align: right;\n",
       "    }\n",
       "</style>\n",
       "<table border=\"1\" class=\"dataframe\">\n",
       "  <thead>\n",
       "    <tr style=\"text-align: right;\">\n",
       "      <th></th>\n",
       "      <th>ITMG.jk</th>\n",
       "      <th>ADRO.jk</th>\n",
       "      <th>AMRT.jk</th>\n",
       "      <th>MPMX.jk</th>\n",
       "      <th>APIC.jk</th>\n",
       "      <th>HEXA.jk</th>\n",
       "      <th>MFIN.jk</th>\n",
       "      <th>MBAP.jk</th>\n",
       "      <th>BYAN.jk</th>\n",
       "      <th>MTDL.jk</th>\n",
       "      <th>BSSR.jk</th>\n",
       "      <th>ADMF.jk</th>\n",
       "      <th>INCO.jk</th>\n",
       "      <th>ARNA.jk</th>\n",
       "      <th>UNTR.jk</th>\n",
       "    </tr>\n",
       "    <tr>\n",
       "      <th>Date</th>\n",
       "      <th></th>\n",
       "      <th></th>\n",
       "      <th></th>\n",
       "      <th></th>\n",
       "      <th></th>\n",
       "      <th></th>\n",
       "      <th></th>\n",
       "      <th></th>\n",
       "      <th></th>\n",
       "      <th></th>\n",
       "      <th></th>\n",
       "      <th></th>\n",
       "      <th></th>\n",
       "      <th></th>\n",
       "      <th></th>\n",
       "    </tr>\n",
       "  </thead>\n",
       "  <tbody>\n",
       "    <tr>\n",
       "      <th>2019-04-02</th>\n",
       "      <td>0.003145</td>\n",
       "      <td>-0.018519</td>\n",
       "      <td>-0.011111</td>\n",
       "      <td>0.096154</td>\n",
       "      <td>0.009009</td>\n",
       "      <td>0.013115</td>\n",
       "      <td>0.033333</td>\n",
       "      <td>0.010489</td>\n",
       "      <td>0.000000</td>\n",
       "      <td>-0.033019</td>\n",
       "      <td>-0.012605</td>\n",
       "      <td>0.000000</td>\n",
       "      <td>-0.016901</td>\n",
       "      <td>0.000000</td>\n",
       "      <td>-0.022873</td>\n",
       "    </tr>\n",
       "    <tr>\n",
       "      <th>2019-04-03</th>\n",
       "      <td>0.000000</td>\n",
       "      <td>0.000000</td>\n",
       "      <td>0.000000</td>\n",
       "      <td>0.000000</td>\n",
       "      <td>0.000000</td>\n",
       "      <td>0.000000</td>\n",
       "      <td>0.000000</td>\n",
       "      <td>0.000000</td>\n",
       "      <td>0.000000</td>\n",
       "      <td>0.000000</td>\n",
       "      <td>0.000000</td>\n",
       "      <td>0.000000</td>\n",
       "      <td>0.000000</td>\n",
       "      <td>0.000000</td>\n",
       "      <td>0.000000</td>\n",
       "    </tr>\n",
       "    <tr>\n",
       "      <th>2019-04-04</th>\n",
       "      <td>-0.045932</td>\n",
       "      <td>-0.037736</td>\n",
       "      <td>0.028090</td>\n",
       "      <td>-0.035088</td>\n",
       "      <td>-0.017857</td>\n",
       "      <td>0.000000</td>\n",
       "      <td>-0.013825</td>\n",
       "      <td>-0.024221</td>\n",
       "      <td>0.005291</td>\n",
       "      <td>0.014634</td>\n",
       "      <td>-0.008511</td>\n",
       "      <td>-0.004706</td>\n",
       "      <td>-0.008596</td>\n",
       "      <td>-0.009804</td>\n",
       "      <td>-0.007491</td>\n",
       "    </tr>\n",
       "    <tr>\n",
       "      <th>2019-04-05</th>\n",
       "      <td>-0.023952</td>\n",
       "      <td>-0.011765</td>\n",
       "      <td>0.000000</td>\n",
       "      <td>-0.004545</td>\n",
       "      <td>0.045455</td>\n",
       "      <td>0.022654</td>\n",
       "      <td>0.000000</td>\n",
       "      <td>-0.003546</td>\n",
       "      <td>0.000000</td>\n",
       "      <td>0.048077</td>\n",
       "      <td>-0.012876</td>\n",
       "      <td>0.016549</td>\n",
       "      <td>0.000000</td>\n",
       "      <td>0.009901</td>\n",
       "      <td>-0.004717</td>\n",
       "    </tr>\n",
       "    <tr>\n",
       "      <th>2019-04-08</th>\n",
       "      <td>-0.038037</td>\n",
       "      <td>0.000000</td>\n",
       "      <td>0.000000</td>\n",
       "      <td>0.018265</td>\n",
       "      <td>-0.008696</td>\n",
       "      <td>0.000000</td>\n",
       "      <td>0.009346</td>\n",
       "      <td>-0.035587</td>\n",
       "      <td>0.000000</td>\n",
       "      <td>0.036697</td>\n",
       "      <td>-0.008696</td>\n",
       "      <td>-0.011628</td>\n",
       "      <td>-0.026012</td>\n",
       "      <td>-0.019608</td>\n",
       "      <td>-0.018009</td>\n",
       "    </tr>\n",
       "  </tbody>\n",
       "</table>\n",
       "</div>"
      ],
      "text/plain": [
       "             ITMG.jk   ADRO.jk   AMRT.jk   MPMX.jk   APIC.jk   HEXA.jk   \n",
       "Date                                                                     \n",
       "2019-04-02  0.003145 -0.018519 -0.011111  0.096154  0.009009  0.013115  \\\n",
       "2019-04-03  0.000000  0.000000  0.000000  0.000000  0.000000  0.000000   \n",
       "2019-04-04 -0.045932 -0.037736  0.028090 -0.035088 -0.017857  0.000000   \n",
       "2019-04-05 -0.023952 -0.011765  0.000000 -0.004545  0.045455  0.022654   \n",
       "2019-04-08 -0.038037  0.000000  0.000000  0.018265 -0.008696  0.000000   \n",
       "\n",
       "             MFIN.jk   MBAP.jk   BYAN.jk   MTDL.jk   BSSR.jk   ADMF.jk   \n",
       "Date                                                                     \n",
       "2019-04-02  0.033333  0.010489  0.000000 -0.033019 -0.012605  0.000000  \\\n",
       "2019-04-03  0.000000  0.000000  0.000000  0.000000  0.000000  0.000000   \n",
       "2019-04-04 -0.013825 -0.024221  0.005291  0.014634 -0.008511 -0.004706   \n",
       "2019-04-05  0.000000 -0.003546  0.000000  0.048077 -0.012876  0.016549   \n",
       "2019-04-08  0.009346 -0.035587  0.000000  0.036697 -0.008696 -0.011628   \n",
       "\n",
       "             INCO.jk   ARNA.jk   UNTR.jk  \n",
       "Date                                      \n",
       "2019-04-02 -0.016901  0.000000 -0.022873  \n",
       "2019-04-03  0.000000  0.000000  0.000000  \n",
       "2019-04-04 -0.008596 -0.009804 -0.007491  \n",
       "2019-04-05  0.000000  0.009901 -0.004717  \n",
       "2019-04-08 -0.026012 -0.019608 -0.018009  "
      ]
     },
     "execution_count": 484,
     "metadata": {},
     "output_type": "execute_result"
    }
   ],
   "source": [
    "ret.head() #stocks daily return on the selected period"
   ]
  },
  {
   "cell_type": "code",
   "execution_count": 485,
   "id": "a1f5e365-43f8-4f00-8570-b34185ae79b7",
   "metadata": {
    "tags": []
   },
   "outputs": [
    {
     "data": {
      "text/plain": [
       "15"
      ]
     },
     "execution_count": 485,
     "metadata": {},
     "output_type": "execute_result"
    }
   ],
   "source": [
    "noa = len(ret.columns)\n",
    "noa # number of assests"
   ]
  },
  {
   "cell_type": "markdown",
   "id": "c11afb25-f9f4-4f29-b06d-bd49bfe6bff6",
   "metadata": {},
   "source": [
    "## Calculation of weights"
   ]
  },
  {
   "cell_type": "code",
   "execution_count": 486,
   "id": "d8b0a9fd-f9c9-40f8-a2e4-045a18281c74",
   "metadata": {
    "tags": []
   },
   "outputs": [],
   "source": [
    "#calculate annualized portfolio return (based on weights)\n",
    "def port_ret(weights):\n",
    "    return ret.dot(weights.T).mean() * 250"
   ]
  },
  {
   "cell_type": "code",
   "execution_count": 487,
   "id": "eab3b734-17ef-4a14-8e96-0fba52994f77",
   "metadata": {
    "tags": []
   },
   "outputs": [],
   "source": [
    "#calculate annualized portfolio volatility (based on weights)\n",
    "def port_vol(weights):\n",
    "    return ret.dot(weights.T).std() * np.sqrt(250)"
   ]
  },
  {
   "cell_type": "code",
   "execution_count": 488,
   "id": "3cce9d92-f0dc-45cd-be08-7673776e6b0a",
   "metadata": {
    "tags": []
   },
   "outputs": [],
   "source": [
    "#define function to be minimized (sco only supports minimize, not maximize)\n",
    "#-> maximize sharpe ratio == minimize sharpe ratio * (-1)\n",
    "def min_func_sharpe(weights): \n",
    "     return (rf[0] - port_ret(weights)) / port_vol(weights) #sharpe ratio * (-1)"
   ]
  },
  {
   "cell_type": "markdown",
   "id": "8ede07a7-99a9-4762-a9a2-6e4f9f6bd5be",
   "metadata": {},
   "source": [
    "### Optimization Calculation "
   ]
  },
  {
   "cell_type": "code",
   "execution_count": 489,
   "id": "74eb1b59-b636-4beb-a99d-23c5d44327b1",
   "metadata": {
    "tags": []
   },
   "outputs": [
    {
     "data": {
      "text/plain": [
       "array([0.06666667, 0.06666667, 0.06666667, 0.06666667, 0.06666667,\n",
       "       0.06666667, 0.06666667, 0.06666667, 0.06666667, 0.06666667,\n",
       "       0.06666667, 0.06666667, 0.06666667, 0.06666667, 0.06666667])"
      ]
     },
     "execution_count": 489,
     "metadata": {},
     "output_type": "execute_result"
    }
   ],
   "source": [
    "eweights = np.full(noa , 1/noa)\n",
    "eweights"
   ]
  },
  {
   "cell_type": "code",
   "execution_count": 490,
   "id": "50250ec6-e859-4cd3-8379-33ee4a5dcddc",
   "metadata": {
    "tags": []
   },
   "outputs": [],
   "source": [
    "#constraint: weights must sum up to 1 -> sum of weights - 1 = 0\n",
    "cons = ({\"type\": \"eq\", \"fun\": lambda x: np.sum(x) - 1})"
   ]
  },
  {
   "cell_type": "code",
   "execution_count": 491,
   "id": "fcb163eb-ac95-4c01-bdfb-202d29db636a",
   "metadata": {
    "tags": []
   },
   "outputs": [],
   "source": [
    "#bounds: all weights shall be between 0 and 1 -> can be changed\n",
    "bnds =  tuple((0,1) for x in range(noa))"
   ]
  },
  {
   "cell_type": "code",
   "execution_count": 492,
   "id": "cf092e8f-f580-4f91-955f-f8a02aea03aa",
   "metadata": {
    "tags": []
   },
   "outputs": [
    {
     "data": {
      "text/plain": [
       " message: Optimization terminated successfully\n",
       " success: True\n",
       "  status: 0\n",
       "     fun: -2.2330066210842756\n",
       "       x: [ 3.426e-17  2.031e-16 ...  1.410e-01  1.595e-16]\n",
       "     nit: 14\n",
       "     jac: [-1.204e-01 -2.207e-01 ... -3.827e-01  7.904e-01]\n",
       "    nfev: 236\n",
       "    njev: 14"
      ]
     },
     "execution_count": 492,
     "metadata": {},
     "output_type": "execute_result"
    }
   ],
   "source": [
    "opts = sco.minimize(min_func_sharpe, eweights, method = \"SLSQP\", bounds = bnds, constraints= cons)\n",
    "opts"
   ]
  },
  {
   "cell_type": "code",
   "execution_count": 493,
   "id": "0c65eb0c-23a0-4ffb-a867-aacf8fa95f0d",
   "metadata": {
    "tags": []
   },
   "outputs": [],
   "source": [
    "optimum_weight = result['x']"
   ]
  },
  {
   "cell_type": "code",
   "execution_count": 494,
   "id": "67f9e110-804c-47fe-bc4c-255cb3aab0e6",
   "metadata": {
    "tags": []
   },
   "outputs": [
    {
     "ename": "ValueError",
     "evalue": "Dot product shape mismatch, (1003, 15) vs (14,)",
     "output_type": "error",
     "traceback": [
      "\u001b[0;31m---------------------------------------------------------------------------\u001b[0m",
      "\u001b[0;31mValueError\u001b[0m                                Traceback (most recent call last)",
      "Cell \u001b[0;32mIn[494], line 1\u001b[0m\n\u001b[0;32m----> 1\u001b[0m \u001b[43mport_ret\u001b[49m\u001b[43m(\u001b[49m\u001b[43moptimum_weight\u001b[49m\u001b[43m)\u001b[49m\n",
      "Cell \u001b[0;32mIn[486], line 3\u001b[0m, in \u001b[0;36mport_ret\u001b[0;34m(weights)\u001b[0m\n\u001b[1;32m      2\u001b[0m \u001b[38;5;28;01mdef\u001b[39;00m \u001b[38;5;21mport_ret\u001b[39m(weights):\n\u001b[0;32m----> 3\u001b[0m     \u001b[38;5;28;01mreturn\u001b[39;00m \u001b[43mret\u001b[49m\u001b[38;5;241;43m.\u001b[39;49m\u001b[43mdot\u001b[49m\u001b[43m(\u001b[49m\u001b[43mweights\u001b[49m\u001b[38;5;241;43m.\u001b[39;49m\u001b[43mT\u001b[49m\u001b[43m)\u001b[49m\u001b[38;5;241m.\u001b[39mmean() \u001b[38;5;241m*\u001b[39m \u001b[38;5;241m250\u001b[39m\n",
      "File \u001b[0;32m~/virtualenvs/python_311/lib/python3.11/site-packages/pandas/core/frame.py:1593\u001b[0m, in \u001b[0;36mDataFrame.dot\u001b[0;34m(self, other)\u001b[0m\n\u001b[1;32m   1591\u001b[0m     rvals \u001b[38;5;241m=\u001b[39m np\u001b[38;5;241m.\u001b[39masarray(other)\n\u001b[1;32m   1592\u001b[0m     \u001b[38;5;28;01mif\u001b[39;00m lvals\u001b[38;5;241m.\u001b[39mshape[\u001b[38;5;241m1\u001b[39m] \u001b[38;5;241m!=\u001b[39m rvals\u001b[38;5;241m.\u001b[39mshape[\u001b[38;5;241m0\u001b[39m]:\n\u001b[0;32m-> 1593\u001b[0m         \u001b[38;5;28;01mraise\u001b[39;00m \u001b[38;5;167;01mValueError\u001b[39;00m(\n\u001b[1;32m   1594\u001b[0m             \u001b[38;5;124mf\u001b[39m\u001b[38;5;124m\"\u001b[39m\u001b[38;5;124mDot product shape mismatch, \u001b[39m\u001b[38;5;132;01m{\u001b[39;00mlvals\u001b[38;5;241m.\u001b[39mshape\u001b[38;5;132;01m}\u001b[39;00m\u001b[38;5;124m vs \u001b[39m\u001b[38;5;132;01m{\u001b[39;00mrvals\u001b[38;5;241m.\u001b[39mshape\u001b[38;5;132;01m}\u001b[39;00m\u001b[38;5;124m\"\u001b[39m\n\u001b[1;32m   1595\u001b[0m         )\n\u001b[1;32m   1597\u001b[0m \u001b[38;5;28;01mif\u001b[39;00m \u001b[38;5;28misinstance\u001b[39m(other, DataFrame):\n\u001b[1;32m   1598\u001b[0m     \u001b[38;5;28;01mreturn\u001b[39;00m \u001b[38;5;28mself\u001b[39m\u001b[38;5;241m.\u001b[39m_constructor(\n\u001b[1;32m   1599\u001b[0m         np\u001b[38;5;241m.\u001b[39mdot(lvals, rvals),\n\u001b[1;32m   1600\u001b[0m         index\u001b[38;5;241m=\u001b[39mleft\u001b[38;5;241m.\u001b[39mindex,\n\u001b[1;32m   1601\u001b[0m         columns\u001b[38;5;241m=\u001b[39mother\u001b[38;5;241m.\u001b[39mcolumns,\n\u001b[1;32m   1602\u001b[0m         copy\u001b[38;5;241m=\u001b[39m\u001b[38;5;28;01mFalse\u001b[39;00m,\n\u001b[1;32m   1603\u001b[0m     )\n",
      "\u001b[0;31mValueError\u001b[0m: Dot product shape mismatch, (1003, 15) vs (14,)"
     ]
    }
   ],
   "source": [
    "port_ret(optimum_weight)"
   ]
  },
  {
   "cell_type": "code",
   "execution_count": null,
   "id": "238dd51b-a956-4573-b7c5-af90828680ab",
   "metadata": {
    "tags": []
   },
   "outputs": [],
   "source": [
    "port_vol(optimum_weight)"
   ]
  },
  {
   "cell_type": "code",
   "execution_count": null,
   "id": "9ff24451-b954-42ce-a1fb-602a0c1b688e",
   "metadata": {
    "tags": []
   },
   "outputs": [],
   "source": [
    "-min_func_sharpe(optimum_weight)"
   ]
  },
  {
   "cell_type": "code",
   "execution_count": null,
   "id": "e950eb11-3f9b-4b82-ab17-3086d9dbf605",
   "metadata": {
    "tags": []
   },
   "outputs": [],
   "source": [
    "opt_weight = pd.Series(index = ret.columns, data = optimum_weight)\n",
    "opt_weight"
   ]
  }
 ],
 "metadata": {
  "kernelspec": {
   "display_name": "Python 3 (ipykernel)",
   "language": "python",
   "name": "python3"
  },
  "language_info": {
   "codemirror_mode": {
    "name": "ipython",
    "version": 3
   },
   "file_extension": ".py",
   "mimetype": "text/x-python",
   "name": "python",
   "nbconvert_exporter": "python",
   "pygments_lexer": "ipython3",
   "version": "3.11.3"
  }
 },
 "nbformat": 4,
 "nbformat_minor": 5
}
