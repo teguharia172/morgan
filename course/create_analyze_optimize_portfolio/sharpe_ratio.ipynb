{
 "cells": [
  {
   "cell_type": "markdown",
   "id": "ded149f2-a195-4543-b650-ad47d4327bc6",
   "metadata": {},
   "source": [
    "# Risk Adjusted Performance Metrics (Sharpe Ratio)"
   ]
  },
  {
   "cell_type": "markdown",
   "id": "f1a2e1f2-603f-4d21-b342-8813652db807",
   "metadata": {},
   "source": [
    "## Sharpe Ratio & Risk Free Asset Definition"
   ]
  },
  {
   "cell_type": "markdown",
   "id": "7f0e9616-f7b5-4aa0-a7fa-da37656f2e3a",
   "metadata": {},
   "source": [
    "$$\n",
    "SharpeRatio = \\frac{PortReturn - RFR}{PortRisk} \n",
    "$$"
   ]
  },
  {
   "cell_type": "markdown",
   "id": "cc8ec4dc-bf1b-4f6d-8e26-fb2818c2b51e",
   "metadata": {},
   "source": [
    "- RFR : As an approximation usually used the annual yield of government issued bond"
   ]
  },
  {
   "cell_type": "code",
   "execution_count": 24,
   "id": "62b86668-0c90-4a46-913f-c83c0dae8867",
   "metadata": {
    "tags": []
   },
   "outputs": [],
   "source": [
    "risk_free_return = 0.0635 #indonesia 5 years gov bond coupon rate \n",
    "risk_free_rate = 0 # as government bond will almost never default this is the 0 is always the risk free rate \n",
    "rf = [risk_free_return, risk_free_rate]"
   ]
  },
  {
   "cell_type": "code",
   "execution_count": 25,
   "id": "29ba3a19-4f61-4aad-83f7-538735dd0f27",
   "metadata": {
    "tags": []
   },
   "outputs": [],
   "source": [
    "import pandas as pd \n",
    "import numpy as np \n",
    "import yfinance \n",
    "from pandas_datareader import data as wb\n",
    "import matplotlib.pyplot as plt\n",
    "import warnings \n",
    "warnings.filterwarnings('ignore')\n",
    "yfinance.pdr_override()\n",
    "plt.style.use('fivethirtyeight')"
   ]
  },
  {
   "cell_type": "code",
   "execution_count": 26,
   "id": "072725f4-a56e-47c0-91f5-b784378ad743",
   "metadata": {
    "tags": []
   },
   "outputs": [
    {
     "name": "stdout",
     "output_type": "stream",
     "text": [
      "[*********************100%***********************]  1 of 1 completed\n",
      "[*********************100%***********************]  1 of 1 completed\n",
      "[*********************100%***********************]  1 of 1 completed\n",
      "[*********************100%***********************]  1 of 1 completed\n",
      "[*********************100%***********************]  1 of 1 completed\n",
      "[*********************100%***********************]  1 of 1 completed\n",
      "[*********************100%***********************]  1 of 1 completed\n",
      "[*********************100%***********************]  1 of 1 completed\n",
      "[*********************100%***********************]  1 of 1 completed\n",
      "[*********************100%***********************]  1 of 1 completed\n",
      "[*********************100%***********************]  1 of 1 completed\n",
      "[*********************100%***********************]  1 of 1 completed\n",
      "[*********************100%***********************]  1 of 1 completed\n",
      "[*********************100%***********************]  1 of 1 completed\n",
      "[*********************100%***********************]  1 of 1 completed\n",
      "[*********************100%***********************]  1 of 1 completed\n"
     ]
    }
   ],
   "source": [
    "port = pd.DataFrame()\n",
    "tickers = ['ITMG.jk', 'MEDC.jk', 'ADRO.jk', 'AMRT.jk', 'MPMX.jk', 'APIC.jk', 'HEXA.jk', 'MFIN.jk', 'UNTR.jk', 'MBAP.jk', 'BYAN.jk', 'MTDL.jk', 'BSSR.jk','ADMF.jk','INCO.jk','ARNA.jk']\n",
    "for ticker in tickers:\n",
    "    port[ticker] = wb.get_data_yahoo(ticker, start = '2018-04-01', end = '2023-03-31')['Adj Close']"
   ]
  },
  {
   "cell_type": "markdown",
   "id": "0434aba0-3c41-49c8-9c0b-b5de781d6fa9",
   "metadata": {},
   "source": [
    "## Portfolio Analysis With Sharpe Ratio"
   ]
  },
  {
   "cell_type": "markdown",
   "id": "740fdd9d-04ba-45b8-9210-c0a57dd57956",
   "metadata": {},
   "source": [
    "### Recreating 100K Random Portfolios"
   ]
  },
  {
   "cell_type": "code",
   "execution_count": 27,
   "id": "2eff6b21-e402-4955-a8ae-e674ca2ceabd",
   "metadata": {
    "tags": []
   },
   "outputs": [],
   "source": [
    "def annual_return(return_df) : \n",
    "    summary = return_df.agg(['mean', 'std']).T\n",
    "    summary.columns = ['return', 'risk']\n",
    "    summary['return'] = summary['return'] * 250\n",
    "    summary['risk'] = summary['risk'] * 250**0.5\n",
    "    return summary\n",
    "\n",
    "ret = port.pct_change().dropna()\n",
    "annual_ret = annual_return(ret)"
   ]
  },
  {
   "cell_type": "code",
   "execution_count": 28,
   "id": "777c0f32-5436-4fb8-a089-710f6e79c889",
   "metadata": {
    "tags": []
   },
   "outputs": [
    {
     "data": {
      "text/html": [
       "<div>\n",
       "<style scoped>\n",
       "    .dataframe tbody tr th:only-of-type {\n",
       "        vertical-align: middle;\n",
       "    }\n",
       "\n",
       "    .dataframe tbody tr th {\n",
       "        vertical-align: top;\n",
       "    }\n",
       "\n",
       "    .dataframe thead th {\n",
       "        text-align: right;\n",
       "    }\n",
       "</style>\n",
       "<table border=\"1\" class=\"dataframe\">\n",
       "  <thead>\n",
       "    <tr style=\"text-align: right;\">\n",
       "      <th></th>\n",
       "      <th>return</th>\n",
       "      <th>risk</th>\n",
       "    </tr>\n",
       "  </thead>\n",
       "  <tbody>\n",
       "    <tr>\n",
       "      <th>0</th>\n",
       "      <td>0.323060</td>\n",
       "      <td>0.173773</td>\n",
       "    </tr>\n",
       "    <tr>\n",
       "      <th>1</th>\n",
       "      <td>0.294160</td>\n",
       "      <td>0.162821</td>\n",
       "    </tr>\n",
       "    <tr>\n",
       "      <th>2</th>\n",
       "      <td>0.301314</td>\n",
       "      <td>0.173373</td>\n",
       "    </tr>\n",
       "    <tr>\n",
       "      <th>3</th>\n",
       "      <td>0.341502</td>\n",
       "      <td>0.173323</td>\n",
       "    </tr>\n",
       "    <tr>\n",
       "      <th>4</th>\n",
       "      <td>0.285041</td>\n",
       "      <td>0.195410</td>\n",
       "    </tr>\n",
       "    <tr>\n",
       "      <th>...</th>\n",
       "      <td>...</td>\n",
       "      <td>...</td>\n",
       "    </tr>\n",
       "    <tr>\n",
       "      <th>99995</th>\n",
       "      <td>0.303462</td>\n",
       "      <td>0.217263</td>\n",
       "    </tr>\n",
       "    <tr>\n",
       "      <th>99996</th>\n",
       "      <td>0.262693</td>\n",
       "      <td>0.182620</td>\n",
       "    </tr>\n",
       "    <tr>\n",
       "      <th>99997</th>\n",
       "      <td>0.299112</td>\n",
       "      <td>0.190763</td>\n",
       "    </tr>\n",
       "    <tr>\n",
       "      <th>99998</th>\n",
       "      <td>0.315449</td>\n",
       "      <td>0.205607</td>\n",
       "    </tr>\n",
       "    <tr>\n",
       "      <th>99999</th>\n",
       "      <td>0.273985</td>\n",
       "      <td>0.211189</td>\n",
       "    </tr>\n",
       "  </tbody>\n",
       "</table>\n",
       "<p>100000 rows × 2 columns</p>\n",
       "</div>"
      ],
      "text/plain": [
       "         return      risk\n",
       "0      0.323060  0.173773\n",
       "1      0.294160  0.162821\n",
       "2      0.301314  0.173373\n",
       "3      0.341502  0.173323\n",
       "4      0.285041  0.195410\n",
       "...         ...       ...\n",
       "99995  0.303462  0.217263\n",
       "99996  0.262693  0.182620\n",
       "99997  0.299112  0.190763\n",
       "99998  0.315449  0.205607\n",
       "99999  0.273985  0.211189\n",
       "\n",
       "[100000 rows x 2 columns]"
      ]
     },
     "execution_count": 28,
     "metadata": {},
     "output_type": "execute_result"
    }
   ],
   "source": [
    "port_amount = len(port.columns)\n",
    "nop = 100_000\n",
    "\n",
    "np.random.seed(123) #just to make sure it consistenly generated random number\n",
    "matrix = np.random.random(port_amount * nop).reshape(nop,port_amount)\n",
    "norm_port = matrix / matrix.sum(axis = 1, keepdims = True)\n",
    "\n",
    "port_ret = ret.dot(norm_port.T)\n",
    "summary = annual_return(port_ret)\n",
    "\n",
    "summary"
   ]
  },
  {
   "cell_type": "markdown",
   "id": "bf3d289e-89c1-4b07-b2a0-96a4db67d4fb",
   "metadata": {},
   "source": [
    "### Caclulating Sharpe Ratio"
   ]
  },
  {
   "cell_type": "code",
   "execution_count": 32,
   "id": "9f09dda4-c1ee-43a4-ae49-02749c36d689",
   "metadata": {
    "tags": []
   },
   "outputs": [
    {
     "data": {
      "text/html": [
       "<div>\n",
       "<style scoped>\n",
       "    .dataframe tbody tr th:only-of-type {\n",
       "        vertical-align: middle;\n",
       "    }\n",
       "\n",
       "    .dataframe tbody tr th {\n",
       "        vertical-align: top;\n",
       "    }\n",
       "\n",
       "    .dataframe thead th {\n",
       "        text-align: right;\n",
       "    }\n",
       "</style>\n",
       "<table border=\"1\" class=\"dataframe\">\n",
       "  <thead>\n",
       "    <tr style=\"text-align: right;\">\n",
       "      <th></th>\n",
       "      <th>return</th>\n",
       "      <th>risk</th>\n",
       "      <th>sharpe</th>\n",
       "    </tr>\n",
       "  </thead>\n",
       "  <tbody>\n",
       "    <tr>\n",
       "      <th>BYAN.jk</th>\n",
       "      <td>0.796599</td>\n",
       "      <td>0.518369</td>\n",
       "      <td>1.414242</td>\n",
       "    </tr>\n",
       "    <tr>\n",
       "      <th>ARNA.jk</th>\n",
       "      <td>0.323322</td>\n",
       "      <td>0.279515</td>\n",
       "      <td>0.929544</td>\n",
       "    </tr>\n",
       "    <tr>\n",
       "      <th>AMRT.jk</th>\n",
       "      <td>0.419133</td>\n",
       "      <td>0.427828</td>\n",
       "      <td>0.831252</td>\n",
       "    </tr>\n",
       "    <tr>\n",
       "      <th>HEXA.jk</th>\n",
       "      <td>0.328193</td>\n",
       "      <td>0.331509</td>\n",
       "      <td>0.798448</td>\n",
       "    </tr>\n",
       "    <tr>\n",
       "      <th>MBAP.jk</th>\n",
       "      <td>0.346407</td>\n",
       "      <td>0.384378</td>\n",
       "      <td>0.736012</td>\n",
       "    </tr>\n",
       "    <tr>\n",
       "      <th>MTDL.jk</th>\n",
       "      <td>0.367132</td>\n",
       "      <td>0.433384</td>\n",
       "      <td>0.700608</td>\n",
       "    </tr>\n",
       "    <tr>\n",
       "      <th>MPMX.jk</th>\n",
       "      <td>0.356179</td>\n",
       "      <td>0.445415</td>\n",
       "      <td>0.657093</td>\n",
       "    </tr>\n",
       "    <tr>\n",
       "      <th>BSSR.jk</th>\n",
       "      <td>0.406111</td>\n",
       "      <td>0.523921</td>\n",
       "      <td>0.653936</td>\n",
       "    </tr>\n",
       "    <tr>\n",
       "      <th>APIC.jk</th>\n",
       "      <td>0.202286</td>\n",
       "      <td>0.248486</td>\n",
       "      <td>0.558528</td>\n",
       "    </tr>\n",
       "    <tr>\n",
       "      <th>MFIN.jk</th>\n",
       "      <td>0.248591</td>\n",
       "      <td>0.359311</td>\n",
       "      <td>0.515126</td>\n",
       "    </tr>\n",
       "    <tr>\n",
       "      <th>ITMG.jk</th>\n",
       "      <td>0.291980</td>\n",
       "      <td>0.443643</td>\n",
       "      <td>0.515008</td>\n",
       "    </tr>\n",
       "    <tr>\n",
       "      <th>INCO.jk</th>\n",
       "      <td>0.282378</td>\n",
       "      <td>0.478119</td>\n",
       "      <td>0.457789</td>\n",
       "    </tr>\n",
       "    <tr>\n",
       "      <th>ADRO.jk</th>\n",
       "      <td>0.256508</td>\n",
       "      <td>0.470862</td>\n",
       "      <td>0.409903</td>\n",
       "    </tr>\n",
       "    <tr>\n",
       "      <th>ADMF.jk</th>\n",
       "      <td>0.136821</td>\n",
       "      <td>0.197310</td>\n",
       "      <td>0.371603</td>\n",
       "    </tr>\n",
       "    <tr>\n",
       "      <th>MEDC.jk</th>\n",
       "      <td>0.150568</td>\n",
       "      <td>0.552376</td>\n",
       "      <td>0.157624</td>\n",
       "    </tr>\n",
       "    <tr>\n",
       "      <th>UNTR.jk</th>\n",
       "      <td>0.101138</td>\n",
       "      <td>0.395858</td>\n",
       "      <td>0.095081</td>\n",
       "    </tr>\n",
       "  </tbody>\n",
       "</table>\n",
       "</div>"
      ],
      "text/plain": [
       "           return      risk    sharpe\n",
       "BYAN.jk  0.796599  0.518369  1.414242\n",
       "ARNA.jk  0.323322  0.279515  0.929544\n",
       "AMRT.jk  0.419133  0.427828  0.831252\n",
       "HEXA.jk  0.328193  0.331509  0.798448\n",
       "MBAP.jk  0.346407  0.384378  0.736012\n",
       "MTDL.jk  0.367132  0.433384  0.700608\n",
       "MPMX.jk  0.356179  0.445415  0.657093\n",
       "BSSR.jk  0.406111  0.523921  0.653936\n",
       "APIC.jk  0.202286  0.248486  0.558528\n",
       "MFIN.jk  0.248591  0.359311  0.515126\n",
       "ITMG.jk  0.291980  0.443643  0.515008\n",
       "INCO.jk  0.282378  0.478119  0.457789\n",
       "ADRO.jk  0.256508  0.470862  0.409903\n",
       "ADMF.jk  0.136821  0.197310  0.371603\n",
       "MEDC.jk  0.150568  0.552376  0.157624\n",
       "UNTR.jk  0.101138  0.395858  0.095081"
      ]
     },
     "execution_count": 32,
     "metadata": {},
     "output_type": "execute_result"
    }
   ],
   "source": [
    "annual_ret['sharpe'] = (annual_ret['return'].sub(rf[0])) / annual_ret['risk']\n",
    "annual_ret.sort_values('sharpe', ascending = False)"
   ]
  },
  {
   "cell_type": "code",
   "execution_count": 30,
   "id": "3282bc14-0b19-4a45-b29a-630a7d3a8259",
   "metadata": {
    "tags": []
   },
   "outputs": [
    {
     "data": {
      "text/html": [
       "<div>\n",
       "<style scoped>\n",
       "    .dataframe tbody tr th:only-of-type {\n",
       "        vertical-align: middle;\n",
       "    }\n",
       "\n",
       "    .dataframe tbody tr th {\n",
       "        vertical-align: top;\n",
       "    }\n",
       "\n",
       "    .dataframe thead th {\n",
       "        text-align: right;\n",
       "    }\n",
       "</style>\n",
       "<table border=\"1\" class=\"dataframe\">\n",
       "  <thead>\n",
       "    <tr style=\"text-align: right;\">\n",
       "      <th></th>\n",
       "      <th>return</th>\n",
       "      <th>risk</th>\n",
       "      <th>sharpe</th>\n",
       "    </tr>\n",
       "  </thead>\n",
       "  <tbody>\n",
       "    <tr>\n",
       "      <th>0</th>\n",
       "      <td>0.323060</td>\n",
       "      <td>0.173773</td>\n",
       "      <td>1.493673</td>\n",
       "    </tr>\n",
       "    <tr>\n",
       "      <th>1</th>\n",
       "      <td>0.294160</td>\n",
       "      <td>0.162821</td>\n",
       "      <td>1.416647</td>\n",
       "    </tr>\n",
       "    <tr>\n",
       "      <th>2</th>\n",
       "      <td>0.301314</td>\n",
       "      <td>0.173373</td>\n",
       "      <td>1.371690</td>\n",
       "    </tr>\n",
       "    <tr>\n",
       "      <th>3</th>\n",
       "      <td>0.341502</td>\n",
       "      <td>0.173323</td>\n",
       "      <td>1.603958</td>\n",
       "    </tr>\n",
       "    <tr>\n",
       "      <th>4</th>\n",
       "      <td>0.285041</td>\n",
       "      <td>0.195410</td>\n",
       "      <td>1.133725</td>\n",
       "    </tr>\n",
       "    <tr>\n",
       "      <th>...</th>\n",
       "      <td>...</td>\n",
       "      <td>...</td>\n",
       "      <td>...</td>\n",
       "    </tr>\n",
       "    <tr>\n",
       "      <th>99995</th>\n",
       "      <td>0.303462</td>\n",
       "      <td>0.217263</td>\n",
       "      <td>1.104477</td>\n",
       "    </tr>\n",
       "    <tr>\n",
       "      <th>99996</th>\n",
       "      <td>0.262693</td>\n",
       "      <td>0.182620</td>\n",
       "      <td>1.090751</td>\n",
       "    </tr>\n",
       "    <tr>\n",
       "      <th>99997</th>\n",
       "      <td>0.299112</td>\n",
       "      <td>0.190763</td>\n",
       "      <td>1.235104</td>\n",
       "    </tr>\n",
       "    <tr>\n",
       "      <th>99998</th>\n",
       "      <td>0.315449</td>\n",
       "      <td>0.205607</td>\n",
       "      <td>1.225391</td>\n",
       "    </tr>\n",
       "    <tr>\n",
       "      <th>99999</th>\n",
       "      <td>0.273985</td>\n",
       "      <td>0.211189</td>\n",
       "      <td>0.996667</td>\n",
       "    </tr>\n",
       "  </tbody>\n",
       "</table>\n",
       "<p>100000 rows × 3 columns</p>\n",
       "</div>"
      ],
      "text/plain": [
       "         return      risk    sharpe\n",
       "0      0.323060  0.173773  1.493673\n",
       "1      0.294160  0.162821  1.416647\n",
       "2      0.301314  0.173373  1.371690\n",
       "3      0.341502  0.173323  1.603958\n",
       "4      0.285041  0.195410  1.133725\n",
       "...         ...       ...       ...\n",
       "99995  0.303462  0.217263  1.104477\n",
       "99996  0.262693  0.182620  1.090751\n",
       "99997  0.299112  0.190763  1.235104\n",
       "99998  0.315449  0.205607  1.225391\n",
       "99999  0.273985  0.211189  0.996667\n",
       "\n",
       "[100000 rows x 3 columns]"
      ]
     },
     "execution_count": 30,
     "metadata": {},
     "output_type": "execute_result"
    }
   ],
   "source": [
    "summary['sharpe']= (summary['return'].sub(rf[0]))/summary['risk']\n",
    "summary"
   ]
  },
  {
   "cell_type": "code",
   "execution_count": 33,
   "id": "5d993aea-2158-42b2-b16f-b8a83e279e4a",
   "metadata": {
    "tags": []
   },
   "outputs": [
    {
     "data": {
      "text/html": [
       "<div>\n",
       "<style scoped>\n",
       "    .dataframe tbody tr th:only-of-type {\n",
       "        vertical-align: middle;\n",
       "    }\n",
       "\n",
       "    .dataframe tbody tr th {\n",
       "        vertical-align: top;\n",
       "    }\n",
       "\n",
       "    .dataframe thead th {\n",
       "        text-align: right;\n",
       "    }\n",
       "</style>\n",
       "<table border=\"1\" class=\"dataframe\">\n",
       "  <thead>\n",
       "    <tr style=\"text-align: right;\">\n",
       "      <th></th>\n",
       "      <th>return</th>\n",
       "      <th>risk</th>\n",
       "      <th>sharpe</th>\n",
       "    </tr>\n",
       "  </thead>\n",
       "  <tbody>\n",
       "    <tr>\n",
       "      <th>count</th>\n",
       "      <td>100000.000000</td>\n",
       "      <td>100000.000000</td>\n",
       "      <td>100000.000000</td>\n",
       "    </tr>\n",
       "    <tr>\n",
       "      <th>mean</th>\n",
       "      <td>0.313451</td>\n",
       "      <td>0.187890</td>\n",
       "      <td>1.339084</td>\n",
       "    </tr>\n",
       "    <tr>\n",
       "      <th>std</th>\n",
       "      <td>0.023143</td>\n",
       "      <td>0.013266</td>\n",
       "      <td>0.172523</td>\n",
       "    </tr>\n",
       "    <tr>\n",
       "      <th>min</th>\n",
       "      <td>0.223812</td>\n",
       "      <td>0.145142</td>\n",
       "      <td>0.750564</td>\n",
       "    </tr>\n",
       "    <tr>\n",
       "      <th>25%</th>\n",
       "      <td>0.296775</td>\n",
       "      <td>0.178603</td>\n",
       "      <td>1.217500</td>\n",
       "    </tr>\n",
       "    <tr>\n",
       "      <th>50%</th>\n",
       "      <td>0.313516</td>\n",
       "      <td>0.187202</td>\n",
       "      <td>1.336468</td>\n",
       "    </tr>\n",
       "    <tr>\n",
       "      <th>75%</th>\n",
       "      <td>0.329706</td>\n",
       "      <td>0.196418</td>\n",
       "      <td>1.457019</td>\n",
       "    </tr>\n",
       "    <tr>\n",
       "      <th>max</th>\n",
       "      <td>0.438796</td>\n",
       "      <td>0.264566</td>\n",
       "      <td>2.072441</td>\n",
       "    </tr>\n",
       "  </tbody>\n",
       "</table>\n",
       "</div>"
      ],
      "text/plain": [
       "              return           risk         sharpe\n",
       "count  100000.000000  100000.000000  100000.000000\n",
       "mean        0.313451       0.187890       1.339084\n",
       "std         0.023143       0.013266       0.172523\n",
       "min         0.223812       0.145142       0.750564\n",
       "25%         0.296775       0.178603       1.217500\n",
       "50%         0.313516       0.187202       1.336468\n",
       "75%         0.329706       0.196418       1.457019\n",
       "max         0.438796       0.264566       2.072441"
      ]
     },
     "execution_count": 33,
     "metadata": {},
     "output_type": "execute_result"
    }
   ],
   "source": [
    "summary.describe()"
   ]
  },
  {
   "cell_type": "markdown",
   "id": "69e54173-f608-4737-b5d8-b5a49d0229a3",
   "metadata": {},
   "source": [
    " ### Visualizing Sharpe Ratio"
   ]
  },
  {
   "cell_type": "code",
   "execution_count": 42,
   "id": "851ead0f-01d7-4e10-9610-1d02a3d7e303",
   "metadata": {
    "tags": []
   },
   "outputs": [
    {
     "data": {
      "image/png": "[encoded data removed]",
      "text/plain": [
       "<Figure size 1500x900 with 2 Axes>"
      ]
     },
     "metadata": {},
     "output_type": "display_data"
    }
   ],
   "source": [
    "plt.figure(figsize = (15,9))\n",
    "plt.scatter(summary.loc[:, \"risk\"], summary.loc[:, \"return\"], s = 30,\n",
    "            c =summary.loc[:,'sharpe'],cmap ='coolwarm', vmin = 0.76, vmax = 1.7, alpha = 0.7)\n",
    "plt.colorbar()\n",
    "plt.scatter(annual_ret.loc[:, \"risk\"], annual_ret.loc[:, \"return\"], s = 40, marker = \"D\",\n",
    "            c =annual_ret.loc[:,'sharpe'],cmap ='coolwarm', vmin = 0.76, vmax = 1.7, alpha = 0.7)\n",
    "for i in annual_ret.index:\n",
    "    plt.annotate(i, xy = ((annual_ret.loc[i, 'risk'] + 0.002, annual_ret.loc[i, 'return'] + 0.002)), size = 7)\n",
    "plt.xlabel('ann. Risk(std)', fontsize = 13)\n",
    "plt.ylabel('ann. Return(mean)', fontsize = 13)\n",
    "plt.show()"
   ]
  },
  {
   "cell_type": "code",
   "execution_count": null,
   "id": "3be4d95d-4463-464e-9b58-662da2ad5fbb",
   "metadata": {},
   "outputs": [],
   "source": []
  }
 ],
 "metadata": {
  "kernelspec": {
   "display_name": "Python 3 (ipykernel)",
   "language": "python",
   "name": "python3"
  },
  "language_info": {
   "codemirror_mode": {
    "name": "ipython",
    "version": 3
   },
   "file_extension": ".py",
   "mimetype": "text/x-python",
   "name": "python",
   "nbconvert_exporter": "python",
   "pygments_lexer": "ipython3",
   "version": "3.11.3"
  }
 },
 "nbformat": 4,
 "nbformat_minor": 5
}
