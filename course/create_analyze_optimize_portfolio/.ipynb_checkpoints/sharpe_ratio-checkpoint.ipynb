{
 "cells": [
  {
   "cell_type": "markdown",
   "id": "ded149f2-a195-4543-b650-ad47d4327bc6",
   "metadata": {},
   "source": [
    "# Risk Adjusted Performance Metrics (Sharpe Ratio)"
   ]
  },
  {
   "cell_type": "markdown",
   "id": "f1a2e1f2-603f-4d21-b342-8813652db807",
   "metadata": {},
   "source": [
    "## Sharpe Ratio & Risk Free Asset Definition"
   ]
  },
  {
   "cell_type": "markdown",
   "id": "7f0e9616-f7b5-4aa0-a7fa-da37656f2e3a",
   "metadata": {},
   "source": [
    "$$\n",
    "SharpeRatio = \\frac{PortReturn - RFR}{PortRisk} \n",
    "$$"
   ]
  },
  {
   "cell_type": "markdown",
   "id": "cc8ec4dc-bf1b-4f6d-8e26-fb2818c2b51e",
   "metadata": {},
   "source": [
    "- RFR : As an approximation usually used the annual yield of government issued bond"
   ]
  },
  {
   "cell_type": "code",
   "execution_count": 245,
   "id": "62b86668-0c90-4a46-913f-c83c0dae8867",
   "metadata": {
    "tags": []
   },
   "outputs": [],
   "source": [
    "risk_free_return = 0.0635 #indonesia 5 years gov bond coupon rate \n",
    "risk_free_rate = 0 # as government bond will almost never default this is the 0 is always the risk free rate \n",
    "rf = [risk_free_return, risk_free_rate]"
   ]
  },
  {
   "cell_type": "code",
   "execution_count": 246,
   "id": "29ba3a19-4f61-4aad-83f7-538735dd0f27",
   "metadata": {
    "tags": []
   },
   "outputs": [],
   "source": [
    "import pandas as pd \n",
    "import numpy as np \n",
    "import yfinance \n",
    "from pandas_datareader import data as wb\n",
    "import matplotlib.pyplot as plt\n",
    "import warnings \n",
    "warnings.filterwarnings('ignore')\n",
    "yfinance.pdr_override()\n",
    "plt.style.use('fivethirtyeight')"
   ]
  },
  {
   "cell_type": "code",
   "execution_count": 247,
   "id": "072725f4-a56e-47c0-91f5-b784378ad743",
   "metadata": {
    "tags": []
   },
   "outputs": [
    {
     "name": "stdout",
     "output_type": "stream",
     "text": [
      "[*********************100%***********************]  1 of 1 completed\n",
      "[*********************100%***********************]  1 of 1 completed\n",
      "[*********************100%***********************]  1 of 1 completed\n",
      "[*********************100%***********************]  1 of 1 completed\n",
      "[*********************100%***********************]  1 of 1 completed\n",
      "[*********************100%***********************]  1 of 1 completed\n",
      "[*********************100%***********************]  1 of 1 completed\n",
      "[*********************100%***********************]  1 of 1 completed\n",
      "[*********************100%***********************]  1 of 1 completed\n",
      "[*********************100%***********************]  1 of 1 completed\n",
      "[*********************100%***********************]  1 of 1 completed\n",
      "[*********************100%***********************]  1 of 1 completed\n",
      "[*********************100%***********************]  1 of 1 completed\n",
      "[*********************100%***********************]  1 of 1 completed\n",
      "[*********************100%***********************]  1 of 1 completed\n"
     ]
    }
   ],
   "source": [
    "port = pd.DataFrame()\n",
    "tickers = ['ITMG.jk', 'ADRO.jk', 'AMRT.jk', 'MPMX.jk', 'APIC.jk', 'HEXA.jk', 'MFIN.jk', 'UNTR.jk', 'MBAP.jk', 'BYAN.jk', 'MTDL.jk', 'BSSR.jk','ADMF.jk','INCO.jk','ARNA.jk']\n",
    "# tickers = ['ANTM.jk', 'ASII.jk', 'BBCA.jk', 'BBRI.jk', 'BMRI.jk', 'ICBP.jk', 'JSMR.jk', 'MEDC.jk', 'PGAS.jk', 'PTBA.jk', 'PTPP.jk', 'PWON.jk', 'SMRA.jk','TLKM.jk', 'UNVR.jk', 'WSKT.jk']\n",
    "for ticker in tickers:\n",
    "    port[ticker] = wb.get_data_yahoo(ticker, start = '2018-04-01', end = '2023-03-31')['Adj Close']"
   ]
  },
  {
   "cell_type": "markdown",
   "id": "0434aba0-3c41-49c8-9c0b-b5de781d6fa9",
   "metadata": {},
   "source": [
    "## Portfolio Analysis With Sharpe Ratio"
   ]
  },
  {
   "cell_type": "markdown",
   "id": "740fdd9d-04ba-45b8-9210-c0a57dd57956",
   "metadata": {},
   "source": [
    "### Recreating 100K Random Portfolios"
   ]
  },
  {
   "cell_type": "code",
   "execution_count": 248,
   "id": "2eff6b21-e402-4955-a8ae-e674ca2ceabd",
   "metadata": {
    "tags": []
   },
   "outputs": [],
   "source": [
    "def annual_return(return_df) : \n",
    "    summary = return_df.agg(['mean', 'std']).T\n",
    "    summary.columns = ['return', 'risk']\n",
    "    summary['return'] = summary['return'] * 250\n",
    "    summary['risk'] = summary['risk'] * 250**0.5\n",
    "    return summary\n",
    "\n",
    "ret = port.pct_change().dropna()\n",
    "annual_ret = annual_return(ret)"
   ]
  },
  {
   "cell_type": "code",
   "execution_count": 249,
   "id": "21e9669d-041b-427b-a077-0685db8d1783",
   "metadata": {
    "tags": []
   },
   "outputs": [
    {
     "data": {
      "text/html": [
       "<div>\n",
       "<style scoped>\n",
       "    .dataframe tbody tr th:only-of-type {\n",
       "        vertical-align: middle;\n",
       "    }\n",
       "\n",
       "    .dataframe tbody tr th {\n",
       "        vertical-align: top;\n",
       "    }\n",
       "\n",
       "    .dataframe thead th {\n",
       "        text-align: right;\n",
       "    }\n",
       "</style>\n",
       "<table border=\"1\" class=\"dataframe\">\n",
       "  <thead>\n",
       "    <tr style=\"text-align: right;\">\n",
       "      <th></th>\n",
       "      <th>return</th>\n",
       "      <th>risk</th>\n",
       "    </tr>\n",
       "  </thead>\n",
       "  <tbody>\n",
       "    <tr>\n",
       "      <th>ITMG.jk</th>\n",
       "      <td>0.291980</td>\n",
       "      <td>0.443643</td>\n",
       "    </tr>\n",
       "    <tr>\n",
       "      <th>ADRO.jk</th>\n",
       "      <td>0.256508</td>\n",
       "      <td>0.470862</td>\n",
       "    </tr>\n",
       "    <tr>\n",
       "      <th>AMRT.jk</th>\n",
       "      <td>0.419133</td>\n",
       "      <td>0.427828</td>\n",
       "    </tr>\n",
       "    <tr>\n",
       "      <th>MPMX.jk</th>\n",
       "      <td>0.356179</td>\n",
       "      <td>0.445415</td>\n",
       "    </tr>\n",
       "    <tr>\n",
       "      <th>APIC.jk</th>\n",
       "      <td>0.202286</td>\n",
       "      <td>0.248486</td>\n",
       "    </tr>\n",
       "    <tr>\n",
       "      <th>HEXA.jk</th>\n",
       "      <td>0.328193</td>\n",
       "      <td>0.331509</td>\n",
       "    </tr>\n",
       "    <tr>\n",
       "      <th>MFIN.jk</th>\n",
       "      <td>0.248591</td>\n",
       "      <td>0.359311</td>\n",
       "    </tr>\n",
       "    <tr>\n",
       "      <th>UNTR.jk</th>\n",
       "      <td>0.101138</td>\n",
       "      <td>0.395858</td>\n",
       "    </tr>\n",
       "    <tr>\n",
       "      <th>MBAP.jk</th>\n",
       "      <td>0.346407</td>\n",
       "      <td>0.384377</td>\n",
       "    </tr>\n",
       "    <tr>\n",
       "      <th>BYAN.jk</th>\n",
       "      <td>0.796599</td>\n",
       "      <td>0.518369</td>\n",
       "    </tr>\n",
       "    <tr>\n",
       "      <th>MTDL.jk</th>\n",
       "      <td>0.367132</td>\n",
       "      <td>0.433384</td>\n",
       "    </tr>\n",
       "    <tr>\n",
       "      <th>BSSR.jk</th>\n",
       "      <td>0.406111</td>\n",
       "      <td>0.523921</td>\n",
       "    </tr>\n",
       "    <tr>\n",
       "      <th>ADMF.jk</th>\n",
       "      <td>0.136821</td>\n",
       "      <td>0.197310</td>\n",
       "    </tr>\n",
       "    <tr>\n",
       "      <th>INCO.jk</th>\n",
       "      <td>0.282378</td>\n",
       "      <td>0.478119</td>\n",
       "    </tr>\n",
       "    <tr>\n",
       "      <th>ARNA.jk</th>\n",
       "      <td>0.323322</td>\n",
       "      <td>0.279515</td>\n",
       "    </tr>\n",
       "  </tbody>\n",
       "</table>\n",
       "</div>"
      ],
      "text/plain": [
       "           return      risk\n",
       "ITMG.jk  0.291980  0.443643\n",
       "ADRO.jk  0.256508  0.470862\n",
       "AMRT.jk  0.419133  0.427828\n",
       "MPMX.jk  0.356179  0.445415\n",
       "APIC.jk  0.202286  0.248486\n",
       "HEXA.jk  0.328193  0.331509\n",
       "MFIN.jk  0.248591  0.359311\n",
       "UNTR.jk  0.101138  0.395858\n",
       "MBAP.jk  0.346407  0.384377\n",
       "BYAN.jk  0.796599  0.518369\n",
       "MTDL.jk  0.367132  0.433384\n",
       "BSSR.jk  0.406111  0.523921\n",
       "ADMF.jk  0.136821  0.197310\n",
       "INCO.jk  0.282378  0.478119\n",
       "ARNA.jk  0.323322  0.279515"
      ]
     },
     "execution_count": 249,
     "metadata": {},
     "output_type": "execute_result"
    }
   ],
   "source": [
    "annual_ret"
   ]
  },
  {
   "cell_type": "code",
   "execution_count": 250,
   "id": "777c0f32-5436-4fb8-a089-710f6e79c889",
   "metadata": {
    "tags": []
   },
   "outputs": [
    {
     "data": {
      "text/html": [
       "<div>\n",
       "<style scoped>\n",
       "    .dataframe tbody tr th:only-of-type {\n",
       "        vertical-align: middle;\n",
       "    }\n",
       "\n",
       "    .dataframe tbody tr th {\n",
       "        vertical-align: top;\n",
       "    }\n",
       "\n",
       "    .dataframe thead th {\n",
       "        text-align: right;\n",
       "    }\n",
       "</style>\n",
       "<table border=\"1\" class=\"dataframe\">\n",
       "  <thead>\n",
       "    <tr style=\"text-align: right;\">\n",
       "      <th></th>\n",
       "      <th>return</th>\n",
       "      <th>risk</th>\n",
       "    </tr>\n",
       "  </thead>\n",
       "  <tbody>\n",
       "    <tr>\n",
       "      <th>0</th>\n",
       "      <td>0.306625</td>\n",
       "      <td>0.171298</td>\n",
       "    </tr>\n",
       "    <tr>\n",
       "      <th>1</th>\n",
       "      <td>0.331116</td>\n",
       "      <td>0.170531</td>\n",
       "    </tr>\n",
       "    <tr>\n",
       "      <th>2</th>\n",
       "      <td>0.318565</td>\n",
       "      <td>0.172066</td>\n",
       "    </tr>\n",
       "    <tr>\n",
       "      <th>3</th>\n",
       "      <td>0.306210</td>\n",
       "      <td>0.172008</td>\n",
       "    </tr>\n",
       "    <tr>\n",
       "      <th>4</th>\n",
       "      <td>0.325355</td>\n",
       "      <td>0.184301</td>\n",
       "    </tr>\n",
       "    <tr>\n",
       "      <th>...</th>\n",
       "      <td>...</td>\n",
       "      <td>...</td>\n",
       "    </tr>\n",
       "    <tr>\n",
       "      <th>99995</th>\n",
       "      <td>0.316380</td>\n",
       "      <td>0.202794</td>\n",
       "    </tr>\n",
       "    <tr>\n",
       "      <th>99996</th>\n",
       "      <td>0.349677</td>\n",
       "      <td>0.174278</td>\n",
       "    </tr>\n",
       "    <tr>\n",
       "      <th>99997</th>\n",
       "      <td>0.340891</td>\n",
       "      <td>0.192837</td>\n",
       "    </tr>\n",
       "    <tr>\n",
       "      <th>99998</th>\n",
       "      <td>0.329130</td>\n",
       "      <td>0.180336</td>\n",
       "    </tr>\n",
       "    <tr>\n",
       "      <th>99999</th>\n",
       "      <td>0.299103</td>\n",
       "      <td>0.165674</td>\n",
       "    </tr>\n",
       "  </tbody>\n",
       "</table>\n",
       "<p>100000 rows × 2 columns</p>\n",
       "</div>"
      ],
      "text/plain": [
       "         return      risk\n",
       "0      0.306625  0.171298\n",
       "1      0.331116  0.170531\n",
       "2      0.318565  0.172066\n",
       "3      0.306210  0.172008\n",
       "4      0.325355  0.184301\n",
       "...         ...       ...\n",
       "99995  0.316380  0.202794\n",
       "99996  0.349677  0.174278\n",
       "99997  0.340891  0.192837\n",
       "99998  0.329130  0.180336\n",
       "99999  0.299103  0.165674\n",
       "\n",
       "[100000 rows x 2 columns]"
      ]
     },
     "execution_count": 250,
     "metadata": {},
     "output_type": "execute_result"
    }
   ],
   "source": [
    "port_amount = len(port.columns)\n",
    "nop = 100_000\n",
    "\n",
    "np.random.seed(123) #just to make sure it consistenly generated random number\n",
    "matrix = np.random.random(port_amount * nop).reshape(nop,port_amount)\n",
    "norm_port = matrix / matrix.sum(axis = 1, keepdims = True)\n",
    "\n",
    "port_ret = ret.dot(norm_port.T)\n",
    "summary = annual_return(port_ret)\n",
    "\n",
    "summary"
   ]
  },
  {
   "cell_type": "markdown",
   "id": "bf3d289e-89c1-4b07-b2a0-96a4db67d4fb",
   "metadata": {},
   "source": [
    "### Caclulating Sharpe Ratio"
   ]
  },
  {
   "cell_type": "code",
   "execution_count": 251,
   "id": "9f09dda4-c1ee-43a4-ae49-02749c36d689",
   "metadata": {
    "tags": []
   },
   "outputs": [
    {
     "data": {
      "text/html": [
       "<div>\n",
       "<style scoped>\n",
       "    .dataframe tbody tr th:only-of-type {\n",
       "        vertical-align: middle;\n",
       "    }\n",
       "\n",
       "    .dataframe tbody tr th {\n",
       "        vertical-align: top;\n",
       "    }\n",
       "\n",
       "    .dataframe thead th {\n",
       "        text-align: right;\n",
       "    }\n",
       "</style>\n",
       "<table border=\"1\" class=\"dataframe\">\n",
       "  <thead>\n",
       "    <tr style=\"text-align: right;\">\n",
       "      <th></th>\n",
       "      <th>return</th>\n",
       "      <th>risk</th>\n",
       "      <th>sharpe</th>\n",
       "    </tr>\n",
       "  </thead>\n",
       "  <tbody>\n",
       "    <tr>\n",
       "      <th>BYAN.jk</th>\n",
       "      <td>0.796599</td>\n",
       "      <td>0.518369</td>\n",
       "      <td>1.414242</td>\n",
       "    </tr>\n",
       "    <tr>\n",
       "      <th>ARNA.jk</th>\n",
       "      <td>0.323322</td>\n",
       "      <td>0.279515</td>\n",
       "      <td>0.929544</td>\n",
       "    </tr>\n",
       "    <tr>\n",
       "      <th>AMRT.jk</th>\n",
       "      <td>0.419133</td>\n",
       "      <td>0.427828</td>\n",
       "      <td>0.831252</td>\n",
       "    </tr>\n",
       "    <tr>\n",
       "      <th>HEXA.jk</th>\n",
       "      <td>0.328193</td>\n",
       "      <td>0.331509</td>\n",
       "      <td>0.798448</td>\n",
       "    </tr>\n",
       "    <tr>\n",
       "      <th>MBAP.jk</th>\n",
       "      <td>0.346407</td>\n",
       "      <td>0.384377</td>\n",
       "      <td>0.736013</td>\n",
       "    </tr>\n",
       "    <tr>\n",
       "      <th>MTDL.jk</th>\n",
       "      <td>0.367132</td>\n",
       "      <td>0.433384</td>\n",
       "      <td>0.700608</td>\n",
       "    </tr>\n",
       "    <tr>\n",
       "      <th>MPMX.jk</th>\n",
       "      <td>0.356179</td>\n",
       "      <td>0.445415</td>\n",
       "      <td>0.657093</td>\n",
       "    </tr>\n",
       "    <tr>\n",
       "      <th>BSSR.jk</th>\n",
       "      <td>0.406111</td>\n",
       "      <td>0.523921</td>\n",
       "      <td>0.653936</td>\n",
       "    </tr>\n",
       "    <tr>\n",
       "      <th>APIC.jk</th>\n",
       "      <td>0.202286</td>\n",
       "      <td>0.248486</td>\n",
       "      <td>0.558528</td>\n",
       "    </tr>\n",
       "    <tr>\n",
       "      <th>MFIN.jk</th>\n",
       "      <td>0.248591</td>\n",
       "      <td>0.359311</td>\n",
       "      <td>0.515126</td>\n",
       "    </tr>\n",
       "    <tr>\n",
       "      <th>ITMG.jk</th>\n",
       "      <td>0.291980</td>\n",
       "      <td>0.443643</td>\n",
       "      <td>0.515008</td>\n",
       "    </tr>\n",
       "    <tr>\n",
       "      <th>INCO.jk</th>\n",
       "      <td>0.282378</td>\n",
       "      <td>0.478119</td>\n",
       "      <td>0.457789</td>\n",
       "    </tr>\n",
       "    <tr>\n",
       "      <th>ADRO.jk</th>\n",
       "      <td>0.256508</td>\n",
       "      <td>0.470862</td>\n",
       "      <td>0.409903</td>\n",
       "    </tr>\n",
       "    <tr>\n",
       "      <th>ADMF.jk</th>\n",
       "      <td>0.136821</td>\n",
       "      <td>0.197310</td>\n",
       "      <td>0.371603</td>\n",
       "    </tr>\n",
       "    <tr>\n",
       "      <th>UNTR.jk</th>\n",
       "      <td>0.101138</td>\n",
       "      <td>0.395858</td>\n",
       "      <td>0.095081</td>\n",
       "    </tr>\n",
       "  </tbody>\n",
       "</table>\n",
       "</div>"
      ],
      "text/plain": [
       "           return      risk    sharpe\n",
       "BYAN.jk  0.796599  0.518369  1.414242\n",
       "ARNA.jk  0.323322  0.279515  0.929544\n",
       "AMRT.jk  0.419133  0.427828  0.831252\n",
       "HEXA.jk  0.328193  0.331509  0.798448\n",
       "MBAP.jk  0.346407  0.384377  0.736013\n",
       "MTDL.jk  0.367132  0.433384  0.700608\n",
       "MPMX.jk  0.356179  0.445415  0.657093\n",
       "BSSR.jk  0.406111  0.523921  0.653936\n",
       "APIC.jk  0.202286  0.248486  0.558528\n",
       "MFIN.jk  0.248591  0.359311  0.515126\n",
       "ITMG.jk  0.291980  0.443643  0.515008\n",
       "INCO.jk  0.282378  0.478119  0.457789\n",
       "ADRO.jk  0.256508  0.470862  0.409903\n",
       "ADMF.jk  0.136821  0.197310  0.371603\n",
       "UNTR.jk  0.101138  0.395858  0.095081"
      ]
     },
     "execution_count": 251,
     "metadata": {},
     "output_type": "execute_result"
    }
   ],
   "source": [
    "annual_ret['sharpe'] = (annual_ret['return'].sub(rf[0])) / annual_ret['risk']\n",
    "annual_ret.sort_values('sharpe', ascending = False)"
   ]
  },
  {
   "cell_type": "code",
   "execution_count": 252,
   "id": "3282bc14-0b19-4a45-b29a-630a7d3a8259",
   "metadata": {
    "tags": []
   },
   "outputs": [
    {
     "data": {
      "text/html": [
       "<div>\n",
       "<style scoped>\n",
       "    .dataframe tbody tr th:only-of-type {\n",
       "        vertical-align: middle;\n",
       "    }\n",
       "\n",
       "    .dataframe tbody tr th {\n",
       "        vertical-align: top;\n",
       "    }\n",
       "\n",
       "    .dataframe thead th {\n",
       "        text-align: right;\n",
       "    }\n",
       "</style>\n",
       "<table border=\"1\" class=\"dataframe\">\n",
       "  <thead>\n",
       "    <tr style=\"text-align: right;\">\n",
       "      <th></th>\n",
       "      <th>return</th>\n",
       "      <th>risk</th>\n",
       "      <th>sharpe</th>\n",
       "    </tr>\n",
       "  </thead>\n",
       "  <tbody>\n",
       "    <tr>\n",
       "      <th>0</th>\n",
       "      <td>0.306625</td>\n",
       "      <td>0.171298</td>\n",
       "      <td>1.419306</td>\n",
       "    </tr>\n",
       "    <tr>\n",
       "      <th>1</th>\n",
       "      <td>0.331116</td>\n",
       "      <td>0.170531</td>\n",
       "      <td>1.569313</td>\n",
       "    </tr>\n",
       "    <tr>\n",
       "      <th>2</th>\n",
       "      <td>0.318565</td>\n",
       "      <td>0.172066</td>\n",
       "      <td>1.482370</td>\n",
       "    </tr>\n",
       "    <tr>\n",
       "      <th>3</th>\n",
       "      <td>0.306210</td>\n",
       "      <td>0.172008</td>\n",
       "      <td>1.411044</td>\n",
       "    </tr>\n",
       "    <tr>\n",
       "      <th>4</th>\n",
       "      <td>0.325355</td>\n",
       "      <td>0.184301</td>\n",
       "      <td>1.420804</td>\n",
       "    </tr>\n",
       "    <tr>\n",
       "      <th>...</th>\n",
       "      <td>...</td>\n",
       "      <td>...</td>\n",
       "      <td>...</td>\n",
       "    </tr>\n",
       "    <tr>\n",
       "      <th>99995</th>\n",
       "      <td>0.316380</td>\n",
       "      <td>0.202794</td>\n",
       "      <td>1.246980</td>\n",
       "    </tr>\n",
       "    <tr>\n",
       "      <th>99996</th>\n",
       "      <td>0.349677</td>\n",
       "      <td>0.174278</td>\n",
       "      <td>1.642066</td>\n",
       "    </tr>\n",
       "    <tr>\n",
       "      <th>99997</th>\n",
       "      <td>0.340891</td>\n",
       "      <td>0.192837</td>\n",
       "      <td>1.438478</td>\n",
       "    </tr>\n",
       "    <tr>\n",
       "      <th>99998</th>\n",
       "      <td>0.329130</td>\n",
       "      <td>0.180336</td>\n",
       "      <td>1.472972</td>\n",
       "    </tr>\n",
       "    <tr>\n",
       "      <th>99999</th>\n",
       "      <td>0.299103</td>\n",
       "      <td>0.165674</td>\n",
       "      <td>1.422088</td>\n",
       "    </tr>\n",
       "  </tbody>\n",
       "</table>\n",
       "<p>100000 rows × 3 columns</p>\n",
       "</div>"
      ],
      "text/plain": [
       "         return      risk    sharpe\n",
       "0      0.306625  0.171298  1.419306\n",
       "1      0.331116  0.170531  1.569313\n",
       "2      0.318565  0.172066  1.482370\n",
       "3      0.306210  0.172008  1.411044\n",
       "4      0.325355  0.184301  1.420804\n",
       "...         ...       ...       ...\n",
       "99995  0.316380  0.202794  1.246980\n",
       "99996  0.349677  0.174278  1.642066\n",
       "99997  0.340891  0.192837  1.438478\n",
       "99998  0.329130  0.180336  1.472972\n",
       "99999  0.299103  0.165674  1.422088\n",
       "\n",
       "[100000 rows x 3 columns]"
      ]
     },
     "execution_count": 252,
     "metadata": {},
     "output_type": "execute_result"
    }
   ],
   "source": [
    "summary['sharpe']= (summary['return'].sub(rf[0]))/summary['risk']\n",
    "summary"
   ]
  },
  {
   "cell_type": "code",
   "execution_count": 253,
   "id": "5d993aea-2158-42b2-b16f-b8a83e279e4a",
   "metadata": {
    "tags": []
   },
   "outputs": [
    {
     "data": {
      "text/html": [
       "<div>\n",
       "<style scoped>\n",
       "    .dataframe tbody tr th:only-of-type {\n",
       "        vertical-align: middle;\n",
       "    }\n",
       "\n",
       "    .dataframe tbody tr th {\n",
       "        vertical-align: top;\n",
       "    }\n",
       "\n",
       "    .dataframe thead th {\n",
       "        text-align: right;\n",
       "    }\n",
       "</style>\n",
       "<table border=\"1\" class=\"dataframe\">\n",
       "  <thead>\n",
       "    <tr style=\"text-align: right;\">\n",
       "      <th></th>\n",
       "      <th>return</th>\n",
       "      <th>risk</th>\n",
       "      <th>sharpe</th>\n",
       "    </tr>\n",
       "  </thead>\n",
       "  <tbody>\n",
       "    <tr>\n",
       "      <th>count</th>\n",
       "      <td>100000.000000</td>\n",
       "      <td>100000.000000</td>\n",
       "      <td>100000.000000</td>\n",
       "    </tr>\n",
       "    <tr>\n",
       "      <th>mean</th>\n",
       "      <td>0.324271</td>\n",
       "      <td>0.181551</td>\n",
       "      <td>1.444257</td>\n",
       "    </tr>\n",
       "    <tr>\n",
       "      <th>std</th>\n",
       "      <td>0.023606</td>\n",
       "      <td>0.012592</td>\n",
       "      <td>0.172203</td>\n",
       "    </tr>\n",
       "    <tr>\n",
       "      <th>min</th>\n",
       "      <td>0.241379</td>\n",
       "      <td>0.140731</td>\n",
       "      <td>0.733283</td>\n",
       "    </tr>\n",
       "    <tr>\n",
       "      <th>25%</th>\n",
       "      <td>0.307314</td>\n",
       "      <td>0.172706</td>\n",
       "      <td>1.321836</td>\n",
       "    </tr>\n",
       "    <tr>\n",
       "      <th>50%</th>\n",
       "      <td>0.324167</td>\n",
       "      <td>0.180691</td>\n",
       "      <td>1.444011</td>\n",
       "    </tr>\n",
       "    <tr>\n",
       "      <th>75%</th>\n",
       "      <td>0.340818</td>\n",
       "      <td>0.189598</td>\n",
       "      <td>1.565234</td>\n",
       "    </tr>\n",
       "    <tr>\n",
       "      <th>max</th>\n",
       "      <td>0.421098</td>\n",
       "      <td>0.257643</td>\n",
       "      <td>2.102249</td>\n",
       "    </tr>\n",
       "  </tbody>\n",
       "</table>\n",
       "</div>"
      ],
      "text/plain": [
       "              return           risk         sharpe\n",
       "count  100000.000000  100000.000000  100000.000000\n",
       "mean        0.324271       0.181551       1.444257\n",
       "std         0.023606       0.012592       0.172203\n",
       "min         0.241379       0.140731       0.733283\n",
       "25%         0.307314       0.172706       1.321836\n",
       "50%         0.324167       0.180691       1.444011\n",
       "75%         0.340818       0.189598       1.565234\n",
       "max         0.421098       0.257643       2.102249"
      ]
     },
     "execution_count": 253,
     "metadata": {},
     "output_type": "execute_result"
    }
   ],
   "source": [
    "summary.describe()"
   ]
  },
  {
   "cell_type": "markdown",
   "id": "69e54173-f608-4737-b5d8-b5a49d0229a3",
   "metadata": {},
   "source": [
    " ### Visualizing Sharpe Ratio"
   ]
  },
  {
   "cell_type": "code",
   "execution_count": 254,
   "id": "851ead0f-01d7-4e10-9610-1d02a3d7e303",
   "metadata": {
    "tags": []
   },
   "outputs": [
    {
     "data": {
      "image/png": "[encoded data removed]",
      "text/plain": [
       "<Figure size 1500x900 with 2 Axes>"
      ]
     },
     "metadata": {},
     "output_type": "display_data"
    }
   ],
   "source": [
    "plt.figure(figsize = (15,9))\n",
    "plt.scatter(summary.loc[:, \"risk\"], summary.loc[:, \"return\"], s = 30,\n",
    "            c =summary.loc[:,'sharpe'],cmap ='coolwarm', vmin = 0.76, vmax = 1.7, alpha = 0.7)\n",
    "plt.colorbar()\n",
    "plt.scatter(annual_ret.loc[:, \"risk\"], annual_ret.loc[:, \"return\"], s = 40, marker = \"D\",\n",
    "            c =annual_ret.loc[:,'sharpe'],cmap ='coolwarm', vmin = 0.76, vmax = 1.7, alpha = 0.7)\n",
    "for i in annual_ret.index:\n",
    "    plt.annotate(i, xy = ((annual_ret.loc[i, 'risk'] + 0.002, annual_ret.loc[i, 'return'] + 0.002)), size = 7)\n",
    "plt.xlabel('ann. Risk(std)', fontsize = 13)\n",
    "plt.ylabel('ann. Return(mean)', fontsize = 13)\n",
    "plt.show()"
   ]
  },
  {
   "cell_type": "markdown",
   "id": "24891d39-87fb-4c53-a450-d0b6e8faca21",
   "metadata": {},
   "source": [
    "## Finding the Optimum Porfolio - The Max Sharpe Ratio"
   ]
  },
  {
   "cell_type": "markdown",
   "id": "e78ec04b-265a-42f1-8a08-7c352b5d0b7e",
   "metadata": {},
   "source": [
    "### Checking 100K Random Porfolios"
   ]
  },
  {
   "cell_type": "code",
   "execution_count": 255,
   "id": "d1880f51-a90f-45f3-bf17-87ebbc61c889",
   "metadata": {
    "tags": []
   },
   "outputs": [
    {
     "data": {
      "text/html": [
       "<div>\n",
       "<style scoped>\n",
       "    .dataframe tbody tr th:only-of-type {\n",
       "        vertical-align: middle;\n",
       "    }\n",
       "\n",
       "    .dataframe tbody tr th {\n",
       "        vertical-align: top;\n",
       "    }\n",
       "\n",
       "    .dataframe thead th {\n",
       "        text-align: right;\n",
       "    }\n",
       "</style>\n",
       "<table border=\"1\" class=\"dataframe\">\n",
       "  <thead>\n",
       "    <tr style=\"text-align: right;\">\n",
       "      <th></th>\n",
       "      <th>return</th>\n",
       "      <th>risk</th>\n",
       "      <th>sharpe</th>\n",
       "    </tr>\n",
       "  </thead>\n",
       "  <tbody>\n",
       "    <tr>\n",
       "      <th>0</th>\n",
       "      <td>0.306625</td>\n",
       "      <td>0.171298</td>\n",
       "      <td>1.419306</td>\n",
       "    </tr>\n",
       "    <tr>\n",
       "      <th>1</th>\n",
       "      <td>0.331116</td>\n",
       "      <td>0.170531</td>\n",
       "      <td>1.569313</td>\n",
       "    </tr>\n",
       "    <tr>\n",
       "      <th>2</th>\n",
       "      <td>0.318565</td>\n",
       "      <td>0.172066</td>\n",
       "      <td>1.482370</td>\n",
       "    </tr>\n",
       "    <tr>\n",
       "      <th>3</th>\n",
       "      <td>0.306210</td>\n",
       "      <td>0.172008</td>\n",
       "      <td>1.411044</td>\n",
       "    </tr>\n",
       "    <tr>\n",
       "      <th>4</th>\n",
       "      <td>0.325355</td>\n",
       "      <td>0.184301</td>\n",
       "      <td>1.420804</td>\n",
       "    </tr>\n",
       "  </tbody>\n",
       "</table>\n",
       "</div>"
      ],
      "text/plain": [
       "     return      risk    sharpe\n",
       "0  0.306625  0.171298  1.419306\n",
       "1  0.331116  0.170531  1.569313\n",
       "2  0.318565  0.172066  1.482370\n",
       "3  0.306210  0.172008  1.411044\n",
       "4  0.325355  0.184301  1.420804"
      ]
     },
     "execution_count": 255,
     "metadata": {},
     "output_type": "execute_result"
    }
   ],
   "source": [
    "summary.head()"
   ]
  },
  {
   "cell_type": "code",
   "execution_count": 256,
   "id": "e59f9594-d788-468d-9a04-efde059a30d8",
   "metadata": {
    "tags": []
   },
   "outputs": [
    {
     "data": {
      "text/html": [
       "<div>\n",
       "<style scoped>\n",
       "    .dataframe tbody tr th:only-of-type {\n",
       "        vertical-align: middle;\n",
       "    }\n",
       "\n",
       "    .dataframe tbody tr th {\n",
       "        vertical-align: top;\n",
       "    }\n",
       "\n",
       "    .dataframe thead th {\n",
       "        text-align: right;\n",
       "    }\n",
       "</style>\n",
       "<table border=\"1\" class=\"dataframe\">\n",
       "  <thead>\n",
       "    <tr style=\"text-align: right;\">\n",
       "      <th></th>\n",
       "      <th>return</th>\n",
       "      <th>risk</th>\n",
       "      <th>sharpe</th>\n",
       "    </tr>\n",
       "  </thead>\n",
       "  <tbody>\n",
       "    <tr>\n",
       "      <th>count</th>\n",
       "      <td>100000.000000</td>\n",
       "      <td>100000.000000</td>\n",
       "      <td>100000.000000</td>\n",
       "    </tr>\n",
       "    <tr>\n",
       "      <th>mean</th>\n",
       "      <td>0.324271</td>\n",
       "      <td>0.181551</td>\n",
       "      <td>1.444257</td>\n",
       "    </tr>\n",
       "    <tr>\n",
       "      <th>std</th>\n",
       "      <td>0.023606</td>\n",
       "      <td>0.012592</td>\n",
       "      <td>0.172203</td>\n",
       "    </tr>\n",
       "    <tr>\n",
       "      <th>min</th>\n",
       "      <td>0.241379</td>\n",
       "      <td>0.140731</td>\n",
       "      <td>0.733283</td>\n",
       "    </tr>\n",
       "    <tr>\n",
       "      <th>25%</th>\n",
       "      <td>0.307314</td>\n",
       "      <td>0.172706</td>\n",
       "      <td>1.321836</td>\n",
       "    </tr>\n",
       "    <tr>\n",
       "      <th>50%</th>\n",
       "      <td>0.324167</td>\n",
       "      <td>0.180691</td>\n",
       "      <td>1.444011</td>\n",
       "    </tr>\n",
       "    <tr>\n",
       "      <th>75%</th>\n",
       "      <td>0.340818</td>\n",
       "      <td>0.189598</td>\n",
       "      <td>1.565234</td>\n",
       "    </tr>\n",
       "    <tr>\n",
       "      <th>max</th>\n",
       "      <td>0.421098</td>\n",
       "      <td>0.257643</td>\n",
       "      <td>2.102249</td>\n",
       "    </tr>\n",
       "  </tbody>\n",
       "</table>\n",
       "</div>"
      ],
      "text/plain": [
       "              return           risk         sharpe\n",
       "count  100000.000000  100000.000000  100000.000000\n",
       "mean        0.324271       0.181551       1.444257\n",
       "std         0.023606       0.012592       0.172203\n",
       "min         0.241379       0.140731       0.733283\n",
       "25%         0.307314       0.172706       1.321836\n",
       "50%         0.324167       0.180691       1.444011\n",
       "75%         0.340818       0.189598       1.565234\n",
       "max         0.421098       0.257643       2.102249"
      ]
     },
     "execution_count": 256,
     "metadata": {},
     "output_type": "execute_result"
    }
   ],
   "source": [
    "summary.describe()"
   ]
  },
  {
   "cell_type": "markdown",
   "id": "343722c7-784e-4e09-9aa3-f20678c3b579",
   "metadata": {},
   "source": [
    "### Finding Portfolio Index With The Highest Sharpe Ratio"
   ]
  },
  {
   "cell_type": "code",
   "execution_count": 257,
   "id": "8bf3ac61-5095-4618-a444-2bce3d11dff4",
   "metadata": {
    "tags": []
   },
   "outputs": [
    {
     "data": {
      "text/plain": [
       "15645"
      ]
     },
     "execution_count": 257,
     "metadata": {},
     "output_type": "execute_result"
    }
   ],
   "source": [
    "msrp = summary['sharpe'].idxmax()\n",
    "msrp"
   ]
  },
  {
   "cell_type": "code",
   "execution_count": 258,
   "id": "490b104f-1f9f-4e02-86cb-1ab389be66c9",
   "metadata": {
    "tags": []
   },
   "outputs": [
    {
     "data": {
      "text/plain": [
       "return    0.399726\n",
       "risk      0.159936\n",
       "sharpe    2.102249\n",
       "Name: 15645, dtype: float64"
      ]
     },
     "execution_count": 258,
     "metadata": {},
     "output_type": "execute_result"
    }
   ],
   "source": [
    "msrp_summary = summary.iloc[msrp, :]\n",
    "msrp_summary"
   ]
  },
  {
   "cell_type": "markdown",
   "id": "de6fb707-c399-4c9f-b692-0a3b9542b9c7",
   "metadata": {},
   "source": [
    "### Weight of The Portfoluo With The Highest Sharpe Ratio"
   ]
  },
  {
   "cell_type": "code",
   "execution_count": 259,
   "id": "12fdc91a-a64d-4b30-bb83-d32b5cf61014",
   "metadata": {
    "tags": []
   },
   "outputs": [
    {
     "data": {
      "text/plain": [
       "array([0.047078  , 0.01048264, 0.13782284, 0.05810723, 0.02223875,\n",
       "       0.04376761, 0.09118056, 0.0036949 , 0.05507581, 0.15798363,\n",
       "       0.052484  , 0.07241969, 0.04933775, 0.03798258, 0.16034403])"
      ]
     },
     "execution_count": 259,
     "metadata": {},
     "output_type": "execute_result"
    }
   ],
   "source": [
    "msrp_weight = norm_port[msrp,:]\n",
    "msrp_weight"
   ]
  },
  {
   "cell_type": "markdown",
   "id": "0cff0362-0198-432b-a335-85cfb7472d6f",
   "metadata": {},
   "source": [
    "#### Weight of Each Portfolios"
   ]
  },
  {
   "cell_type": "code",
   "execution_count": 260,
   "id": "7beacf84-b8df-4031-a676-f5a0ba9458b3",
   "metadata": {
    "tags": []
   },
   "outputs": [
    {
     "data": {
      "text/plain": [
       "ARNA.jk    0.160344\n",
       "BYAN.jk    0.157984\n",
       "AMRT.jk    0.137823\n",
       "MFIN.jk    0.091181\n",
       "BSSR.jk    0.072420\n",
       "MPMX.jk    0.058107\n",
       "MBAP.jk    0.055076\n",
       "MTDL.jk    0.052484\n",
       "ADMF.jk    0.049338\n",
       "ITMG.jk    0.047078\n",
       "HEXA.jk    0.043768\n",
       "INCO.jk    0.037983\n",
       "APIC.jk    0.022239\n",
       "ADRO.jk    0.010483\n",
       "UNTR.jk    0.003695\n",
       "dtype: float64"
      ]
     },
     "execution_count": 260,
     "metadata": {},
     "output_type": "execute_result"
    }
   ],
   "source": [
    "pd.Series(index = port.columns, data = msrp_weight).sort_values(ascending = False)"
   ]
  },
  {
   "cell_type": "markdown",
   "id": "f24b1d92-406b-4ad9-949a-ba66d061056b",
   "metadata": {},
   "source": [
    "# Appendix"
   ]
  },
  {
   "cell_type": "markdown",
   "id": "3902c166-3308-4e84-9731-14629dba8fa9",
   "metadata": {},
   "source": [
    "## Optimization portfolio"
   ]
  },
  {
   "cell_type": "code",
   "execution_count": 261,
   "id": "2d1f8541-ebbb-44ec-bf68-56aa6a8cb57a",
   "metadata": {
    "tags": []
   },
   "outputs": [],
   "source": [
    "import scipy.optimize as sco"
   ]
  },
  {
   "cell_type": "code",
   "execution_count": 262,
   "id": "33dfc992-d6bc-4ffa-86b7-1f930c79673d",
   "metadata": {
    "tags": []
   },
   "outputs": [
    {
     "data": {
      "text/html": [
       "<div>\n",
       "<style scoped>\n",
       "    .dataframe tbody tr th:only-of-type {\n",
       "        vertical-align: middle;\n",
       "    }\n",
       "\n",
       "    .dataframe tbody tr th {\n",
       "        vertical-align: top;\n",
       "    }\n",
       "\n",
       "    .dataframe thead th {\n",
       "        text-align: right;\n",
       "    }\n",
       "</style>\n",
       "<table border=\"1\" class=\"dataframe\">\n",
       "  <thead>\n",
       "    <tr style=\"text-align: right;\">\n",
       "      <th></th>\n",
       "      <th>ITMG.jk</th>\n",
       "      <th>ADRO.jk</th>\n",
       "      <th>AMRT.jk</th>\n",
       "      <th>MPMX.jk</th>\n",
       "      <th>APIC.jk</th>\n",
       "      <th>HEXA.jk</th>\n",
       "      <th>MFIN.jk</th>\n",
       "      <th>UNTR.jk</th>\n",
       "      <th>MBAP.jk</th>\n",
       "      <th>BYAN.jk</th>\n",
       "      <th>MTDL.jk</th>\n",
       "      <th>BSSR.jk</th>\n",
       "      <th>ADMF.jk</th>\n",
       "      <th>INCO.jk</th>\n",
       "      <th>ARNA.jk</th>\n",
       "    </tr>\n",
       "    <tr>\n",
       "      <th>Date</th>\n",
       "      <th></th>\n",
       "      <th></th>\n",
       "      <th></th>\n",
       "      <th></th>\n",
       "      <th></th>\n",
       "      <th></th>\n",
       "      <th></th>\n",
       "      <th></th>\n",
       "      <th></th>\n",
       "      <th></th>\n",
       "      <th></th>\n",
       "      <th></th>\n",
       "      <th></th>\n",
       "      <th></th>\n",
       "      <th></th>\n",
       "    </tr>\n",
       "  </thead>\n",
       "  <tbody>\n",
       "    <tr>\n",
       "      <th>2018-04-03</th>\n",
       "      <td>0.007094</td>\n",
       "      <td>-0.004695</td>\n",
       "      <td>-0.008547</td>\n",
       "      <td>0.000000</td>\n",
       "      <td>0.000000</td>\n",
       "      <td>0.000000</td>\n",
       "      <td>0.002933</td>\n",
       "      <td>-0.001555</td>\n",
       "      <td>-0.015723</td>\n",
       "      <td>0.0</td>\n",
       "      <td>-0.006329</td>\n",
       "      <td>-0.029787</td>\n",
       "      <td>0.014085</td>\n",
       "      <td>0.045296</td>\n",
       "      <td>0.054878</td>\n",
       "    </tr>\n",
       "    <tr>\n",
       "      <th>2018-04-04</th>\n",
       "      <td>-0.025023</td>\n",
       "      <td>-0.037736</td>\n",
       "      <td>-0.008621</td>\n",
       "      <td>-0.018633</td>\n",
       "      <td>0.000000</td>\n",
       "      <td>0.000000</td>\n",
       "      <td>-0.002924</td>\n",
       "      <td>-0.003115</td>\n",
       "      <td>0.000000</td>\n",
       "      <td>0.0</td>\n",
       "      <td>-0.019108</td>\n",
       "      <td>-0.013158</td>\n",
       "      <td>0.000000</td>\n",
       "      <td>-0.006667</td>\n",
       "      <td>-0.023121</td>\n",
       "    </tr>\n",
       "    <tr>\n",
       "      <th>2018-04-05</th>\n",
       "      <td>0.041825</td>\n",
       "      <td>-0.009804</td>\n",
       "      <td>0.008696</td>\n",
       "      <td>0.012658</td>\n",
       "      <td>-0.023529</td>\n",
       "      <td>-0.026667</td>\n",
       "      <td>0.008798</td>\n",
       "      <td>0.006250</td>\n",
       "      <td>0.012780</td>\n",
       "      <td>0.0</td>\n",
       "      <td>0.012987</td>\n",
       "      <td>0.044445</td>\n",
       "      <td>0.011111</td>\n",
       "      <td>0.000000</td>\n",
       "      <td>0.000000</td>\n",
       "    </tr>\n",
       "    <tr>\n",
       "      <th>2018-04-06</th>\n",
       "      <td>0.000000</td>\n",
       "      <td>0.004950</td>\n",
       "      <td>-0.017241</td>\n",
       "      <td>0.050000</td>\n",
       "      <td>0.000000</td>\n",
       "      <td>0.051370</td>\n",
       "      <td>-0.002907</td>\n",
       "      <td>0.000000</td>\n",
       "      <td>-0.009464</td>\n",
       "      <td>0.0</td>\n",
       "      <td>0.000000</td>\n",
       "      <td>-0.034043</td>\n",
       "      <td>-0.002747</td>\n",
       "      <td>-0.010067</td>\n",
       "      <td>0.000000</td>\n",
       "    </tr>\n",
       "    <tr>\n",
       "      <th>2018-04-09</th>\n",
       "      <td>0.000912</td>\n",
       "      <td>0.019704</td>\n",
       "      <td>-0.008772</td>\n",
       "      <td>-0.053571</td>\n",
       "      <td>0.000000</td>\n",
       "      <td>-0.016287</td>\n",
       "      <td>0.000000</td>\n",
       "      <td>0.070652</td>\n",
       "      <td>0.012739</td>\n",
       "      <td>0.0</td>\n",
       "      <td>0.012820</td>\n",
       "      <td>-0.004405</td>\n",
       "      <td>-0.002755</td>\n",
       "      <td>0.023729</td>\n",
       "      <td>0.018405</td>\n",
       "    </tr>\n",
       "  </tbody>\n",
       "</table>\n",
       "</div>"
      ],
      "text/plain": [
       "             ITMG.jk   ADRO.jk   AMRT.jk   MPMX.jk   APIC.jk   HEXA.jk   \n",
       "Date                                                                     \n",
       "2018-04-03  0.007094 -0.004695 -0.008547  0.000000  0.000000  0.000000  \\\n",
       "2018-04-04 -0.025023 -0.037736 -0.008621 -0.018633  0.000000  0.000000   \n",
       "2018-04-05  0.041825 -0.009804  0.008696  0.012658 -0.023529 -0.026667   \n",
       "2018-04-06  0.000000  0.004950 -0.017241  0.050000  0.000000  0.051370   \n",
       "2018-04-09  0.000912  0.019704 -0.008772 -0.053571  0.000000 -0.016287   \n",
       "\n",
       "             MFIN.jk   UNTR.jk   MBAP.jk  BYAN.jk   MTDL.jk   BSSR.jk   \n",
       "Date                                                                    \n",
       "2018-04-03  0.002933 -0.001555 -0.015723      0.0 -0.006329 -0.029787  \\\n",
       "2018-04-04 -0.002924 -0.003115  0.000000      0.0 -0.019108 -0.013158   \n",
       "2018-04-05  0.008798  0.006250  0.012780      0.0  0.012987  0.044445   \n",
       "2018-04-06 -0.002907  0.000000 -0.009464      0.0  0.000000 -0.034043   \n",
       "2018-04-09  0.000000  0.070652  0.012739      0.0  0.012820 -0.004405   \n",
       "\n",
       "             ADMF.jk   INCO.jk   ARNA.jk  \n",
       "Date                                      \n",
       "2018-04-03  0.014085  0.045296  0.054878  \n",
       "2018-04-04  0.000000 -0.006667 -0.023121  \n",
       "2018-04-05  0.011111  0.000000  0.000000  \n",
       "2018-04-06 -0.002747 -0.010067  0.000000  \n",
       "2018-04-09 -0.002755  0.023729  0.018405  "
      ]
     },
     "execution_count": 262,
     "metadata": {},
     "output_type": "execute_result"
    }
   ],
   "source": [
    "ret.head() #stocks daily return on the selected period"
   ]
  },
  {
   "cell_type": "code",
   "execution_count": 263,
   "id": "a1f5e365-43f8-4f00-8570-b34185ae79b7",
   "metadata": {
    "tags": []
   },
   "outputs": [
    {
     "data": {
      "text/plain": [
       "15"
      ]
     },
     "execution_count": 263,
     "metadata": {},
     "output_type": "execute_result"
    }
   ],
   "source": [
    "noa = len(ret.columns)\n",
    "noa # number of assests"
   ]
  },
  {
   "cell_type": "markdown",
   "id": "c11afb25-f9f4-4f29-b06d-bd49bfe6bff6",
   "metadata": {},
   "source": [
    "## Calculation of weights"
   ]
  },
  {
   "cell_type": "code",
   "execution_count": 264,
   "id": "d8b0a9fd-f9c9-40f8-a2e4-045a18281c74",
   "metadata": {
    "tags": []
   },
   "outputs": [],
   "source": [
    "#calculate annualized portfolio return (based on weights)\n",
    "def port_ret(weights):\n",
    "    return ret.dot(weights.T).mean() * 250"
   ]
  },
  {
   "cell_type": "code",
   "execution_count": 265,
   "id": "eab3b734-17ef-4a14-8e96-0fba52994f77",
   "metadata": {
    "tags": []
   },
   "outputs": [],
   "source": [
    "#calculate annualized portfolio volatility (based on weights)\n",
    "def port_vol(weights):\n",
    "    return ret.dot(weights.T).std() * np.sqrt(250)"
   ]
  },
  {
   "cell_type": "code",
   "execution_count": 266,
   "id": "3cce9d92-f0dc-45cd-be08-7673776e6b0a",
   "metadata": {
    "tags": []
   },
   "outputs": [],
   "source": [
    "#define function to be minimized (sco only supports minimize, not maximize)\n",
    "#-> maximize sharpe ratio == minimize sharpe ratio * (-1)\n",
    "\n",
    "def min_func_sharpe(weights):\n",
    "    port_return = port_ret(weights)\n",
    "    port_volatility = port_vol(weights)\n",
    "    sharpe_ratio = (port_return - rf[0]) / port_volatility\n",
    "    return -1 * sharpe_ratio"
   ]
  },
  {
   "cell_type": "markdown",
   "id": "8ede07a7-99a9-4762-a9a2-6e4f9f6bd5be",
   "metadata": {},
   "source": [
    "### Optimization Calculation "
   ]
  },
  {
   "cell_type": "code",
   "execution_count": 267,
   "id": "74eb1b59-b636-4beb-a99d-23c5d44327b1",
   "metadata": {
    "tags": []
   },
   "outputs": [
    {
     "data": {
      "text/plain": [
       "array([0.06666667, 0.06666667, 0.06666667, 0.06666667, 0.06666667,\n",
       "       0.06666667, 0.06666667, 0.06666667, 0.06666667, 0.06666667,\n",
       "       0.06666667, 0.06666667, 0.06666667, 0.06666667, 0.06666667])"
      ]
     },
     "execution_count": 267,
     "metadata": {},
     "output_type": "execute_result"
    }
   ],
   "source": [
    "eweight = np.full(noa , 1/noa)\n",
    "eweight"
   ]
  },
  {
   "cell_type": "code",
   "execution_count": 268,
   "id": "50250ec6-e859-4cd3-8379-33ee4a5dcddc",
   "metadata": {
    "tags": []
   },
   "outputs": [],
   "source": [
    "#constraint: weights must sum up to 1 -> sum of weights - 1 = 0\n",
    "cons = ({\"type\": \"eq\", \"fun\": lambda x: np.sum(x) - 1})"
   ]
  },
  {
   "cell_type": "code",
   "execution_count": 269,
   "id": "fcb163eb-ac95-4c01-bdfb-202d29db636a",
   "metadata": {
    "tags": []
   },
   "outputs": [],
   "source": [
    "#bounds: all weights shall be between 0 and 1 -> can be changed\n",
    "bnds =  tuple((0,1) for x in range(noa))"
   ]
  },
  {
   "cell_type": "code",
   "execution_count": 275,
   "id": "cf092e8f-f580-4f91-955f-f8a02aea03aa",
   "metadata": {
    "tags": []
   },
   "outputs": [
    {
     "data": {
      "text/plain": [
       " message: Optimization terminated successfully\n",
       " success: True\n",
       "  status: 0\n",
       "     fun: 0.09508062120432043\n",
       "       x: [ 2.756e-16  8.327e-16 ...  1.462e-16  0.000e+00]\n",
       "     nit: 4\n",
       "     jac: [ 6.854e-01  5.868e-01 ...  6.734e-01  8.141e-01]\n",
       "    nfev: 64\n",
       "    njev: 4"
      ]
     },
     "execution_count": 275,
     "metadata": {},
     "output_type": "execute_result"
    }
   ],
   "source": [
    "#run optimization based on function to be minimized, starting with equal weights and based on respective bounds and constraints\n",
    "result = sco.minimize(lambda x: -1 * min_func_sharpe(x), eweight, method=\"SLSQP\", bounds=bnds, constraints=cons)\n",
    "result"
   ]
  },
  {
   "cell_type": "code",
   "execution_count": 271,
   "id": "0c65eb0c-23a0-4ffb-a867-aacf8fa95f0d",
   "metadata": {
    "tags": []
   },
   "outputs": [],
   "source": [
    "optimum_weight = result['x']"
   ]
  },
  {
   "cell_type": "code",
   "execution_count": 272,
   "id": "67f9e110-804c-47fe-bc4c-255cb3aab0e6",
   "metadata": {
    "tags": []
   },
   "outputs": [
    {
     "data": {
      "text/plain": [
       "0.1011384571644854"
      ]
     },
     "execution_count": 272,
     "metadata": {},
     "output_type": "execute_result"
    }
   ],
   "source": [
    "port_ret(optimum_weight)"
   ]
  },
  {
   "cell_type": "code",
   "execution_count": 273,
   "id": "238dd51b-a956-4573-b7c5-af90828680ab",
   "metadata": {
    "tags": []
   },
   "outputs": [
    {
     "data": {
      "text/plain": [
       "0.39585834303295214"
      ]
     },
     "execution_count": 273,
     "metadata": {},
     "output_type": "execute_result"
    }
   ],
   "source": [
    "port_vol(optimum_weight)"
   ]
  },
  {
   "cell_type": "code",
   "execution_count": 274,
   "id": "9ff24451-b954-42ce-a1fb-602a0c1b688e",
   "metadata": {
    "tags": []
   },
   "outputs": [
    {
     "data": {
      "text/plain": [
       "0.09508062120431876"
      ]
     },
     "execution_count": 274,
     "metadata": {},
     "output_type": "execute_result"
    }
   ],
   "source": [
    "-min_func_sharpe(optimum_weight)"
   ]
  }
 ],
 "metadata": {
  "kernelspec": {
   "display_name": "Python 3 (ipykernel)",
   "language": "python",
   "name": "python3"
  },
  "language_info": {
   "codemirror_mode": {
    "name": "ipython",
    "version": 3
   },
   "file_extension": ".py",
   "mimetype": "text/x-python",
   "name": "python",
   "nbconvert_exporter": "python",
   "pygments_lexer": "ipython3",
   "version": "3.11.3"
  }
 },
 "nbformat": 4,
 "nbformat_minor": 5
}
